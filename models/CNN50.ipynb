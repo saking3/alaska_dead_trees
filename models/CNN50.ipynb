{
 "cells": [
  {
   "cell_type": "markdown",
   "id": "ce69700a-37f0-4a59-b6b4-b0dfa1b5a31b",
   "metadata": {},
   "source": [
    "This is a 53 layer CNN. "
   ]
  },
  {
   "cell_type": "markdown",
   "id": "b64ddf06-9c97-43da-bd56-8a9654307c80",
   "metadata": {},
   "source": [
    "# Loading in Data"
   ]
  },
  {
   "cell_type": "markdown",
   "id": "d5ba22d5-3adb-429b-866f-f2dca17e755b",
   "metadata": {},
   "source": [
    "Import Packages"
   ]
  },
  {
   "cell_type": "code",
   "execution_count": 15,
   "id": "d562fac9-1d4c-4509-aed8-9394efa2857e",
   "metadata": {},
   "outputs": [],
   "source": [
    "import torch\n",
    "import torch.nn as nn\n",
    "import torch.optim as optim\n",
    "from torchvision import transforms\n",
    "from torch.utils.data import DataLoader\n",
    "from PIL import Image\n",
    "import numpy as np\n",
    "from datasets import load_dataset, DatasetDict\n",
    "from tqdm import tqdm\n",
    "import matplotlib.pyplot as plt "
   ]
  },
  {
   "cell_type": "markdown",
   "id": "428adb0a-832e-41ca-8402-4aea417e4f64",
   "metadata": {},
   "source": [
    "Load in the training data from huggingface"
   ]
  },
  {
   "cell_type": "code",
   "execution_count": 3,
   "id": "3edff90e-38fc-4e45-bd58-8870e5bddbcf",
   "metadata": {},
   "outputs": [],
   "source": [
    "# Load your dataset\n",
    "dataset = load_dataset('saking3/alaska_dead_trees')\n",
    "training_size = 10\n",
    "random_indices = np.random.choice(len(dataset[\"train\"]), size=training_size, replace=False)\n",
    "train_subset = dataset[\"train\"].select(random_indices)\n",
    "subset_training_dataset = DatasetDict({\n",
    "    \"train\": train_subset,\n",
    "    \"validation\": dataset[\"validation\"],\n",
    "    \"test\": dataset[\"test\"]\n",
    "})"
   ]
  },
  {
   "cell_type": "markdown",
   "id": "bec4ec75-2b62-4dba-aa0f-1f14ff18a5ee",
   "metadata": {},
   "source": [
    "Transforms"
   ]
  },
  {
   "cell_type": "code",
   "execution_count": 4,
   "id": "5c3a9c58-2d6d-4a96-9b40-6a6194e79271",
   "metadata": {},
   "outputs": [],
   "source": [
    "# Transformations\n",
    "train_transform = transforms.Compose([\n",
    "    transforms.Resize((448, 448)),\n",
    "    transforms.ToTensor(),\n",
    "    transforms.Normalize(mean=[0.485, 0.456, 0.406], std=[0.229, 0.224, 0.225])\n",
    "])\n",
    "\n",
    "val_transform = transforms.Compose([\n",
    "    transforms.Resize((448, 448)),\n",
    "    transforms.ToTensor(),\n",
    "    transforms.Normalize(mean=[0.485, 0.456, 0.406], std=[0.229, 0.224, 0.225])\n",
    "])"
   ]
  },
  {
   "cell_type": "markdown",
   "id": "86d8655b-c5d6-4fe8-b507-726c9f900522",
   "metadata": {},
   "source": [
    "Create Dataset nd Dataloaders to feed into model"
   ]
  },
  {
   "cell_type": "code",
   "execution_count": 5,
   "id": "d04c01c7-8239-46f8-9e10-46b165263eb9",
   "metadata": {},
   "outputs": [],
   "source": [
    "# Add mask resizing to match image dimensions\n",
    "def mask_transform(mask):\n",
    "    return torch.tensor(np.array(mask.resize((448, 448))), dtype=torch.float).unsqueeze(0)\n",
    "\n",
    "class ForestDataset(torch.utils.data.Dataset):\n",
    "    def __init__(self, dataset, transform=None, mask_transform=None):\n",
    "        self.dataset = dataset\n",
    "        self.transform = transform\n",
    "        self.mask_transform = mask_transform\n",
    "\n",
    "    def __getitem__(self, idx):\n",
    "        sample = self.dataset[idx]\n",
    "        image = sample['image']\n",
    "        mask = sample['label']\n",
    "\n",
    "        if isinstance(image, np.ndarray):\n",
    "            image = Image.fromarray(image)\n",
    "        \n",
    "        if self.transform:\n",
    "            image = self.transform(image)\n",
    "\n",
    "        if self.mask_transform:\n",
    "            mask = self.mask_transform(mask)\n",
    "\n",
    "        return image, mask\n",
    "\n",
    "    def __len__(self):\n",
    "        return len(self.dataset)"
   ]
  },
  {
   "cell_type": "code",
   "execution_count": 6,
   "id": "038af9ec-18fe-4eb5-84dd-651fb04f1c25",
   "metadata": {},
   "outputs": [],
   "source": [
    "train_dataset = ForestDataset(subset_training_dataset['train'], transform=train_transform,\n",
    "                              mask_transform=mask_transform)\n",
    "val_dataset = ForestDataset(subset_training_dataset['validation'], transform=val_transform, \n",
    "                            mask_transform=mask_transform)\n",
    "test_dataset = ForestDataset(subset_training_dataset['test'], transform=val_transform, \n",
    "                             mask_transform=mask_transform)\n",
    "\n",
    "train_loader = DataLoader(train_dataset, batch_size=2, shuffle=True)\n",
    "val_loader = DataLoader(val_dataset, batch_size=2, shuffle=False)\n",
    "test_loader = DataLoader(test_dataset, batch_size=2, shuffle=False)"
   ]
  },
  {
   "cell_type": "markdown",
   "id": "3a139a36-03f7-47fc-baa6-e82ce9773df0",
   "metadata": {},
   "source": [
    "# Training the Model"
   ]
  },
  {
   "cell_type": "markdown",
   "id": "6d6fb8f3-a80a-4fc1-b07e-4329b9588dc6",
   "metadata": {},
   "source": [
    "Structure:\n",
    "\n",
    "Initial Convolutional Block\n",
    "\n",
    "Residual Blocks\n",
    "- 1x1 convolution that reduces dimensionality + 3x3 convolution + 1x1 convolution that restores dimensionality\n",
    "- batch normalization and ReLU activation after each convolution\n",
    "- input added to the output, preventing vanishing gradients (reduce overfitting)\n",
    "\n",
    "Final 1x1 convolution to reduce the feature maps to the desired number of output classes (our task is binary, so num_classes=1)"
   ]
  },
  {
   "cell_type": "code",
   "execution_count": 7,
   "id": "ccf10b88-2614-4930-ad54-5f667dc2a8b5",
   "metadata": {},
   "outputs": [],
   "source": [
    "# CNN using residual network to prevent overfitting\n",
    "class CNN50(nn.Module):\n",
    "    def __init__(self, num_classes=1):\n",
    "        super(CNN50, self).__init__()\n",
    "        \n",
    "        # ResNet blocks\n",
    "        self.conv1 = nn.Conv2d(3, 64, kernel_size=7, stride=2, padding=3)\n",
    "        self.bn1 = nn.BatchNorm2d(64)\n",
    "        self.relu = nn.ReLU(inplace=True)\n",
    "        self.maxpool = nn.MaxPool2d(kernel_size=3, stride=2, padding=1)\n",
    "\n",
    "        self.layer1 = self._make_layer(64, 64, 3)\n",
    "        self.layer2 = self._make_layer(256, 128, 4, stride=2)\n",
    "        self.layer3 = self._make_layer(512, 256, 6, stride=2)\n",
    "        self.layer4 = self._make_layer(1024, 512, 3, stride=2)\n",
    "        \n",
    "        # Final convolutional layer for binary segmentation\n",
    "        self.conv_final = nn.Conv2d(2048, num_classes, kernel_size=1)\n",
    "        \n",
    "    def _make_layer(self, in_channels, out_channels, blocks, stride=1):\n",
    "        layers = []\n",
    "        layers.append(self._make_block(in_channels, out_channels, stride))\n",
    "        for _ in range(1, blocks):\n",
    "            layers.append(self._make_block(out_channels * 4, out_channels))\n",
    "        return nn.Sequential(*layers)\n",
    "    \n",
    "    def _make_block(self, in_channels, out_channels, stride=1):\n",
    "        return nn.Sequential(\n",
    "            nn.Conv2d(in_channels, out_channels, kernel_size=1, stride=stride, bias=False),\n",
    "            nn.BatchNorm2d(out_channels),\n",
    "            nn.ReLU(inplace=True),\n",
    "            nn.Conv2d(out_channels, out_channels, kernel_size=3, stride=1, padding=1, bias=False),\n",
    "            nn.BatchNorm2d(out_channels),\n",
    "            nn.ReLU(inplace=True),\n",
    "            nn.Conv2d(out_channels, out_channels * 4, kernel_size=1, bias=False),\n",
    "            nn.BatchNorm2d(out_channels * 4),\n",
    "            nn.ReLU(inplace=True)\n",
    "        )\n",
    "    \n",
    "    def forward(self, x):\n",
    "        x = self.conv1(x)\n",
    "        x = self.bn1(x)\n",
    "        x = self.relu(x)\n",
    "        x = self.maxpool(x)\n",
    "        \n",
    "        x = self.layer1(x)\n",
    "        x = self.layer2(x)\n",
    "        x = self.layer3(x)\n",
    "        x = self.layer4(x)\n",
    "        \n",
    "        x = self.conv_final(x)\n",
    "        x = nn.functional.interpolate(x, scale_factor=32, mode='bilinear', align_corners=True)  # Upsample to original image size\n",
    "        \n",
    "        return x"
   ]
  },
  {
   "cell_type": "markdown",
   "id": "16acb49c-6e8f-4e03-80cf-c55aaf29dd02",
   "metadata": {},
   "source": [
    "We can instantiate the model as follows:"
   ]
  },
  {
   "cell_type": "code",
   "execution_count": 8,
   "id": "89eae4c0-11e0-4869-803f-2a88962b3a35",
   "metadata": {},
   "outputs": [],
   "source": [
    "# Initialize the model\n",
    "device = torch.device(\"cuda:0\" if torch.cuda.is_available() else \"cpu\")\n",
    "model = CNN50(num_classes=1).to(device)\n",
    "\n",
    "# Loss and optimizer\n",
    "criterion = nn.BCEWithLogitsLoss()\n",
    "optimizer = optim.Adam(model.parameters(), lr=1e-4)\n",
    "\n",
    "num_epochs = 30"
   ]
  },
  {
   "cell_type": "markdown",
   "id": "c63b16ac-0748-490f-b98f-ed7c1d600f5c",
   "metadata": {},
   "source": [
    "Train the model. It's set to print stats per epoch. "
   ]
  },
  {
   "cell_type": "code",
   "execution_count": 9,
   "id": "265ee1ca-072d-4d6b-86c7-f18aa96dd599",
   "metadata": {},
   "outputs": [
    {
     "name": "stderr",
     "output_type": "stream",
     "text": [
      "Epoch 1/30: 100%|██████████| 5/5 [00:00<00:00,  7.49batch/s, loss=0.462]\n"
     ]
    },
    {
     "name": "stdout",
     "output_type": "stream",
     "text": [
      "Epoch [1/30], Average Loss: 0.5565\n"
     ]
    },
    {
     "name": "stderr",
     "output_type": "stream",
     "text": [
      "Epoch 2/30: 100%|██████████| 5/5 [00:00<00:00, 21.54batch/s, loss=0.334]\n"
     ]
    },
    {
     "name": "stdout",
     "output_type": "stream",
     "text": [
      "Epoch [2/30], Average Loss: 0.4107\n"
     ]
    },
    {
     "name": "stderr",
     "output_type": "stream",
     "text": [
      "Epoch 3/30: 100%|██████████| 5/5 [00:00<00:00, 21.35batch/s, loss=0.238]\n"
     ]
    },
    {
     "name": "stdout",
     "output_type": "stream",
     "text": [
      "Epoch [3/30], Average Loss: 0.3423\n"
     ]
    },
    {
     "name": "stderr",
     "output_type": "stream",
     "text": [
      "Epoch 4/30: 100%|██████████| 5/5 [00:00<00:00, 20.97batch/s, loss=0.36] \n"
     ]
    },
    {
     "name": "stdout",
     "output_type": "stream",
     "text": [
      "Epoch [4/30], Average Loss: 0.3044\n"
     ]
    },
    {
     "name": "stderr",
     "output_type": "stream",
     "text": [
      "Epoch 5/30: 100%|██████████| 5/5 [00:00<00:00, 22.14batch/s, loss=0.421]\n"
     ]
    },
    {
     "name": "stdout",
     "output_type": "stream",
     "text": [
      "Epoch [5/30], Average Loss: 0.3025\n"
     ]
    },
    {
     "name": "stderr",
     "output_type": "stream",
     "text": [
      "Epoch 6/30: 100%|██████████| 5/5 [00:00<00:00, 22.36batch/s, loss=0.244]\n"
     ]
    },
    {
     "name": "stdout",
     "output_type": "stream",
     "text": [
      "Epoch [6/30], Average Loss: 0.2950\n"
     ]
    },
    {
     "name": "stderr",
     "output_type": "stream",
     "text": [
      "Epoch 7/30: 100%|██████████| 5/5 [00:00<00:00, 15.90batch/s, loss=0.124]\n"
     ]
    },
    {
     "name": "stdout",
     "output_type": "stream",
     "text": [
      "Epoch [7/30], Average Loss: 0.2820\n"
     ]
    },
    {
     "name": "stderr",
     "output_type": "stream",
     "text": [
      "Epoch 8/30: 100%|██████████| 5/5 [00:00<00:00, 21.00batch/s, loss=0.213]\n"
     ]
    },
    {
     "name": "stdout",
     "output_type": "stream",
     "text": [
      "Epoch [8/30], Average Loss: 0.2705\n"
     ]
    },
    {
     "name": "stderr",
     "output_type": "stream",
     "text": [
      "Epoch 9/30: 100%|██████████| 5/5 [00:00<00:00, 22.07batch/s, loss=0.239]\n"
     ]
    },
    {
     "name": "stdout",
     "output_type": "stream",
     "text": [
      "Epoch [9/30], Average Loss: 0.2642\n"
     ]
    },
    {
     "name": "stderr",
     "output_type": "stream",
     "text": [
      "Epoch 10/30: 100%|██████████| 5/5 [00:00<00:00, 21.24batch/s, loss=0.164]\n"
     ]
    },
    {
     "name": "stdout",
     "output_type": "stream",
     "text": [
      "Epoch [10/30], Average Loss: 0.2697\n"
     ]
    },
    {
     "name": "stderr",
     "output_type": "stream",
     "text": [
      "Epoch 11/30: 100%|██████████| 5/5 [00:00<00:00, 21.53batch/s, loss=0.239]\n"
     ]
    },
    {
     "name": "stdout",
     "output_type": "stream",
     "text": [
      "Epoch [11/30], Average Loss: 0.2421\n"
     ]
    },
    {
     "name": "stderr",
     "output_type": "stream",
     "text": [
      "Epoch 12/30: 100%|██████████| 5/5 [00:00<00:00, 20.58batch/s, loss=0.667]\n"
     ]
    },
    {
     "name": "stdout",
     "output_type": "stream",
     "text": [
      "Epoch [12/30], Average Loss: 0.2841\n"
     ]
    },
    {
     "name": "stderr",
     "output_type": "stream",
     "text": [
      "Epoch 13/30: 100%|██████████| 5/5 [00:00<00:00, 22.34batch/s, loss=0.227]\n"
     ]
    },
    {
     "name": "stdout",
     "output_type": "stream",
     "text": [
      "Epoch [13/30], Average Loss: 0.2928\n"
     ]
    },
    {
     "name": "stderr",
     "output_type": "stream",
     "text": [
      "Epoch 14/30: 100%|██████████| 5/5 [00:00<00:00, 20.59batch/s, loss=0.527]\n"
     ]
    },
    {
     "name": "stdout",
     "output_type": "stream",
     "text": [
      "Epoch [14/30], Average Loss: 0.2954\n"
     ]
    },
    {
     "name": "stderr",
     "output_type": "stream",
     "text": [
      "Epoch 15/30: 100%|██████████| 5/5 [00:00<00:00, 20.89batch/s, loss=0.635]\n"
     ]
    },
    {
     "name": "stdout",
     "output_type": "stream",
     "text": [
      "Epoch [15/30], Average Loss: 0.2695\n"
     ]
    },
    {
     "name": "stderr",
     "output_type": "stream",
     "text": [
      "Epoch 16/30: 100%|██████████| 5/5 [00:00<00:00, 22.37batch/s, loss=0.371]\n"
     ]
    },
    {
     "name": "stdout",
     "output_type": "stream",
     "text": [
      "Epoch [16/30], Average Loss: 0.2436\n"
     ]
    },
    {
     "name": "stderr",
     "output_type": "stream",
     "text": [
      "Epoch 17/30: 100%|██████████| 5/5 [00:00<00:00, 22.72batch/s, loss=0.196]\n"
     ]
    },
    {
     "name": "stdout",
     "output_type": "stream",
     "text": [
      "Epoch [17/30], Average Loss: 0.2320\n"
     ]
    },
    {
     "name": "stderr",
     "output_type": "stream",
     "text": [
      "Epoch 18/30: 100%|██████████| 5/5 [00:00<00:00, 23.04batch/s, loss=0.237]\n"
     ]
    },
    {
     "name": "stdout",
     "output_type": "stream",
     "text": [
      "Epoch [18/30], Average Loss: 0.2443\n"
     ]
    },
    {
     "name": "stderr",
     "output_type": "stream",
     "text": [
      "Epoch 19/30: 100%|██████████| 5/5 [00:00<00:00, 22.90batch/s, loss=0.358]\n"
     ]
    },
    {
     "name": "stdout",
     "output_type": "stream",
     "text": [
      "Epoch [19/30], Average Loss: 0.2702\n"
     ]
    },
    {
     "name": "stderr",
     "output_type": "stream",
     "text": [
      "Epoch 20/30: 100%|██████████| 5/5 [00:00<00:00, 20.16batch/s, loss=0.153] \n"
     ]
    },
    {
     "name": "stdout",
     "output_type": "stream",
     "text": [
      "Epoch [20/30], Average Loss: 0.2886\n"
     ]
    },
    {
     "name": "stderr",
     "output_type": "stream",
     "text": [
      "Epoch 21/30: 100%|██████████| 5/5 [00:00<00:00, 21.81batch/s, loss=0.362]\n"
     ]
    },
    {
     "name": "stdout",
     "output_type": "stream",
     "text": [
      "Epoch [21/30], Average Loss: 0.2840\n"
     ]
    },
    {
     "name": "stderr",
     "output_type": "stream",
     "text": [
      "Epoch 22/30: 100%|██████████| 5/5 [00:00<00:00, 21.65batch/s, loss=0.242]\n"
     ]
    },
    {
     "name": "stdout",
     "output_type": "stream",
     "text": [
      "Epoch [22/30], Average Loss: 0.2413\n"
     ]
    },
    {
     "name": "stderr",
     "output_type": "stream",
     "text": [
      "Epoch 23/30: 100%|██████████| 5/5 [00:00<00:00, 23.02batch/s, loss=0.102]\n"
     ]
    },
    {
     "name": "stdout",
     "output_type": "stream",
     "text": [
      "Epoch [23/30], Average Loss: 0.2452\n"
     ]
    },
    {
     "name": "stderr",
     "output_type": "stream",
     "text": [
      "Epoch 24/30: 100%|██████████| 5/5 [00:00<00:00, 22.57batch/s, loss=0.115]\n"
     ]
    },
    {
     "name": "stdout",
     "output_type": "stream",
     "text": [
      "Epoch [24/30], Average Loss: 0.2233\n"
     ]
    },
    {
     "name": "stderr",
     "output_type": "stream",
     "text": [
      "Epoch 25/30: 100%|██████████| 5/5 [00:00<00:00, 17.10batch/s, loss=0.39] \n"
     ]
    },
    {
     "name": "stdout",
     "output_type": "stream",
     "text": [
      "Epoch [25/30], Average Loss: 0.2294\n"
     ]
    },
    {
     "name": "stderr",
     "output_type": "stream",
     "text": [
      "Epoch 26/30: 100%|██████████| 5/5 [00:00<00:00, 22.81batch/s, loss=0.215]\n"
     ]
    },
    {
     "name": "stdout",
     "output_type": "stream",
     "text": [
      "Epoch [26/30], Average Loss: 0.2010\n"
     ]
    },
    {
     "name": "stderr",
     "output_type": "stream",
     "text": [
      "Epoch 27/30: 100%|██████████| 5/5 [00:00<00:00, 20.66batch/s, loss=0.204]\n"
     ]
    },
    {
     "name": "stdout",
     "output_type": "stream",
     "text": [
      "Epoch [27/30], Average Loss: 0.2374\n"
     ]
    },
    {
     "name": "stderr",
     "output_type": "stream",
     "text": [
      "Epoch 28/30: 100%|██████████| 5/5 [00:00<00:00, 23.11batch/s, loss=0.308]\n"
     ]
    },
    {
     "name": "stdout",
     "output_type": "stream",
     "text": [
      "Epoch [28/30], Average Loss: 0.2122\n"
     ]
    },
    {
     "name": "stderr",
     "output_type": "stream",
     "text": [
      "Epoch 29/30: 100%|██████████| 5/5 [00:00<00:00, 21.64batch/s, loss=0.268]\n"
     ]
    },
    {
     "name": "stdout",
     "output_type": "stream",
     "text": [
      "Epoch [29/30], Average Loss: 0.2140\n"
     ]
    },
    {
     "name": "stderr",
     "output_type": "stream",
     "text": [
      "Epoch 30/30: 100%|██████████| 5/5 [00:00<00:00, 19.93batch/s, loss=0.383] "
     ]
    },
    {
     "name": "stdout",
     "output_type": "stream",
     "text": [
      "Epoch [30/30], Average Loss: 0.2049\n"
     ]
    },
    {
     "name": "stderr",
     "output_type": "stream",
     "text": [
      "\n"
     ]
    }
   ],
   "source": [
    "#Training loop\n",
    "\n",
    "for epoch in range(num_epochs):\n",
    "    model.train()\n",
    "    epoch_loss = 0\n",
    "    with tqdm(train_loader, unit='batch') as tepoch:\n",
    "        for images, masks in tepoch:\n",
    "            images = images.to(device)\n",
    "            masks = masks.to(device)\n",
    "\n",
    "            outputs = model(images)\n",
    "            loss = criterion(outputs, masks)\n",
    "            epoch_loss += loss.item()\n",
    "\n",
    "            optimizer.zero_grad()\n",
    "            loss.backward()\n",
    "            optimizer.step()\n",
    "\n",
    "            tepoch.set_description(f'Epoch {epoch+1}/{num_epochs}')\n",
    "            tepoch.set_postfix(loss=loss.item())\n",
    "\n",
    "    print(f'Epoch [{epoch+1}/{num_epochs}], Average Loss: {epoch_loss / len(train_loader):.4f}')"
   ]
  },
  {
   "cell_type": "markdown",
   "id": "f9c9385d-78bd-4bef-8bee-1c05edce1f68",
   "metadata": {},
   "source": [
    "Save the trained model so it can be used to run predictions."
   ]
  },
  {
   "cell_type": "code",
   "execution_count": 10,
   "id": "4e92090d-a4eb-47ad-8334-1eccde7203f9",
   "metadata": {},
   "outputs": [],
   "source": [
    "# Save the model\n",
    "torch.save(model.state_dict(), '/explore/nobackup/people/sking11/CNN50_model_checkpoint_10.pth')\n",
    "torch.save(model, '/explore/nobackup/people/sking11/CNN50_model_10.pth')"
   ]
  },
  {
   "cell_type": "markdown",
   "id": "6ffa3790-8c3a-42b9-b9db-e2e5b415cb48",
   "metadata": {},
   "source": [
    "# Do Inference"
   ]
  },
  {
   "cell_type": "code",
   "execution_count": 61,
   "id": "5b7abdd2-e619-4561-aa74-bb9c3e93688c",
   "metadata": {},
   "outputs": [
    {
     "name": "stderr",
     "output_type": "stream",
     "text": [
      "/tmp/ipykernel_3421085/1097221471.py:2: FutureWarning: You are using `torch.load` with `weights_only=False` (the current default value), which uses the default pickle module implicitly. It is possible to construct malicious pickle data which will execute arbitrary code during unpickling (See https://github.com/pytorch/pytorch/blob/main/SECURITY.md#untrusted-models for more details). In a future release, the default value for `weights_only` will be flipped to `True`. This limits the functions that could be executed during unpickling. Arbitrary objects will no longer be allowed to be loaded via this mode unless they are explicitly allowlisted by the user via `torch.serialization.add_safe_globals`. We recommend you start setting `weights_only=True` for any use case where you don't have full control of the loaded file. Please open an issue on GitHub for any issues related to this experimental feature.\n",
      "  model = torch.load('/explore/nobackup/people/sking11/CNN50_model_5000.pth')\n"
     ]
    }
   ],
   "source": [
    "# Load the entire model\n",
    "model = torch.load('/explore/nobackup/people/sking11/CNN50_model_5000.pth')\n",
    "model.eval()\n",
    "device = torch.device(\"cuda:0\" if torch.cuda.is_available() else \"cpu\")\n",
    "model = model.to(device)"
   ]
  },
  {
   "cell_type": "code",
   "execution_count": 62,
   "id": "4cf4add6-a24f-47ce-8125-f1a5e329014b",
   "metadata": {},
   "outputs": [
    {
     "name": "stdout",
     "output_type": "stream",
     "text": [
      "torch.Size([3, 448, 448])\n",
      "torch.Size([1, 3, 448, 448])\n"
     ]
    },
    {
     "name": "stderr",
     "output_type": "stream",
     "text": [
      "/tmp/ipykernel_3421085/4093021473.py:8: UserWarning: To copy construct from a tensor, it is recommended to use sourceTensor.clone().detach() or sourceTensor.clone().detach().requires_grad_(True), rather than torch.tensor(sourceTensor).\n",
      "  pixel_values = torch.tensor(val_image).permute(0, 1, 2)\n"
     ]
    }
   ],
   "source": [
    "# Extract the image from the dataset\n",
    "val_image, _ = val_dataset[300]  # Change index as needed\n",
    "\n",
    "# Check the shape of val_image\n",
    "print(val_image.shape)  # Should be [height, width, num_channels]\n",
    "\n",
    "# Convert to tensor and permute to [num_channels, height, width]\n",
    "pixel_values = torch.tensor(val_image).permute(0, 1, 2)  \n",
    "\n",
    "# Add the batch dimension\n",
    "pixel_values = pixel_values.unsqueeze(0)  # Final shape should be [1, 3, 448, 448]\n",
    "\n",
    "# Verify the shape\n",
    "print(pixel_values.shape)  # Should be [1, 3, 448, 448]"
   ]
  },
  {
   "cell_type": "code",
   "execution_count": 63,
   "id": "ce0b529b-d131-4c1e-9a30-b12b69ee4380",
   "metadata": {},
   "outputs": [
    {
     "data": {
      "image/png": "[encoded data removed]",
      "text/plain": [
       "<Figure size 1000x500 with 2 Axes>"
      ]
     },
     "metadata": {},
     "output_type": "display_data"
    }
   ],
   "source": [
    "model.eval()  # Set the model to evaluation mode\n",
    "\n",
    "with torch.no_grad():\n",
    "    outputs = model(pixel_values.to(device))  # Forward pass through the model\n",
    "\n",
    "# Upsample the output to match the original image size, if necessary\n",
    "upsampled_logits = torch.nn.functional.interpolate(outputs,\n",
    "                                                   size=(448, 448),\n",
    "                                                   mode='bilinear', align_corners=False)\n",
    "\n",
    "# Convert the logits to probabilities\n",
    "predicted_probabilities = torch.sigmoid(upsampled_logits).squeeze().cpu().numpy()\n",
    "\n",
    "# Convert probabilities to binary mask\n",
    "predicted_binary_mask = (predicted_probabilities > 0.5).astype(np.uint8)\n",
    "\n",
    "# Plot both the probability map and the binary mask side-by-side\n",
    "plt.figure(figsize=(10, 5))\n",
    "\n",
    "# Plot the probability map\n",
    "plt.subplot(1, 2, 1)\n",
    "plt.imshow(predicted_probabilities, cmap='gray')\n",
    "plt.title('Probability Map')\n",
    "plt.axis('off')\n",
    "\n",
    "# Plot the binary mask\n",
    "plt.subplot(1, 2, 2)\n",
    "plt.imshow(predicted_binary_mask, cmap='gray')\n",
    "plt.title('Binary Mask')\n",
    "plt.axis('off')\n",
    "\n",
    "plt.show()"
   ]
  },
  {
   "cell_type": "code",
   "execution_count": 64,
   "id": "cc8da03f-2606-4c2a-b3e0-d55d100cc921",
   "metadata": {},
   "outputs": [],
   "source": [
    "binary_mask_image = Image.fromarray(predicted_binary_mask * 255)  # Scale binary mask to 0-255\n",
    "binary_mask_image.save('/explore/nobackup/people/sking11/saved_figures/predictedmaskCNN50_5000.png')"
   ]
  },
  {
   "cell_type": "code",
   "execution_count": 65,
   "id": "ff6bd235-70f3-4f7f-9b0f-1c6274835a22",
   "metadata": {},
   "outputs": [
    {
     "name": "stderr",
     "output_type": "stream",
     "text": [
      "Running predictions: 100%|██████████| 327/327 [00:11<00:00, 27.86it/s]\n"
     ]
    }
   ],
   "source": [
    "model.eval()  # Set the model to evaluation mode\n",
    "predicted_arrays = []  # List to store the predicted arrays\n",
    "\n",
    "with torch.no_grad():\n",
    "    for i, (images, _) in enumerate(tqdm(val_loader, desc=\"Running predictions\")):\n",
    "        images = images.to(device)\n",
    "        outputs = model(images)\n",
    "        \n",
    "        # Iterate through each image in the batch\n",
    "        for j in range(outputs.size(0)):\n",
    "            predicted_map = outputs[j].squeeze(0)  # Assuming it's a single-channel output\n",
    "            predicted_map_np = predicted_map.cpu().numpy()\n",
    "            \n",
    "            # Apply threshold to convert to binary\n",
    "            predicted_map_np = (predicted_map_np > 0.5).astype(np.uint8)\n",
    "            \n",
    "            # Optionally, convert to 8-bit integers if needed\n",
    "            # predicted_map_np = (predicted_map_np * 255).astype(np.uint8)\n",
    "            \n",
    "            # Save the numpy array to the list\n",
    "            predicted_arrays.append(predicted_map_np)"
   ]
  },
  {
   "cell_type": "code",
   "execution_count": 20,
   "id": "7e24842b-686d-478c-89a2-3efe56442f53",
   "metadata": {},
   "outputs": [
    {
     "name": "stderr",
     "output_type": "stream",
     "text": [
      "Processing validation masks: 100%|██████████| 653/653 [00:07<00:00, 84.24it/s] \n"
     ]
    }
   ],
   "source": [
    "val_masks_list = []\n",
    "\n",
    "# Iterate over the validation dataset\n",
    "for idx in tqdm(range(len(val_dataset)), desc=\"Processing validation masks\"):\n",
    "    _, mask = val_dataset[idx]  # Get the mask from the dataset\n",
    "    \n",
    "    # Convert mask tensor to NumPy array\n",
    "    mask_np = mask.squeeze(0).cpu().numpy()  # Remove channel dimension and move to CPU if necessary\n",
    "    \n",
    "    # Ensure mask values are binary (0 or 1)\n",
    "    mask_np = (mask_np > 0.5).astype(np.uint8)\n",
    "    \n",
    "    # Append to the list\n",
    "    val_masks_list.append(mask_np)"
   ]
  },
  {
   "cell_type": "code",
   "execution_count": 66,
   "id": "736140cf-3df4-4f34-9c80-abc6ca3197c0",
   "metadata": {},
   "outputs": [
    {
     "name": "stdout",
     "output_type": "stream",
     "text": [
      "Total Accuracy: 0.970365248475443\n"
     ]
    }
   ],
   "source": [
    "# Initialize counters for total correct predictions and total pixels\n",
    "total_correct = 0\n",
    "total_pixels = 0\n",
    "\n",
    "# Loop through each pair of predicted and original masks\n",
    "for predicted_mask, original_mask in zip(predicted_arrays, val_masks_list):\n",
    "    # Ensure both masks have the same shape\n",
    "    assert predicted_mask.shape == original_mask.shape, \"Shape mismatch between predicted and original masks\"\n",
    "    \n",
    "    # Flatten the masks to 1D arrays for easier comparison\n",
    "    predicted_mask_flat = predicted_mask.flatten()\n",
    "    original_mask_flat = original_mask.flatten()\n",
    "    \n",
    "    # Count the number of correct predictions\n",
    "    total_correct += np.sum(predicted_mask_flat == original_mask_flat)\n",
    "    \n",
    "    # Count the total number of pixels\n",
    "    total_pixels += original_mask_flat.size\n",
    "\n",
    "# Calculate the total accuracy\n",
    "total_accuracy = total_correct / total_pixels\n",
    "\n",
    "print(f'Total Accuracy: {total_accuracy}')"
   ]
  },
  {
   "cell_type": "code",
   "execution_count": 67,
   "id": "1a71beb1-7fbb-423d-bb1b-d14230d551ff",
   "metadata": {},
   "outputs": [
    {
     "name": "stdout",
     "output_type": "stream",
     "text": [
      "Mean IoU: 0.5319\n"
     ]
    }
   ],
   "source": [
    "import numpy as np\n",
    "\n",
    "def calculate_iou(predicted_mask, actual_mask):\n",
    "    # Ensure the masks are binary (0 and 1)\n",
    "    predicted_mask = (predicted_mask > 0.5).astype(np.uint8)\n",
    "    actual_mask = (actual_mask > 0.5).astype(np.uint8)\n",
    "\n",
    "    # Calculate intersection and union\n",
    "    intersection = np.logical_and(predicted_mask, actual_mask)\n",
    "    union = np.logical_or(predicted_mask, actual_mask)\n",
    "\n",
    "    # Compute IoU\n",
    "    iou = np.sum(intersection) / np.sum(union)\n",
    "    return iou\n",
    "\n",
    "def calculate_mean_iou(predicted_masks, actual_masks):\n",
    "    ious = []\n",
    "\n",
    "    for pred, actual in zip(predicted_masks, actual_masks):\n",
    "        iou = calculate_iou(pred, actual)\n",
    "        ious.append(iou)\n",
    "\n",
    "    mean_iou = np.mean(ious)\n",
    "    return mean_iou\n",
    "\n",
    "mean_iou = calculate_mean_iou(predicted_arrays, val_masks_list)\n",
    "print(f\"Mean IoU: {mean_iou:.4f}\")"
   ]
  },
  {
   "cell_type": "code",
   "execution_count": 68,
   "id": "84fc1c79-67e4-42d5-8492-490e8dd88b43",
   "metadata": {},
   "outputs": [
    {
     "name": "stdout",
     "output_type": "stream",
     "text": [
      "Confusion Matrix:\n",
      "[[119399068   2620633]\n",
      " [  1263289   7776722]]\n"
     ]
    }
   ],
   "source": [
    "import numpy as np\n",
    "from sklearn.metrics import confusion_matrix\n",
    "\n",
    "# Flatten all masks and concatenate them into single arrays\n",
    "actual_flat = np.concatenate([mask.flatten() for mask in val_masks_list])\n",
    "predicted_flat = np.concatenate([mask.flatten() for mask in predicted_arrays])\n",
    "\n",
    "# Ensure only two classes: 0 and 1\n",
    "assert np.all(np.isin(actual_flat, [0, 1])), \"Actual masks contain values other than 0 and 1\"\n",
    "assert np.all(np.isin(predicted_flat, [0, 1])), \"Predicted masks contain values other than 0 and 1\"\n",
    "\n",
    "# Calculate the confusion matrix\n",
    "conf_matrix = confusion_matrix(actual_flat, predicted_flat, labels=[0, 1])\n",
    "\n",
    "print(\"Confusion Matrix:\")\n",
    "print(conf_matrix)"
   ]
  },
  {
   "cell_type": "code",
   "execution_count": 69,
   "id": "09508bdc-0d8b-4046-b8d2-e82e9aaccdb2",
   "metadata": {},
   "outputs": [
    {
     "name": "stdout",
     "output_type": "stream",
     "text": [
      "Tile 0: Accuracy = 0.9870\n",
      "Tile 1: Accuracy = 0.9602\n",
      "Tile 2: Accuracy = 0.9046\n",
      "Tile 3: Accuracy = 0.9929\n",
      "Tile 4: Accuracy = 0.9796\n",
      "Tile 5: Accuracy = 0.9434\n",
      "Tile 6: Accuracy = 0.9912\n",
      "Tile 7: Accuracy = 0.9605\n",
      "Tile 8: Accuracy = 0.9780\n",
      "Tile 9: Accuracy = 0.9800\n",
      "Tile 10: Accuracy = 0.9743\n",
      "Tile 11: Accuracy = 0.9833\n",
      "Tile 12: Accuracy = 0.9602\n",
      "Tile 13: Accuracy = 0.9681\n",
      "Tile 14: Accuracy = 0.9966\n",
      "Tile 15: Accuracy = 0.9862\n",
      "Tile 16: Accuracy = 0.9993\n",
      "Tile 17: Accuracy = 0.9844\n",
      "Tile 18: Accuracy = 0.9891\n",
      "Tile 19: Accuracy = 0.9872\n",
      "Tile 20: Accuracy = 0.9550\n",
      "Tile 21: Accuracy = 0.9885\n",
      "Tile 22: Accuracy = 0.9858\n",
      "Tile 23: Accuracy = 0.8994\n",
      "Tile 24: Accuracy = 0.9485\n",
      "Tile 25: Accuracy = 0.9800\n",
      "Tile 26: Accuracy = 0.9597\n",
      "Tile 27: Accuracy = 0.9831\n",
      "Tile 28: Accuracy = 0.9626\n",
      "Tile 29: Accuracy = 0.9928\n",
      "Tile 30: Accuracy = 0.9567\n",
      "Tile 31: Accuracy = 0.9874\n",
      "Tile 32: Accuracy = 0.9961\n",
      "Tile 33: Accuracy = 0.9374\n",
      "Tile 34: Accuracy = 0.9847\n",
      "Tile 35: Accuracy = 0.9939\n",
      "Tile 36: Accuracy = 0.9662\n",
      "Tile 37: Accuracy = 0.9783\n",
      "Tile 38: Accuracy = 0.9755\n",
      "Tile 39: Accuracy = 0.9584\n",
      "Tile 40: Accuracy = 0.9753\n",
      "Tile 41: Accuracy = 0.9837\n",
      "Tile 42: Accuracy = 0.9668\n",
      "Tile 43: Accuracy = 0.9989\n",
      "Tile 44: Accuracy = 0.9398\n",
      "Tile 45: Accuracy = 0.9134\n",
      "Tile 46: Accuracy = 0.9329\n",
      "Tile 47: Accuracy = 0.9445\n",
      "Tile 48: Accuracy = 0.9987\n",
      "Tile 49: Accuracy = 0.9915\n",
      "Tile 50: Accuracy = 0.9779\n",
      "Tile 51: Accuracy = 0.9661\n",
      "Tile 52: Accuracy = 0.9661\n",
      "Tile 53: Accuracy = 0.9717\n",
      "Tile 54: Accuracy = 0.9471\n",
      "Tile 55: Accuracy = 0.9693\n",
      "Tile 56: Accuracy = 0.9538\n",
      "Tile 57: Accuracy = 0.9923\n",
      "Tile 58: Accuracy = 0.9738\n",
      "Tile 59: Accuracy = 0.9984\n",
      "Tile 60: Accuracy = 0.9880\n",
      "Tile 61: Accuracy = 0.9811\n",
      "Tile 62: Accuracy = 0.9891\n",
      "Tile 63: Accuracy = 0.9605\n",
      "Tile 64: Accuracy = 0.9805\n",
      "Tile 65: Accuracy = 0.9980\n",
      "Tile 66: Accuracy = 0.9771\n",
      "Tile 67: Accuracy = 0.9783\n",
      "Tile 68: Accuracy = 0.9690\n",
      "Tile 69: Accuracy = 0.9919\n",
      "Tile 70: Accuracy = 0.9925\n",
      "Tile 71: Accuracy = 0.9829\n",
      "Tile 72: Accuracy = 0.9896\n",
      "Tile 73: Accuracy = 0.9829\n",
      "Tile 74: Accuracy = 0.9803\n",
      "Tile 75: Accuracy = 0.9382\n",
      "Tile 76: Accuracy = 0.9742\n",
      "Tile 77: Accuracy = 0.9964\n",
      "Tile 78: Accuracy = 0.9939\n",
      "Tile 79: Accuracy = 0.9104\n",
      "Tile 80: Accuracy = 0.9518\n",
      "Tile 81: Accuracy = 0.9196\n",
      "Tile 82: Accuracy = 0.9848\n",
      "Tile 83: Accuracy = 0.9217\n",
      "Tile 84: Accuracy = 0.9751\n",
      "Tile 85: Accuracy = 0.9859\n",
      "Tile 86: Accuracy = 0.9195\n",
      "Tile 87: Accuracy = 0.9123\n",
      "Tile 88: Accuracy = 0.9919\n",
      "Tile 89: Accuracy = 0.9911\n",
      "Tile 90: Accuracy = 0.9738\n",
      "Tile 91: Accuracy = 0.9970\n",
      "Tile 92: Accuracy = 0.9886\n",
      "Tile 93: Accuracy = 0.9998\n",
      "Tile 94: Accuracy = 0.9544\n",
      "Tile 95: Accuracy = 0.9611\n",
      "Tile 96: Accuracy = 0.9955\n",
      "Tile 97: Accuracy = 0.9707\n",
      "Tile 98: Accuracy = 0.8882\n",
      "Tile 99: Accuracy = 0.9509\n",
      "Tile 100: Accuracy = 0.9488\n",
      "Tile 101: Accuracy = 0.9511\n",
      "Tile 102: Accuracy = 0.9946\n",
      "Tile 103: Accuracy = 0.9818\n",
      "Tile 104: Accuracy = 0.9743\n",
      "Tile 105: Accuracy = 0.9832\n",
      "Tile 106: Accuracy = 0.9558\n",
      "Tile 107: Accuracy = 0.9539\n",
      "Tile 108: Accuracy = 0.9237\n",
      "Tile 109: Accuracy = 0.9965\n",
      "Tile 110: Accuracy = 0.9897\n",
      "Tile 111: Accuracy = 0.9995\n",
      "Tile 112: Accuracy = 0.9931\n",
      "Tile 113: Accuracy = 0.9781\n",
      "Tile 114: Accuracy = 0.9793\n",
      "Tile 115: Accuracy = 0.9850\n",
      "Tile 116: Accuracy = 0.9366\n",
      "Tile 117: Accuracy = 0.9702\n",
      "Tile 118: Accuracy = 0.9834\n",
      "Tile 119: Accuracy = 0.9842\n",
      "Tile 120: Accuracy = 0.9631\n",
      "Tile 121: Accuracy = 0.9889\n",
      "Tile 122: Accuracy = 0.9888\n",
      "Tile 123: Accuracy = 0.8986\n",
      "Tile 124: Accuracy = 0.9577\n",
      "Tile 125: Accuracy = 0.9242\n",
      "Tile 126: Accuracy = 0.9336\n",
      "Tile 127: Accuracy = 0.9997\n",
      "Tile 128: Accuracy = 0.9969\n",
      "Tile 129: Accuracy = 0.9405\n",
      "Tile 130: Accuracy = 0.9956\n",
      "Tile 131: Accuracy = 0.9851\n",
      "Tile 132: Accuracy = 0.8087\n",
      "Tile 133: Accuracy = 0.9641\n",
      "Tile 134: Accuracy = 0.9555\n",
      "Tile 135: Accuracy = 0.9174\n",
      "Tile 136: Accuracy = 0.9542\n",
      "Tile 137: Accuracy = 0.9743\n",
      "Tile 138: Accuracy = 0.9887\n",
      "Tile 139: Accuracy = 0.9989\n",
      "Tile 140: Accuracy = 0.9940\n",
      "Tile 141: Accuracy = 0.9961\n",
      "Tile 142: Accuracy = 0.9987\n",
      "Tile 143: Accuracy = 0.9446\n",
      "Tile 144: Accuracy = 0.9694\n",
      "Tile 145: Accuracy = 0.9905\n",
      "Tile 146: Accuracy = 0.9879\n",
      "Tile 147: Accuracy = 0.9759\n",
      "Tile 148: Accuracy = 0.9728\n",
      "Tile 149: Accuracy = 0.9332\n",
      "Tile 150: Accuracy = 0.9501\n",
      "Tile 151: Accuracy = 0.9920\n",
      "Tile 152: Accuracy = 0.9629\n",
      "Tile 153: Accuracy = 0.9677\n",
      "Tile 154: Accuracy = 0.9728\n",
      "Tile 155: Accuracy = 0.9801\n",
      "Tile 156: Accuracy = 0.9998\n",
      "Tile 157: Accuracy = 0.9512\n",
      "Tile 158: Accuracy = 0.9721\n",
      "Tile 159: Accuracy = 0.9942\n",
      "Tile 160: Accuracy = 0.9943\n",
      "Tile 161: Accuracy = 0.9601\n",
      "Tile 162: Accuracy = 0.9720\n",
      "Tile 163: Accuracy = 0.9741\n",
      "Tile 164: Accuracy = 0.9865\n",
      "Tile 165: Accuracy = 0.9830\n",
      "Tile 166: Accuracy = 0.9916\n",
      "Tile 167: Accuracy = 1.0000\n",
      "Tile 168: Accuracy = 0.9650\n",
      "Tile 169: Accuracy = 0.8984\n",
      "Tile 170: Accuracy = 0.9911\n",
      "Tile 171: Accuracy = 0.9636\n",
      "Tile 172: Accuracy = 0.9962\n",
      "Tile 173: Accuracy = 0.9899\n",
      "Tile 174: Accuracy = 0.9787\n",
      "Tile 175: Accuracy = 0.9996\n",
      "Tile 176: Accuracy = 0.9900\n",
      "Tile 177: Accuracy = 0.9938\n",
      "Tile 178: Accuracy = 0.9954\n",
      "Tile 179: Accuracy = 0.8919\n",
      "Tile 180: Accuracy = 0.9844\n",
      "Tile 181: Accuracy = 0.9449\n",
      "Tile 182: Accuracy = 0.9604\n",
      "Tile 183: Accuracy = 0.9944\n",
      "Tile 184: Accuracy = 0.9037\n",
      "Tile 185: Accuracy = 0.9996\n",
      "Tile 186: Accuracy = 0.9974\n",
      "Tile 187: Accuracy = 0.9340\n",
      "Tile 188: Accuracy = 0.9768\n",
      "Tile 189: Accuracy = 0.9815\n",
      "Tile 190: Accuracy = 0.9588\n",
      "Tile 191: Accuracy = 0.9829\n",
      "Tile 192: Accuracy = 0.9073\n",
      "Tile 193: Accuracy = 0.9491\n",
      "Tile 194: Accuracy = 0.9130\n",
      "Tile 195: Accuracy = 0.9860\n",
      "Tile 196: Accuracy = 0.9950\n",
      "Tile 197: Accuracy = 0.9893\n",
      "Tile 198: Accuracy = 0.9720\n",
      "Tile 199: Accuracy = 0.9880\n",
      "Tile 200: Accuracy = 0.9897\n",
      "Tile 201: Accuracy = 0.9754\n",
      "Tile 202: Accuracy = 0.9930\n",
      "Tile 203: Accuracy = 0.9764\n",
      "Tile 204: Accuracy = 0.9970\n",
      "Tile 205: Accuracy = 0.9829\n",
      "Tile 206: Accuracy = 0.9690\n",
      "Tile 207: Accuracy = 0.8888\n",
      "Tile 208: Accuracy = 0.9472\n",
      "Tile 209: Accuracy = 0.9070\n",
      "Tile 210: Accuracy = 0.9978\n",
      "Tile 211: Accuracy = 0.9940\n",
      "Tile 212: Accuracy = 0.9217\n",
      "Tile 213: Accuracy = 0.9673\n",
      "Tile 214: Accuracy = 0.9990\n",
      "Tile 215: Accuracy = 0.9917\n",
      "Tile 216: Accuracy = 0.9417\n",
      "Tile 217: Accuracy = 0.9903\n",
      "Tile 218: Accuracy = 0.9899\n",
      "Tile 219: Accuracy = 0.9527\n",
      "Tile 220: Accuracy = 0.9710\n",
      "Tile 221: Accuracy = 0.9992\n",
      "Tile 222: Accuracy = 0.9975\n",
      "Tile 223: Accuracy = 0.9977\n",
      "Tile 224: Accuracy = 0.9900\n",
      "Tile 225: Accuracy = 0.9968\n",
      "Tile 226: Accuracy = 0.9877\n",
      "Tile 227: Accuracy = 0.9957\n",
      "Tile 228: Accuracy = 0.9923\n",
      "Tile 229: Accuracy = 0.9837\n",
      "Tile 230: Accuracy = 0.9965\n",
      "Tile 231: Accuracy = 0.9764\n",
      "Tile 232: Accuracy = 0.9939\n",
      "Tile 233: Accuracy = 0.9879\n",
      "Tile 234: Accuracy = 0.9814\n",
      "Tile 235: Accuracy = 0.9401\n",
      "Tile 236: Accuracy = 0.9835\n",
      "Tile 237: Accuracy = 0.9953\n",
      "Tile 238: Accuracy = 0.9918\n",
      "Tile 239: Accuracy = 0.9870\n",
      "Tile 240: Accuracy = 0.9614\n",
      "Tile 241: Accuracy = 0.9924\n",
      "Tile 242: Accuracy = 0.9702\n",
      "Tile 243: Accuracy = 0.9932\n",
      "Tile 244: Accuracy = 0.9924\n",
      "Tile 245: Accuracy = 0.9847\n",
      "Tile 246: Accuracy = 0.9498\n",
      "Tile 247: Accuracy = 0.9756\n",
      "Tile 248: Accuracy = 0.9887\n",
      "Tile 249: Accuracy = 0.9497\n",
      "Tile 250: Accuracy = 0.9925\n",
      "Tile 251: Accuracy = 0.9665\n",
      "Tile 252: Accuracy = 0.9978\n",
      "Tile 253: Accuracy = 0.9613\n",
      "Tile 254: Accuracy = 0.9885\n",
      "Tile 255: Accuracy = 0.9863\n",
      "Tile 256: Accuracy = 0.9945\n",
      "Tile 257: Accuracy = 0.9931\n",
      "Tile 258: Accuracy = 0.9847\n",
      "Tile 259: Accuracy = 0.9905\n",
      "Tile 260: Accuracy = 0.9992\n",
      "Tile 261: Accuracy = 0.9273\n",
      "Tile 262: Accuracy = 0.9835\n",
      "Tile 263: Accuracy = 0.9785\n",
      "Tile 264: Accuracy = 0.9920\n",
      "Tile 265: Accuracy = 0.9493\n",
      "Tile 266: Accuracy = 0.9407\n",
      "Tile 267: Accuracy = 0.9623\n",
      "Tile 268: Accuracy = 0.9961\n",
      "Tile 269: Accuracy = 0.9801\n",
      "Tile 270: Accuracy = 0.9875\n",
      "Tile 271: Accuracy = 0.9811\n",
      "Tile 272: Accuracy = 0.9901\n",
      "Tile 273: Accuracy = 0.9906\n",
      "Tile 274: Accuracy = 0.9841\n",
      "Tile 275: Accuracy = 0.9542\n",
      "Tile 276: Accuracy = 0.9661\n",
      "Tile 277: Accuracy = 0.9715\n",
      "Tile 278: Accuracy = 0.8030\n",
      "Tile 279: Accuracy = 0.9828\n",
      "Tile 280: Accuracy = 0.9157\n",
      "Tile 281: Accuracy = 0.9927\n",
      "Tile 282: Accuracy = 0.9688\n",
      "Tile 283: Accuracy = 0.9449\n",
      "Tile 284: Accuracy = 0.9995\n",
      "Tile 285: Accuracy = 0.9912\n",
      "Tile 286: Accuracy = 0.9672\n",
      "Tile 287: Accuracy = 0.9925\n",
      "Tile 288: Accuracy = 0.9725\n",
      "Tile 289: Accuracy = 0.9881\n",
      "Tile 290: Accuracy = 0.9106\n",
      "Tile 291: Accuracy = 0.9384\n",
      "Tile 292: Accuracy = 0.9577\n",
      "Tile 293: Accuracy = 0.9950\n",
      "Tile 294: Accuracy = 0.9691\n",
      "Tile 295: Accuracy = 0.9662\n",
      "Tile 296: Accuracy = 0.9739\n",
      "Tile 297: Accuracy = 0.9915\n",
      "Tile 298: Accuracy = 0.9790\n",
      "Tile 299: Accuracy = 0.9910\n",
      "Tile 300: Accuracy = 0.9705\n",
      "Tile 301: Accuracy = 0.9924\n",
      "Tile 302: Accuracy = 0.9529\n",
      "Tile 303: Accuracy = 0.9949\n",
      "Tile 304: Accuracy = 0.9354\n",
      "Tile 305: Accuracy = 0.9849\n",
      "Tile 306: Accuracy = 0.9814\n",
      "Tile 307: Accuracy = 0.9736\n",
      "Tile 308: Accuracy = 0.9832\n",
      "Tile 309: Accuracy = 0.9260\n",
      "Tile 310: Accuracy = 0.9871\n",
      "Tile 311: Accuracy = 0.9482\n",
      "Tile 312: Accuracy = 0.9624\n",
      "Tile 313: Accuracy = 0.9333\n",
      "Tile 314: Accuracy = 0.9593\n",
      "Tile 315: Accuracy = 0.9803\n",
      "Tile 316: Accuracy = 0.9902\n",
      "Tile 317: Accuracy = 0.9823\n",
      "Tile 318: Accuracy = 0.9964\n",
      "Tile 319: Accuracy = 0.9635\n",
      "Tile 320: Accuracy = 0.9909\n",
      "Tile 321: Accuracy = 0.9964\n",
      "Tile 322: Accuracy = 0.9998\n",
      "Tile 323: Accuracy = 0.9894\n",
      "Tile 324: Accuracy = 0.9645\n",
      "Tile 325: Accuracy = 0.9662\n",
      "Tile 326: Accuracy = 0.9980\n",
      "Tile 327: Accuracy = 0.9914\n",
      "Tile 328: Accuracy = 0.9970\n",
      "Tile 329: Accuracy = 0.9561\n",
      "Tile 330: Accuracy = 0.9855\n",
      "Tile 331: Accuracy = 0.9684\n",
      "Tile 332: Accuracy = 0.9364\n",
      "Tile 333: Accuracy = 0.9247\n",
      "Tile 334: Accuracy = 0.9573\n",
      "Tile 335: Accuracy = 0.9458\n",
      "Tile 336: Accuracy = 0.9394\n",
      "Tile 337: Accuracy = 0.9828\n",
      "Tile 338: Accuracy = 0.9963\n",
      "Tile 339: Accuracy = 0.9826\n",
      "Tile 340: Accuracy = 0.9791\n",
      "Tile 341: Accuracy = 0.9631\n",
      "Tile 342: Accuracy = 0.9838\n",
      "Tile 343: Accuracy = 0.9776\n",
      "Tile 344: Accuracy = 0.9564\n",
      "Tile 345: Accuracy = 0.9626\n",
      "Tile 346: Accuracy = 0.9772\n",
      "Tile 347: Accuracy = 0.9496\n",
      "Tile 348: Accuracy = 0.9592\n",
      "Tile 349: Accuracy = 0.9862\n",
      "Tile 350: Accuracy = 0.9641\n",
      "Tile 351: Accuracy = 0.9017\n",
      "Tile 352: Accuracy = 0.9419\n",
      "Tile 353: Accuracy = 0.9998\n",
      "Tile 354: Accuracy = 0.9844\n",
      "Tile 355: Accuracy = 0.9927\n",
      "Tile 356: Accuracy = 0.9773\n",
      "Tile 357: Accuracy = 0.9390\n",
      "Tile 358: Accuracy = 0.9666\n",
      "Tile 359: Accuracy = 0.9570\n",
      "Tile 360: Accuracy = 0.9870\n",
      "Tile 361: Accuracy = 0.9924\n",
      "Tile 362: Accuracy = 0.9791\n",
      "Tile 363: Accuracy = 0.9920\n",
      "Tile 364: Accuracy = 0.9969\n",
      "Tile 365: Accuracy = 0.9836\n",
      "Tile 366: Accuracy = 0.9968\n",
      "Tile 367: Accuracy = 0.9972\n",
      "Tile 368: Accuracy = 0.9642\n",
      "Tile 369: Accuracy = 0.9918\n",
      "Tile 370: Accuracy = 0.9794\n",
      "Tile 371: Accuracy = 0.9439\n",
      "Tile 372: Accuracy = 0.9187\n",
      "Tile 373: Accuracy = 0.9687\n",
      "Tile 374: Accuracy = 0.9268\n",
      "Tile 375: Accuracy = 0.8767\n",
      "Tile 376: Accuracy = 0.9621\n",
      "Tile 377: Accuracy = 0.9884\n",
      "Tile 378: Accuracy = 0.9712\n",
      "Tile 379: Accuracy = 0.9949\n",
      "Tile 380: Accuracy = 0.9746\n",
      "Tile 381: Accuracy = 0.9298\n",
      "Tile 382: Accuracy = 0.9566\n",
      "Tile 383: Accuracy = 0.9789\n",
      "Tile 384: Accuracy = 0.9974\n",
      "Tile 385: Accuracy = 0.9997\n",
      "Tile 386: Accuracy = 0.9787\n",
      "Tile 387: Accuracy = 0.9999\n",
      "Tile 388: Accuracy = 0.9829\n",
      "Tile 389: Accuracy = 0.9983\n",
      "Tile 390: Accuracy = 0.9958\n",
      "Tile 391: Accuracy = 0.9760\n",
      "Tile 392: Accuracy = 0.9813\n",
      "Tile 393: Accuracy = 0.9674\n",
      "Tile 394: Accuracy = 0.9797\n",
      "Tile 395: Accuracy = 0.9773\n",
      "Tile 396: Accuracy = 0.9440\n",
      "Tile 397: Accuracy = 0.9469\n",
      "Tile 398: Accuracy = 0.9751\n",
      "Tile 399: Accuracy = 0.9351\n",
      "Tile 400: Accuracy = 0.9355\n",
      "Tile 401: Accuracy = 0.9778\n",
      "Tile 402: Accuracy = 0.9583\n",
      "Tile 403: Accuracy = 0.9809\n",
      "Tile 404: Accuracy = 0.9865\n",
      "Tile 405: Accuracy = 0.9647\n",
      "Tile 406: Accuracy = 0.9922\n",
      "Tile 407: Accuracy = 0.9551\n",
      "Tile 408: Accuracy = 0.9999\n",
      "Tile 409: Accuracy = 0.9932\n",
      "Tile 410: Accuracy = 0.9888\n",
      "Tile 411: Accuracy = 0.9804\n",
      "Tile 412: Accuracy = 0.9936\n",
      "Tile 413: Accuracy = 0.9838\n",
      "Tile 414: Accuracy = 0.9617\n",
      "Tile 415: Accuracy = 0.9991\n",
      "Tile 416: Accuracy = 0.9929\n",
      "Tile 417: Accuracy = 0.9915\n",
      "Tile 418: Accuracy = 0.9991\n",
      "Tile 419: Accuracy = 0.9851\n",
      "Tile 420: Accuracy = 0.9969\n",
      "Tile 421: Accuracy = 0.9755\n",
      "Tile 422: Accuracy = 0.9936\n",
      "Tile 423: Accuracy = 0.9778\n",
      "Tile 424: Accuracy = 0.9744\n",
      "Tile 425: Accuracy = 0.9780\n",
      "Tile 426: Accuracy = 0.9905\n",
      "Tile 427: Accuracy = 0.9838\n",
      "Tile 428: Accuracy = 0.9849\n",
      "Tile 429: Accuracy = 0.9875\n",
      "Tile 430: Accuracy = 0.8056\n",
      "Tile 431: Accuracy = 0.9427\n",
      "Tile 432: Accuracy = 0.9264\n",
      "Tile 433: Accuracy = 0.9379\n",
      "Tile 434: Accuracy = 0.9963\n",
      "Tile 435: Accuracy = 0.9427\n",
      "Tile 436: Accuracy = 0.9627\n",
      "Tile 437: Accuracy = 0.9973\n",
      "Tile 438: Accuracy = 0.9656\n",
      "Tile 439: Accuracy = 0.9793\n",
      "Tile 440: Accuracy = 0.9739\n",
      "Tile 441: Accuracy = 0.9924\n",
      "Tile 442: Accuracy = 0.8739\n",
      "Tile 443: Accuracy = 0.9849\n",
      "Tile 444: Accuracy = 0.9987\n",
      "Tile 445: Accuracy = 0.9926\n",
      "Tile 446: Accuracy = 0.9894\n",
      "Tile 447: Accuracy = 0.9898\n",
      "Tile 448: Accuracy = 0.9994\n",
      "Tile 449: Accuracy = 0.9918\n",
      "Tile 450: Accuracy = 0.9999\n",
      "Tile 451: Accuracy = 0.9724\n",
      "Tile 452: Accuracy = 0.9890\n",
      "Tile 453: Accuracy = 0.9816\n",
      "Tile 454: Accuracy = 0.9210\n",
      "Tile 455: Accuracy = 0.9864\n",
      "Tile 456: Accuracy = 0.9856\n",
      "Tile 457: Accuracy = 0.9859\n",
      "Tile 458: Accuracy = 0.9951\n",
      "Tile 459: Accuracy = 0.9791\n",
      "Tile 460: Accuracy = 0.9946\n",
      "Tile 461: Accuracy = 0.9881\n",
      "Tile 462: Accuracy = 0.9715\n",
      "Tile 463: Accuracy = 0.9860\n",
      "Tile 464: Accuracy = 0.9864\n",
      "Tile 465: Accuracy = 0.9685\n",
      "Tile 466: Accuracy = 0.9238\n",
      "Tile 467: Accuracy = 0.9485\n",
      "Tile 468: Accuracy = 0.9878\n",
      "Tile 469: Accuracy = 0.9693\n",
      "Tile 470: Accuracy = 0.8898\n",
      "Tile 471: Accuracy = 0.9880\n",
      "Tile 472: Accuracy = 0.9511\n",
      "Tile 473: Accuracy = 0.9493\n",
      "Tile 474: Accuracy = 0.9851\n",
      "Tile 475: Accuracy = 0.9388\n",
      "Tile 476: Accuracy = 0.9805\n",
      "Tile 477: Accuracy = 0.9864\n",
      "Tile 478: Accuracy = 0.9799\n",
      "Tile 479: Accuracy = 0.9994\n",
      "Tile 480: Accuracy = 0.9955\n",
      "Tile 481: Accuracy = 0.9998\n",
      "Tile 482: Accuracy = 0.9801\n",
      "Tile 483: Accuracy = 0.9998\n",
      "Tile 484: Accuracy = 0.9558\n",
      "Tile 485: Accuracy = 1.0000\n",
      "Tile 486: Accuracy = 0.9567\n",
      "Tile 487: Accuracy = 0.9831\n",
      "Tile 488: Accuracy = 0.9928\n",
      "Tile 489: Accuracy = 0.9438\n",
      "Tile 490: Accuracy = 0.9821\n",
      "Tile 491: Accuracy = 0.9723\n",
      "Tile 492: Accuracy = 0.9855\n",
      "Tile 493: Accuracy = 0.9965\n",
      "Tile 494: Accuracy = 0.9910\n",
      "Tile 495: Accuracy = 0.9729\n",
      "Tile 496: Accuracy = 0.9963\n",
      "Tile 497: Accuracy = 0.9944\n",
      "Tile 498: Accuracy = 0.9518\n",
      "Tile 499: Accuracy = 0.9872\n",
      "Tile 500: Accuracy = 0.9743\n",
      "Tile 501: Accuracy = 0.9954\n",
      "Tile 502: Accuracy = 0.9310\n",
      "Tile 503: Accuracy = 0.9899\n",
      "Tile 504: Accuracy = 0.9797\n",
      "Tile 505: Accuracy = 0.9927\n",
      "Tile 506: Accuracy = 0.9825\n",
      "Tile 507: Accuracy = 0.9616\n",
      "Tile 508: Accuracy = 0.9655\n",
      "Tile 509: Accuracy = 0.9909\n",
      "Tile 510: Accuracy = 0.9950\n",
      "Tile 511: Accuracy = 0.9980\n",
      "Tile 512: Accuracy = 0.9906\n",
      "Tile 513: Accuracy = 0.9716\n",
      "Tile 514: Accuracy = 0.9942\n",
      "Tile 515: Accuracy = 0.9918\n",
      "Tile 516: Accuracy = 0.9660\n",
      "Tile 517: Accuracy = 0.9574\n",
      "Tile 518: Accuracy = 0.9432\n",
      "Tile 519: Accuracy = 0.9736\n",
      "Tile 520: Accuracy = 0.9432\n",
      "Tile 521: Accuracy = 0.9689\n",
      "Tile 522: Accuracy = 0.9854\n",
      "Tile 523: Accuracy = 0.9372\n",
      "Tile 524: Accuracy = 0.9384\n",
      "Tile 525: Accuracy = 0.9612\n",
      "Tile 526: Accuracy = 0.9931\n",
      "Tile 527: Accuracy = 0.9967\n",
      "Tile 528: Accuracy = 0.9954\n",
      "Tile 529: Accuracy = 0.9639\n",
      "Tile 530: Accuracy = 0.9538\n",
      "Tile 531: Accuracy = 0.9867\n",
      "Tile 532: Accuracy = 0.9063\n",
      "Tile 533: Accuracy = 0.9806\n",
      "Tile 534: Accuracy = 0.9803\n",
      "Tile 535: Accuracy = 0.9935\n",
      "Tile 536: Accuracy = 0.9975\n",
      "Tile 537: Accuracy = 0.9934\n",
      "Tile 538: Accuracy = 0.9592\n",
      "Tile 539: Accuracy = 0.9930\n",
      "Tile 540: Accuracy = 0.9953\n",
      "Tile 541: Accuracy = 0.9923\n",
      "Tile 542: Accuracy = 0.9915\n",
      "Tile 543: Accuracy = 0.9932\n",
      "Tile 544: Accuracy = 0.9962\n",
      "Tile 545: Accuracy = 0.9922\n",
      "Tile 546: Accuracy = 0.9861\n",
      "Tile 547: Accuracy = 0.9321\n",
      "Tile 548: Accuracy = 0.9717\n",
      "Tile 549: Accuracy = 0.9236\n",
      "Tile 550: Accuracy = 0.9195\n",
      "Tile 551: Accuracy = 0.9916\n",
      "Tile 552: Accuracy = 0.9874\n",
      "Tile 553: Accuracy = 0.8698\n",
      "Tile 554: Accuracy = 0.9388\n",
      "Tile 555: Accuracy = 0.9860\n",
      "Tile 556: Accuracy = 0.8958\n",
      "Tile 557: Accuracy = 0.8987\n",
      "Tile 558: Accuracy = 0.9626\n",
      "Tile 559: Accuracy = 0.9995\n",
      "Tile 560: Accuracy = 0.9206\n",
      "Tile 561: Accuracy = 0.8765\n",
      "Tile 562: Accuracy = 0.8422\n",
      "Tile 563: Accuracy = 0.9694\n",
      "Tile 564: Accuracy = 0.9591\n",
      "Tile 565: Accuracy = 0.9844\n",
      "Tile 566: Accuracy = 0.9980\n",
      "Tile 567: Accuracy = 0.9954\n",
      "Tile 568: Accuracy = 0.9991\n",
      "Tile 569: Accuracy = 0.9957\n",
      "Tile 570: Accuracy = 0.9952\n",
      "Tile 571: Accuracy = 0.9899\n",
      "Tile 572: Accuracy = 0.9780\n",
      "Tile 573: Accuracy = 0.9705\n",
      "Tile 574: Accuracy = 0.9707\n",
      "Tile 575: Accuracy = 0.9660\n",
      "Tile 576: Accuracy = 0.9562\n",
      "Tile 577: Accuracy = 0.9992\n",
      "Tile 578: Accuracy = 0.9909\n",
      "Tile 579: Accuracy = 0.9985\n",
      "Tile 580: Accuracy = 0.9556\n",
      "Tile 581: Accuracy = 0.9940\n",
      "Tile 582: Accuracy = 0.8583\n",
      "Tile 583: Accuracy = 0.9563\n",
      "Tile 584: Accuracy = 0.9484\n",
      "Tile 585: Accuracy = 0.8779\n",
      "Tile 586: Accuracy = 0.9731\n",
      "Tile 587: Accuracy = 0.9982\n",
      "Tile 588: Accuracy = 0.9744\n",
      "Tile 589: Accuracy = 0.9745\n",
      "Tile 590: Accuracy = 0.9724\n",
      "Tile 591: Accuracy = 0.9920\n",
      "Tile 592: Accuracy = 0.9108\n",
      "Tile 593: Accuracy = 0.8828\n",
      "Tile 594: Accuracy = 0.8999\n",
      "Tile 595: Accuracy = 0.9581\n",
      "Tile 596: Accuracy = 0.9730\n",
      "Tile 597: Accuracy = 0.9662\n",
      "Tile 598: Accuracy = 0.9888\n",
      "Tile 599: Accuracy = 0.9872\n",
      "Tile 600: Accuracy = 0.9947\n",
      "Tile 601: Accuracy = 0.9804\n",
      "Tile 602: Accuracy = 0.9896\n",
      "Tile 603: Accuracy = 0.9922\n",
      "Tile 604: Accuracy = 0.9962\n",
      "Tile 605: Accuracy = 0.9708\n",
      "Tile 606: Accuracy = 0.9895\n",
      "Tile 607: Accuracy = 0.9978\n",
      "Tile 608: Accuracy = 0.9938\n",
      "Tile 609: Accuracy = 0.9965\n",
      "Tile 610: Accuracy = 0.9886\n",
      "Tile 611: Accuracy = 0.9438\n",
      "Tile 612: Accuracy = 0.9682\n",
      "Tile 613: Accuracy = 0.9538\n",
      "Tile 614: Accuracy = 0.8991\n",
      "Tile 615: Accuracy = 0.9663\n",
      "Tile 616: Accuracy = 0.9514\n",
      "Tile 617: Accuracy = 0.8888\n",
      "Tile 618: Accuracy = 0.9157\n",
      "Tile 619: Accuracy = 1.0000\n",
      "Tile 620: Accuracy = 0.9936\n",
      "Tile 621: Accuracy = 0.9926\n",
      "Tile 622: Accuracy = 0.9842\n",
      "Tile 623: Accuracy = 0.9873\n",
      "Tile 624: Accuracy = 0.8854\n",
      "Tile 625: Accuracy = 0.9531\n",
      "Tile 626: Accuracy = 0.8832\n",
      "Tile 627: Accuracy = 0.8781\n",
      "Tile 628: Accuracy = 0.9507\n",
      "Tile 629: Accuracy = 0.9875\n",
      "Tile 630: Accuracy = 0.9788\n",
      "Tile 631: Accuracy = 0.9822\n",
      "Tile 632: Accuracy = 0.9860\n",
      "Tile 633: Accuracy = 0.9990\n",
      "Tile 634: Accuracy = 0.9845\n",
      "Tile 635: Accuracy = 0.9739\n",
      "Tile 636: Accuracy = 0.9911\n",
      "Tile 637: Accuracy = 0.9720\n",
      "Tile 638: Accuracy = 0.9812\n",
      "Tile 639: Accuracy = 0.9687\n",
      "Tile 640: Accuracy = 0.9991\n",
      "Tile 641: Accuracy = 0.9893\n",
      "Tile 642: Accuracy = 0.9556\n",
      "Tile 643: Accuracy = 0.8867\n",
      "Tile 644: Accuracy = 0.8695\n",
      "Tile 645: Accuracy = 0.9927\n",
      "Tile 646: Accuracy = 0.9454\n",
      "Tile 647: Accuracy = 0.9724\n",
      "Tile 648: Accuracy = 0.9939\n",
      "Tile 649: Accuracy = 0.9344\n",
      "Tile 650: Accuracy = 0.9815\n",
      "Tile 651: Accuracy = 0.8775\n",
      "Tile 652: Accuracy = 0.9382\n"
     ]
    }
   ],
   "source": [
    "# Calculate accuracy for each tile\n",
    "accuracies = []\n",
    "for actual_mask, predicted_mask in zip(val_masks_list, predicted_arrays):\n",
    "    # Ensure both masks have the same shape\n",
    "    assert actual_mask.shape == predicted_mask.shape, \"Mismatch in mask shapes\"\n",
    "    \n",
    "    # Calculate the number of correctly predicted pixels\n",
    "    correct_pixels = np.sum(actual_mask == predicted_mask)\n",
    "    total_pixels = actual_mask.size\n",
    "    accuracy = correct_pixels / total_pixels\n",
    "    \n",
    "    accuracies.append(accuracy)\n",
    "\n",
    "# Now, accuracies contains the accuracy for each tile\n",
    "for idx, acc in enumerate(accuracies):\n",
    "    print(f\"Tile {idx}: Accuracy = {acc:.4f}\")"
   ]
  },
  {
   "cell_type": "code",
   "execution_count": 70,
   "id": "892da2d5-ef7e-40c1-9af9-e31b27f7478d",
   "metadata": {},
   "outputs": [],
   "source": [
    "import csv\n",
    "\n",
    "# Specify the full file path\n",
    "file_path = '/explore/nobackup/people/sking11/accuracies/CNN50_5000_accuracies.csv'\n",
    "\n",
    "# Save as CSV using csv module\n",
    "with open(file_path, 'w', newline='') as csvfile:\n",
    "    writer = csv.writer(csvfile)\n",
    "    writer.writerow(['Tile', 'Accuracy'])  # Write the header\n",
    "    for idx, accuracy in enumerate(accuracies):\n",
    "        writer.writerow([idx, accuracy])"
   ]
  },
  {
   "cell_type": "code",
   "execution_count": null,
   "id": "ff984156-54c9-468f-abbb-8024d6f8c9b3",
   "metadata": {},
   "outputs": [],
   "source": []
  }
 ],
 "metadata": {
  "kernelspec": {
   "display_name": "dino_env",
   "language": "python",
   "name": "dino_env"
  },
  "language_info": {
   "codemirror_mode": {
    "name": "ipython",
    "version": 3
   },
   "file_extension": ".py",
   "mimetype": "text/x-python",
   "name": "python",
   "nbconvert_exporter": "python",
   "pygments_lexer": "ipython3",
   "version": "3.12.4"
  }
 },
 "nbformat": 4,
 "nbformat_minor": 5
}
