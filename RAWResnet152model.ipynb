{
 "cells": [
  {
   "cell_type": "markdown",
   "id": "4508cca4-3c35-4150-a201-a688fa25caff",
   "metadata": {},
   "source": [
    "This model is a [ResNet152](https://huggingface.co/microsoft/resnet-152) model trained on 224x224 resolution data from ImageNet-1k run with unfrozen parameters. "
   ]
  },
  {
   "cell_type": "markdown",
   "id": "64918961-3a6c-4b6f-b7d2-b2e5d6e7f025",
   "metadata": {},
   "source": [
    "# Loading in Data"
   ]
  },
  {
   "cell_type": "markdown",
   "id": "e78f7aa0-74b0-422c-9ddb-c3a7a2537f7e",
   "metadata": {},
   "source": [
    "Import Packages"
   ]
  },
  {
   "cell_type": "code",
   "execution_count": 31,
   "id": "820d0f33-75f7-4f16-9965-c3fd471c1679",
   "metadata": {},
   "outputs": [],
   "source": [
    "import torch\n",
    "import torch.nn as nn\n",
    "import torch.optim as optim\n",
    "from torchvision import models, transforms\n",
    "from torch.utils.data import DataLoader, Dataset\n",
    "from PIL import Image\n",
    "import numpy as np\n",
    "import huggingface_hub\n",
    "from tqdm import tqdm\n",
    "import matplotlib.pyplot as plt \n",
    "import os"
   ]
  },
  {
   "cell_type": "markdown",
   "id": "8b2dff0b-e64b-4039-9cb1-dbac488797c7",
   "metadata": {},
   "source": [
    "Load in the training data from huggingface"
   ]
  },
  {
   "cell_type": "code",
   "execution_count": 32,
   "id": "0a1b8f61-f67b-4d43-9d90-2f4c153458c7",
   "metadata": {},
   "outputs": [],
   "source": [
    "from datasets import load_dataset, DatasetDict, Dataset\n",
    "\n",
    "dataset = load_dataset('saking3/alaska_dead_trees')"
   ]
  },
  {
   "cell_type": "code",
   "execution_count": 33,
   "id": "be314170-b884-45eb-9599-17df46474366",
   "metadata": {},
   "outputs": [
    {
     "data": {
      "text/plain": [
       "DatasetDict({\n",
       "    train: Dataset({\n",
       "        features: ['image', 'label'],\n",
       "        num_rows: 6400\n",
       "    })\n",
       "    validation: Dataset({\n",
       "        features: ['image', 'label'],\n",
       "        num_rows: 653\n",
       "    })\n",
       "    test: Dataset({\n",
       "        features: ['image', 'label'],\n",
       "        num_rows: 1286\n",
       "    })\n",
       "})"
      ]
     },
     "execution_count": 33,
     "metadata": {},
     "output_type": "execute_result"
    }
   ],
   "source": [
    "dataset"
   ]
  },
  {
   "cell_type": "markdown",
   "id": "ea1732b4-ff86-4b4a-b46e-0f130dbb5a5d",
   "metadata": {},
   "source": [
    "Subsetting the dataset so the training dataset only contains 5000 randomly selected training images. "
   ]
  },
  {
   "cell_type": "code",
   "execution_count": 34,
   "id": "cb38dc45-c77d-4736-8c3a-297c14ccd3ce",
   "metadata": {},
   "outputs": [],
   "source": [
    "training_size = 10 #10, 100, 500, 1000, 5000\n",
    "\n",
    "random_indices = np.random.choice(len(dataset[\"train\"]), size=training_size, replace=False)"
   ]
  },
  {
   "cell_type": "code",
   "execution_count": 35,
   "id": "a8331b88-ec8d-4959-99d9-ac978815c205",
   "metadata": {},
   "outputs": [
    {
     "name": "stdout",
     "output_type": "stream",
     "text": [
      "DatasetDict({\n",
      "    train: Dataset({\n",
      "        features: ['image', 'label'],\n",
      "        num_rows: 10\n",
      "    })\n",
      "    validation: Dataset({\n",
      "        features: ['image', 'label'],\n",
      "        num_rows: 653\n",
      "    })\n",
      "    test: Dataset({\n",
      "        features: ['image', 'label'],\n",
      "        num_rows: 1286\n",
      "    })\n",
      "})\n"
     ]
    }
   ],
   "source": [
    "# Select the random subset\n",
    "train_subset = dataset[\"train\"].select(random_indices)\n",
    "\n",
    "# Create a new DatasetDict with the subset\n",
    "subset_training_dataset = DatasetDict({\n",
    "    \"train\": train_subset,\n",
    "    \"validation\": dataset[\"validation\"],\n",
    "    \"test\": dataset[\"test\"]\n",
    "})\n",
    "\n",
    "# Print the structure of the new subset dataset to confirm\n",
    "print(subset_training_dataset)"
   ]
  },
  {
   "cell_type": "markdown",
   "id": "53407230-cc71-49b7-b92b-c59e6b5013a5",
   "metadata": {},
   "source": [
    "Let's load the mappings between integers and their classes "
   ]
  },
  {
   "cell_type": "code",
   "execution_count": 36,
   "id": "703d70ba-a667-4976-bb90-b292d9a951ed",
   "metadata": {},
   "outputs": [],
   "source": [
    "#get labels for each dataset \n",
    "id2label = {0: 'Background', 1: 'Dead Tree'}"
   ]
  },
  {
   "cell_type": "markdown",
   "id": "f6f51fbc-d526-44a8-b8ae-a2de56a2f9e5",
   "metadata": {},
   "source": [
    "Create a 'dataset' that serves us input images and masks in a format appropriate for the ResNet model."
   ]
  },
  {
   "cell_type": "code",
   "execution_count": 37,
   "id": "782cc7b5-47b4-4bd6-83b5-968b13be27be",
   "metadata": {},
   "outputs": [],
   "source": [
    "class ForestDataset(torch.utils.data.Dataset):\n",
    "    def __init__(self, dataset, transform=None):\n",
    "        self.dataset = dataset\n",
    "        self.transform = transform\n",
    "\n",
    "    def __getitem__(self, idx):\n",
    "        sample = self.dataset[idx]\n",
    "        image = sample['image']\n",
    "        mask = sample['label']\n",
    "\n",
    "        # Ensure the image is in PIL format\n",
    "        if isinstance(image, np.ndarray):\n",
    "            image = Image.fromarray(image)\n",
    "        \n",
    "        if self.transform:\n",
    "            image = self.transform(image)\n",
    "\n",
    "        # Ensure the mask is in tensor format\n",
    "        mask = torch.tensor(np.array(mask), dtype=torch.float).unsqueeze(0)\n",
    "\n",
    "        return image, mask\n",
    "\n",
    "    def __len__(self):\n",
    "        return len(self.dataset)"
   ]
  },
  {
   "cell_type": "markdown",
   "id": "af3e7468-0d50-4b25-ab2c-c2a00b32a64c",
   "metadata": {},
   "source": [
    "## Transformations \n",
    "We augment the training images by resizing them to a fixed resolution (448x448), converting the images to tensors, and normalizing the color channels."
   ]
  },
  {
   "cell_type": "code",
   "execution_count": 38,
   "id": "63197797-4f7a-4f3b-990d-dea92c692e8b",
   "metadata": {},
   "outputs": [],
   "source": [
    "train_transform = transforms.Compose([\n",
    "    transforms.Resize((448, 448)),\n",
    "    transforms.ToTensor(),\n",
    "    transforms.Normalize(mean=[0.485, 0.456, 0.406], std=[0.229, 0.224, 0.225])\n",
    "])\n",
    "\n",
    "val_transform = transforms.Compose([\n",
    "    transforms.Resize((448, 448)),\n",
    "    transforms.ToTensor(),\n",
    "    transforms.Normalize(mean=[0.485, 0.456, 0.406], std=[0.229, 0.224, 0.225])\n",
    "])"
   ]
  },
  {
   "cell_type": "markdown",
   "id": "5b276e7d-0e8a-4298-a00c-2468506b62b6",
   "metadata": {},
   "source": [
    "Create the training, validation, and test dataset and check the length of each dataset."
   ]
  },
  {
   "cell_type": "code",
   "execution_count": 39,
   "id": "f1207156-4367-498c-8487-29a5f20a0324",
   "metadata": {},
   "outputs": [],
   "source": [
    "train_dataset = ForestDataset(subset_training_dataset['train'], transform=train_transform)\n",
    "val_dataset = ForestDataset(subset_training_dataset['validation'], transform=val_transform)\n",
    "test_dataset = ForestDataset(subset_training_dataset['test'], transform=val_transform)"
   ]
  },
  {
   "cell_type": "code",
   "execution_count": 40,
   "id": "b81c43fc-48f9-479e-8d61-b04ec24f2473",
   "metadata": {},
   "outputs": [
    {
     "name": "stdout",
     "output_type": "stream",
     "text": [
      "Number of train images: 10\n",
      "Number of val images: 653\n",
      "Number of test images: 1286\n"
     ]
    }
   ],
   "source": [
    "print(\"Number of train images:\", len(train_dataset))\n",
    "print(\"Number of val images:\", len(val_dataset))\n",
    "print(\"Number of test images:\", len(test_dataset))"
   ]
  },
  {
   "cell_type": "markdown",
   "id": "e625d86a-2a63-48ea-aca5-356149b3e04c",
   "metadata": {},
   "source": [
    "Create the training, validation, and test dataloaders to feed data to the model. "
   ]
  },
  {
   "cell_type": "code",
   "execution_count": 41,
   "id": "eb591709-8483-4c2e-ac58-c76f224767c5",
   "metadata": {},
   "outputs": [],
   "source": [
    "train_loader = DataLoader(train_dataset, batch_size=2, shuffle=True)\n",
    "val_loader = DataLoader(val_dataset, batch_size=1, shuffle=False)\n",
    "test_loader = DataLoader(test_dataset, batch_size=2, shuffle=False)"
   ]
  },
  {
   "cell_type": "markdown",
   "id": "23abdce1-940d-4bf3-a8cd-386b7bb30cbd",
   "metadata": {},
   "source": [
    "# Training the Model"
   ]
  },
  {
   "cell_type": "markdown",
   "id": "f4652c5b-b86d-4182-b33f-56b86633e53e",
   "metadata": {},
   "source": [
    "This model has the same structure as a ResNet CNN with 152 layers, but it has no initialized weights."
   ]
  },
  {
   "cell_type": "code",
   "execution_count": 13,
   "id": "37f1abb7-f8b9-4613-bde4-d9b1d89026ec",
   "metadata": {},
   "outputs": [],
   "source": [
    "class ResNetSegmentationModel(nn.Module):\n",
    "    def __init__(self, num_classes=1):\n",
    "        super(ResNetSegmentationModel, self).__init__()\n",
    "        self.resnet = models.resnet152(weights=None)  # Initialize without pretrained weights\n",
    "        \n",
    "        # Remove the fully connected layer and the avgpool layer\n",
    "        self.resnet = nn.Sequential(*list(self.resnet.children())[:-2])\n",
    "        \n",
    "        # Add a new convolutional layer to generate the required number of output channels\n",
    "        self.conv = nn.Conv2d(2048, num_classes, kernel_size=1)\n",
    "        \n",
    "    def forward(self, x):\n",
    "        x = self.resnet(x)  # Shape: [batch_size, 2048, H/32, W/32]\n",
    "        x = self.conv(x)    # Shape: [batch_size, num_classes, H/32, W/32]\n",
    "        x = nn.functional.interpolate(x, scale_factor=32, mode='bilinear', align_corners=True)  # Upsample to original image size\n",
    "        return x"
   ]
  },
  {
   "cell_type": "markdown",
   "id": "aeb71c67-1e61-46fb-885c-0cef0050b5e9",
   "metadata": {},
   "source": [
    "We can instantiate the model as follows:"
   ]
  },
  {
   "cell_type": "code",
   "execution_count": 16,
   "id": "e81adc7b-1c0c-43cc-9a4a-3082923b3301",
   "metadata": {},
   "outputs": [],
   "source": [
    "# Initialize model, loss, and optimizer\n",
    "device = torch.device(\"cuda:0\" if torch.cuda.is_available() else \"cpu\")\n",
    "model = ResNetSegmentationModel(num_classes=1)\n",
    "#model = nn.DataParallel(model, device_ids=[0, 1, 2, 3])\n",
    "model.to(device)\n",
    "criterion = nn.BCEWithLogitsLoss()  # Binary Cross Entropy with logits\n",
    "optimizer = optim.Adam(model.parameters(), lr=1e-4)\n",
    "\n",
    "# Training loop\n",
    "num_epochs = 30  # You can adjust the number of epochs"
   ]
  },
  {
   "cell_type": "markdown",
   "id": "83cc8cac-b4db-4870-8fd0-66871ee67464",
   "metadata": {},
   "source": [
    "Train the model. It's set to print stats per epoch. "
   ]
  },
  {
   "cell_type": "code",
   "execution_count": 17,
   "id": "50832a77-c833-4684-b166-6e9eb52bd5e5",
   "metadata": {},
   "outputs": [
    {
     "name": "stderr",
     "output_type": "stream",
     "text": [
      "Epoch 1/30: 100%|██████████| 5/5 [00:00<00:00,  7.72batch/s, loss=0.499]\n"
     ]
    },
    {
     "name": "stdout",
     "output_type": "stream",
     "text": [
      "Epoch [1/30], Average Loss: 0.6232\n"
     ]
    },
    {
     "name": "stderr",
     "output_type": "stream",
     "text": [
      "Epoch 2/30: 100%|██████████| 5/5 [00:00<00:00, 10.18batch/s, loss=0.422]\n"
     ]
    },
    {
     "name": "stdout",
     "output_type": "stream",
     "text": [
      "Epoch [2/30], Average Loss: 0.4387\n"
     ]
    },
    {
     "name": "stderr",
     "output_type": "stream",
     "text": [
      "Epoch 3/30: 100%|██████████| 5/5 [00:00<00:00,  9.68batch/s, loss=0.361]\n"
     ]
    },
    {
     "name": "stdout",
     "output_type": "stream",
     "text": [
      "Epoch [3/30], Average Loss: 0.3763\n"
     ]
    },
    {
     "name": "stderr",
     "output_type": "stream",
     "text": [
      "Epoch 4/30: 100%|██████████| 5/5 [00:00<00:00, 10.34batch/s, loss=0.37] \n"
     ]
    },
    {
     "name": "stdout",
     "output_type": "stream",
     "text": [
      "Epoch [4/30], Average Loss: 0.3455\n"
     ]
    },
    {
     "name": "stderr",
     "output_type": "stream",
     "text": [
      "Epoch 5/30: 100%|██████████| 5/5 [00:00<00:00, 10.31batch/s, loss=0.304]\n"
     ]
    },
    {
     "name": "stdout",
     "output_type": "stream",
     "text": [
      "Epoch [5/30], Average Loss: 0.3893\n"
     ]
    },
    {
     "name": "stderr",
     "output_type": "stream",
     "text": [
      "Epoch 6/30: 100%|██████████| 5/5 [00:00<00:00, 10.50batch/s, loss=0.427] \n"
     ]
    },
    {
     "name": "stdout",
     "output_type": "stream",
     "text": [
      "Epoch [6/30], Average Loss: 0.3255\n"
     ]
    },
    {
     "name": "stderr",
     "output_type": "stream",
     "text": [
      "Epoch 7/30: 100%|██████████| 5/5 [00:00<00:00, 10.55batch/s, loss=0.23] \n"
     ]
    },
    {
     "name": "stdout",
     "output_type": "stream",
     "text": [
      "Epoch [7/30], Average Loss: 0.3390\n"
     ]
    },
    {
     "name": "stderr",
     "output_type": "stream",
     "text": [
      "Epoch 8/30: 100%|██████████| 5/5 [00:00<00:00, 10.54batch/s, loss=0.339]\n"
     ]
    },
    {
     "name": "stdout",
     "output_type": "stream",
     "text": [
      "Epoch [8/30], Average Loss: 0.3446\n"
     ]
    },
    {
     "name": "stderr",
     "output_type": "stream",
     "text": [
      "Epoch 9/30: 100%|██████████| 5/5 [00:00<00:00, 10.57batch/s, loss=0.236]\n"
     ]
    },
    {
     "name": "stdout",
     "output_type": "stream",
     "text": [
      "Epoch [9/30], Average Loss: 0.3526\n"
     ]
    },
    {
     "name": "stderr",
     "output_type": "stream",
     "text": [
      "Epoch 10/30: 100%|██████████| 5/5 [00:00<00:00, 10.53batch/s, loss=0.163]\n"
     ]
    },
    {
     "name": "stdout",
     "output_type": "stream",
     "text": [
      "Epoch [10/30], Average Loss: 0.3241\n"
     ]
    },
    {
     "name": "stderr",
     "output_type": "stream",
     "text": [
      "Epoch 11/30: 100%|██████████| 5/5 [00:00<00:00,  7.99batch/s, loss=0.143]\n"
     ]
    },
    {
     "name": "stdout",
     "output_type": "stream",
     "text": [
      "Epoch [11/30], Average Loss: 0.3555\n"
     ]
    },
    {
     "name": "stderr",
     "output_type": "stream",
     "text": [
      "Epoch 12/30: 100%|██████████| 5/5 [00:00<00:00,  8.22batch/s, loss=0.261]\n"
     ]
    },
    {
     "name": "stdout",
     "output_type": "stream",
     "text": [
      "Epoch [12/30], Average Loss: 0.3195\n"
     ]
    },
    {
     "name": "stderr",
     "output_type": "stream",
     "text": [
      "Epoch 13/30: 100%|██████████| 5/5 [00:00<00:00, 10.55batch/s, loss=0.709]\n"
     ]
    },
    {
     "name": "stdout",
     "output_type": "stream",
     "text": [
      "Epoch [13/30], Average Loss: 0.3190\n"
     ]
    },
    {
     "name": "stderr",
     "output_type": "stream",
     "text": [
      "Epoch 14/30: 100%|██████████| 5/5 [00:00<00:00,  6.99batch/s, loss=0.277]\n"
     ]
    },
    {
     "name": "stdout",
     "output_type": "stream",
     "text": [
      "Epoch [14/30], Average Loss: 0.2910\n"
     ]
    },
    {
     "name": "stderr",
     "output_type": "stream",
     "text": [
      "Epoch 15/30: 100%|██████████| 5/5 [00:00<00:00,  7.84batch/s, loss=0.454]\n"
     ]
    },
    {
     "name": "stdout",
     "output_type": "stream",
     "text": [
      "Epoch [15/30], Average Loss: 0.3035\n"
     ]
    },
    {
     "name": "stderr",
     "output_type": "stream",
     "text": [
      "Epoch 16/30: 100%|██████████| 5/5 [00:00<00:00, 10.53batch/s, loss=0.337]\n"
     ]
    },
    {
     "name": "stdout",
     "output_type": "stream",
     "text": [
      "Epoch [16/30], Average Loss: 0.3801\n"
     ]
    },
    {
     "name": "stderr",
     "output_type": "stream",
     "text": [
      "Epoch 17/30: 100%|██████████| 5/5 [00:00<00:00,  8.48batch/s, loss=0.326]\n"
     ]
    },
    {
     "name": "stdout",
     "output_type": "stream",
     "text": [
      "Epoch [17/30], Average Loss: 0.3334\n"
     ]
    },
    {
     "name": "stderr",
     "output_type": "stream",
     "text": [
      "Epoch 18/30: 100%|██████████| 5/5 [00:00<00:00,  9.89batch/s, loss=0.851]\n"
     ]
    },
    {
     "name": "stdout",
     "output_type": "stream",
     "text": [
      "Epoch [18/30], Average Loss: 0.3353\n"
     ]
    },
    {
     "name": "stderr",
     "output_type": "stream",
     "text": [
      "Epoch 19/30: 100%|██████████| 5/5 [00:00<00:00, 10.50batch/s, loss=0.163]\n"
     ]
    },
    {
     "name": "stdout",
     "output_type": "stream",
     "text": [
      "Epoch [19/30], Average Loss: 0.3400\n"
     ]
    },
    {
     "name": "stderr",
     "output_type": "stream",
     "text": [
      "Epoch 20/30: 100%|██████████| 5/5 [00:00<00:00, 10.57batch/s, loss=0.138]\n"
     ]
    },
    {
     "name": "stdout",
     "output_type": "stream",
     "text": [
      "Epoch [20/30], Average Loss: 0.3217\n"
     ]
    },
    {
     "name": "stderr",
     "output_type": "stream",
     "text": [
      "Epoch 21/30: 100%|██████████| 5/5 [00:00<00:00,  9.29batch/s, loss=0.183]\n"
     ]
    },
    {
     "name": "stdout",
     "output_type": "stream",
     "text": [
      "Epoch [21/30], Average Loss: 0.3368\n"
     ]
    },
    {
     "name": "stderr",
     "output_type": "stream",
     "text": [
      "Epoch 22/30: 100%|██████████| 5/5 [00:00<00:00, 10.59batch/s, loss=0.177]\n"
     ]
    },
    {
     "name": "stdout",
     "output_type": "stream",
     "text": [
      "Epoch [22/30], Average Loss: 0.3061\n"
     ]
    },
    {
     "name": "stderr",
     "output_type": "stream",
     "text": [
      "Epoch 23/30: 100%|██████████| 5/5 [00:00<00:00, 10.47batch/s, loss=0.15] \n"
     ]
    },
    {
     "name": "stdout",
     "output_type": "stream",
     "text": [
      "Epoch [23/30], Average Loss: 0.3293\n"
     ]
    },
    {
     "name": "stderr",
     "output_type": "stream",
     "text": [
      "Epoch 24/30: 100%|██████████| 5/5 [00:00<00:00,  7.25batch/s, loss=0.181]\n"
     ]
    },
    {
     "name": "stdout",
     "output_type": "stream",
     "text": [
      "Epoch [24/30], Average Loss: 0.3258\n"
     ]
    },
    {
     "name": "stderr",
     "output_type": "stream",
     "text": [
      "Epoch 25/30: 100%|██████████| 5/5 [00:00<00:00,  9.19batch/s, loss=0.268]\n"
     ]
    },
    {
     "name": "stdout",
     "output_type": "stream",
     "text": [
      "Epoch [25/30], Average Loss: 0.2875\n"
     ]
    },
    {
     "name": "stderr",
     "output_type": "stream",
     "text": [
      "Epoch 26/30: 100%|██████████| 5/5 [00:00<00:00, 10.57batch/s, loss=0.457] \n"
     ]
    },
    {
     "name": "stdout",
     "output_type": "stream",
     "text": [
      "Epoch [26/30], Average Loss: 0.3348\n"
     ]
    },
    {
     "name": "stderr",
     "output_type": "stream",
     "text": [
      "Epoch 27/30: 100%|██████████| 5/5 [00:00<00:00, 10.27batch/s, loss=0.335] \n"
     ]
    },
    {
     "name": "stdout",
     "output_type": "stream",
     "text": [
      "Epoch [27/30], Average Loss: 0.3025\n"
     ]
    },
    {
     "name": "stderr",
     "output_type": "stream",
     "text": [
      "Epoch 28/30: 100%|██████████| 5/5 [00:00<00:00, 10.50batch/s, loss=0.725]\n"
     ]
    },
    {
     "name": "stdout",
     "output_type": "stream",
     "text": [
      "Epoch [28/30], Average Loss: 0.3012\n"
     ]
    },
    {
     "name": "stderr",
     "output_type": "stream",
     "text": [
      "Epoch 29/30: 100%|██████████| 5/5 [00:00<00:00, 10.12batch/s, loss=0.568]\n"
     ]
    },
    {
     "name": "stdout",
     "output_type": "stream",
     "text": [
      "Epoch [29/30], Average Loss: 0.2719\n"
     ]
    },
    {
     "name": "stderr",
     "output_type": "stream",
     "text": [
      "Epoch 30/30: 100%|██████████| 5/5 [00:00<00:00, 10.06batch/s, loss=0.336]"
     ]
    },
    {
     "name": "stdout",
     "output_type": "stream",
     "text": [
      "Epoch [30/30], Average Loss: 0.2626\n"
     ]
    },
    {
     "name": "stderr",
     "output_type": "stream",
     "text": [
      "\n"
     ]
    }
   ],
   "source": [
    "for epoch in range(num_epochs):\n",
    "    model.train()\n",
    "    epoch_loss = 0\n",
    "    with tqdm(train_loader, unit='batch') as tepoch:\n",
    "        for images, masks in tepoch:\n",
    "            images = images.to(device)\n",
    "            masks = masks.to(device)\n",
    "\n",
    "            # Upsample masks to match the model's output size\n",
    "            masks = nn.functional.interpolate(masks, size=(448, 448), mode='bilinear', align_corners=True)\n",
    "\n",
    "            # Ensure masks have the shape [batch_size, 1, height, width]\n",
    "            if masks.size(1) != 1:\n",
    "                masks = masks.squeeze(1).unsqueeze(1)\n",
    "            \n",
    "            # Forward pass\n",
    "            outputs = model(images)\n",
    "\n",
    "            # Compute loss\n",
    "            criterion = nn.BCEWithLogitsLoss()\n",
    "            loss = criterion(outputs, masks)\n",
    "            epoch_loss += loss.item()\n",
    "\n",
    "            # Backward pass and optimization\n",
    "            optimizer.zero_grad()\n",
    "            loss.backward()\n",
    "            optimizer.step()\n",
    "\n",
    "            # Update progress bar description\n",
    "            tepoch.set_description(f'Epoch {epoch+1}/{num_epochs}')\n",
    "            tepoch.set_postfix(loss=loss.item())\n",
    "\n",
    "    print(f'Epoch [{epoch+1}/{num_epochs}], Average Loss: {epoch_loss / len(train_loader):.4f}')"
   ]
  },
  {
   "cell_type": "markdown",
   "id": "10ff9634-5979-4156-aae0-05011f686f10",
   "metadata": {},
   "source": [
    "Save the trained model so it can be used to run predictions."
   ]
  },
  {
   "cell_type": "code",
   "execution_count": 18,
   "id": "d1fdaa0a-74f4-433f-87e7-62f4760f2a39",
   "metadata": {},
   "outputs": [],
   "source": [
    "# Save the model's state dictionary\n",
    "torch.save(model.state_dict(), '/explore/nobackup/people/sking11/RAWresnet152_model_checkpoint_10.pth')\n",
    "\n",
    "# Save the entire model\n",
    "torch.save(model, '/explore/nobackup/people/sking11/RAWresnet152_model_10.pth')"
   ]
  },
  {
   "cell_type": "markdown",
   "id": "1cf31a66-4ce0-4f13-8d01-2954b24aae91",
   "metadata": {},
   "source": [
    "# Performing Inference on single tile for dataset"
   ]
  },
  {
   "cell_type": "markdown",
   "id": "cc9b10e5-f3db-439a-9577-bc0ed4768461",
   "metadata": {},
   "source": [
    "Let's first load in the model"
   ]
  },
  {
   "cell_type": "code",
   "execution_count": 97,
   "id": "0f5aeeac-532e-4b88-b62d-f8c750547de7",
   "metadata": {},
   "outputs": [
    {
     "name": "stderr",
     "output_type": "stream",
     "text": [
      "/tmp/ipykernel_2752665/2020506089.py:2: FutureWarning: You are using `torch.load` with `weights_only=False` (the current default value), which uses the default pickle module implicitly. It is possible to construct malicious pickle data which will execute arbitrary code during unpickling (See https://github.com/pytorch/pytorch/blob/main/SECURITY.md#untrusted-models for more details). In a future release, the default value for `weights_only` will be flipped to `True`. This limits the functions that could be executed during unpickling. Arbitrary objects will no longer be allowed to be loaded via this mode unless they are explicitly allowlisted by the user via `torch.serialization.add_safe_globals`. We recommend you start setting `weights_only=True` for any use case where you don't have full control of the loaded file. Please open an issue on GitHub for any issues related to this experimental feature.\n",
      "  model = torch.load('/explore/nobackup/people/sking11/RAWresnet152_model_10.pth')\n"
     ]
    }
   ],
   "source": [
    "# Load the entire model\n",
    "model = torch.load('/explore/nobackup/people/sking11/RAWresnet152_model_10.pth')\n",
    "model.eval()\n",
    "device = torch.device(\"cuda:2\" if torch.cuda.is_available() else \"cpu\")\n",
    "model = model.to(device)"
   ]
  },
  {
   "cell_type": "markdown",
   "id": "6c33bc2e-f6f7-4b71-bbc2-c06a7534d106",
   "metadata": {},
   "source": [
    "Here we load in an image, convert the image to a tensor, ensure the values are in the correct order, and check the shape of the validation image and converted tensor."
   ]
  },
  {
   "cell_type": "code",
   "execution_count": 98,
   "id": "bd686e57-77e8-4dd4-b508-9a10c8d1cf3e",
   "metadata": {},
   "outputs": [
    {
     "name": "stdout",
     "output_type": "stream",
     "text": [
      "torch.Size([3, 448, 448])\n",
      "torch.Size([1, 3, 448, 448])\n"
     ]
    },
    {
     "name": "stderr",
     "output_type": "stream",
     "text": [
      "/tmp/ipykernel_2752665/4093021473.py:8: UserWarning: To copy construct from a tensor, it is recommended to use sourceTensor.clone().detach() or sourceTensor.clone().detach().requires_grad_(True), rather than torch.tensor(sourceTensor).\n",
      "  pixel_values = torch.tensor(val_image).permute(0, 1, 2)\n"
     ]
    }
   ],
   "source": [
    "# Extract the image from the dataset\n",
    "val_image, _ = val_dataset[300]  # Change index as needed\n",
    "\n",
    "# Check the shape of val_image\n",
    "print(val_image.shape)  # Should be [height, width, num_channels]\n",
    "\n",
    "# Convert to tensor and permute to [num_channels, height, width]\n",
    "pixel_values = torch.tensor(val_image).permute(0, 1, 2)  \n",
    "\n",
    "# Add the batch dimension\n",
    "pixel_values = pixel_values.unsqueeze(0)  # Final shape should be [1, 3, 448, 448]\n",
    "\n",
    "# Verify the shape\n",
    "print(pixel_values.shape)  # Should be [1, 3, 448, 448]"
   ]
  },
  {
   "cell_type": "markdown",
   "id": "ab7b239d-d3d7-4270-917f-e44f71d0984b",
   "metadata": {},
   "source": [
    "Run and plot the probability mask and the predicted mask generated by our model predictions. "
   ]
  },
  {
   "cell_type": "code",
   "execution_count": 99,
   "id": "45816885-f55b-42ad-a8bc-0e11c7d75ca7",
   "metadata": {},
   "outputs": [
    {
     "data": {
      "image/png": "[encoded data removed]",
      "text/plain": [
       "<Figure size 1000x500 with 2 Axes>"
      ]
     },
     "metadata": {},
     "output_type": "display_data"
    }
   ],
   "source": [
    "model.eval()  # Set the model to evaluation mode\n",
    "\n",
    "with torch.no_grad():\n",
    "    outputs = model(pixel_values.to(device))  # Forward pass through the model\n",
    "\n",
    "# Upsample the output to match the original image size, if necessary\n",
    "upsampled_logits = torch.nn.functional.interpolate(outputs,\n",
    "                                                   size=(448, 448),\n",
    "                                                   mode='bilinear', align_corners=False)\n",
    "\n",
    "# Convert the logits to probabilities\n",
    "predicted_probabilities = torch.sigmoid(upsampled_logits).squeeze().cpu().numpy()\n",
    "\n",
    "# Convert probabilities to binary mask\n",
    "predicted_binary_mask = (predicted_probabilities > 0.5).astype(np.uint8)\n",
    "\n",
    "# Plot both the probability map and the binary mask side-by-side\n",
    "plt.figure(figsize=(10, 5))\n",
    "\n",
    "# Plot the probability map\n",
    "plt.subplot(1, 2, 1)\n",
    "plt.imshow(predicted_probabilities, cmap='gray')\n",
    "plt.title('Probability Map')\n",
    "plt.axis('off')\n",
    "\n",
    "# Plot the binary mask\n",
    "plt.subplot(1, 2, 2)\n",
    "plt.imshow(predicted_binary_mask, cmap='gray')\n",
    "plt.title('Binary Mask')\n",
    "plt.axis('off')\n",
    "\n",
    "plt.show()"
   ]
  },
  {
   "cell_type": "markdown",
   "id": "9d78ac2a-53fb-4e81-b471-a9b5d302bd7c",
   "metadata": {},
   "source": [
    "Save the binary mask as an image with PIL. "
   ]
  },
  {
   "cell_type": "code",
   "execution_count": 100,
   "id": "1a857df0-46d7-4a66-986e-e854a55507c3",
   "metadata": {},
   "outputs": [],
   "source": [
    "binary_mask_image = Image.fromarray(predicted_binary_mask * 255)  # Scale binary mask to 0-255\n",
    "binary_mask_image.save('/explore/nobackup/people/sking11/saved_figures/predictedmaskRAWresnet152_10.png')"
   ]
  },
  {
   "cell_type": "markdown",
   "id": "a1c38bcb-afa5-4803-8c57-575a6721f1f8",
   "metadata": {},
   "source": [
    "# Running Model Statistics using our evaluation dataset"
   ]
  },
  {
   "cell_type": "markdown",
   "id": "a8512be9-7680-4574-97c0-9c89223acb43",
   "metadata": {},
   "source": [
    "In order to run model statistics, we need to first get predictions for a validation/test dataset of images. The following block will run model predictions on an entire set of images and save them to a numpy list."
   ]
  },
  {
   "cell_type": "code",
   "execution_count": 101,
   "id": "51bfc1a5-f378-4499-80e3-e2fd3547a65e",
   "metadata": {},
   "outputs": [
    {
     "name": "stderr",
     "output_type": "stream",
     "text": [
      "Running predictions: 100%|██████████| 653/653 [00:16<00:00, 40.30it/s]\n"
     ]
    }
   ],
   "source": [
    "import torch.nn.functional as F\n",
    "\n",
    "model.eval()  # Set the model to evaluation mode\n",
    "predicted_arrays = []  # List to store the predicted arrays\n",
    "\n",
    "with torch.no_grad():\n",
    "    for i, (images, _) in enumerate(tqdm(val_loader, desc=\"Running predictions\")):\n",
    "        images = images.to(device)\n",
    "        outputs = model(images)\n",
    "        \n",
    "        # Iterate through each image in the batch\n",
    "        for j in range(outputs.size(0)):\n",
    "            predicted_map = outputs[j].squeeze(0)  # Assuming it's a single-channel output\n",
    "            \n",
    "            # Downsize the predicted map to the original mask size (256x256)\n",
    "            predicted_map_resized = F.interpolate(predicted_map.unsqueeze(0).unsqueeze(0), \n",
    "                                                  size=(256, 256), \n",
    "                                                  mode='bilinear', \n",
    "                                                  align_corners=True).squeeze(0).squeeze(0)\n",
    "            \n",
    "            predicted_map_np = predicted_map_resized.cpu().numpy()\n",
    "            \n",
    "            # Apply threshold to convert to binary\n",
    "            predicted_map_np = (predicted_map_np > 0.5).astype(np.uint8)\n",
    "            \n",
    "            # Save the numpy array to the list\n",
    "            predicted_arrays.append(predicted_map_np)"
   ]
  },
  {
   "cell_type": "markdown",
   "id": "10386079-af73-4c3d-a40f-44d3a1f59ba8",
   "metadata": {},
   "source": [
    "We grab the validation masks from the validation dataset and also save those in a numpy array so that they can be compared to the predicted masks. "
   ]
  },
  {
   "cell_type": "code",
   "execution_count": 48,
   "id": "98bf76a5-2cea-4a67-9c2d-36dc47e45f01",
   "metadata": {},
   "outputs": [
    {
     "name": "stderr",
     "output_type": "stream",
     "text": [
      "Processing validation masks: 100%|██████████| 653/653 [00:07<00:00, 89.32it/s] \n"
     ]
    }
   ],
   "source": [
    "val_masks_list = []\n",
    "\n",
    "# Iterate over the validation dataset\n",
    "for idx in tqdm(range(len(val_dataset)), desc=\"Processing validation masks\"):\n",
    "    _, mask = val_dataset[idx]  # Get the mask from the dataset\n",
    "    \n",
    "    # Convert mask tensor to NumPy array\n",
    "    mask_np = mask.squeeze(0).cpu().numpy()  # Remove channel dimension and move to CPU if necessary\n",
    "    \n",
    "    # Ensure mask values are binary (0 or 1)\n",
    "    mask_np = (mask_np > 0.5).astype(np.uint8)\n",
    "    \n",
    "    # Append to the list\n",
    "    val_masks_list.append(mask_np)"
   ]
  },
  {
   "cell_type": "markdown",
   "id": "765d70b0-dfc1-4a12-b01c-5210df00cdb1",
   "metadata": {},
   "source": [
    "Calculate the total pixel accuracy fraction across the whole dataset. "
   ]
  },
  {
   "cell_type": "code",
   "execution_count": 102,
   "id": "e02ea7ff-23d1-4453-a972-46b067d588c2",
   "metadata": {},
   "outputs": [
    {
     "name": "stdout",
     "output_type": "stream",
     "text": [
      "Average Accuracy: 0.7043761272342793\n"
     ]
    }
   ],
   "source": [
    "accuracies = []\n",
    "\n",
    "# Loop through each pair of predicted and original masks\n",
    "for predicted_mask, original_mask in zip(predicted_arrays, val_masks_list):\n",
    "    # Ensure both masks have the same shape\n",
    "    assert predicted_mask.shape == original_mask.shape, \"Shape mismatch between predicted and original masks\"\n",
    "    \n",
    "    # Calculate the accuracy for the current pair of masks\n",
    "    accuracy = np.mean(predicted_mask == original_mask)\n",
    "    accuracies.append(accuracy)\n",
    "\n",
    "# Calculate the mean accuracy\n",
    "mean_accuracy = np.mean(accuracies)\n",
    "average_accuracy = np.average(accuracies)\n",
    "\n",
    "print(f'Average Accuracy: {average_accuracy}')"
   ]
  },
  {
   "cell_type": "code",
   "execution_count": 59,
   "id": "4c980f8b-3087-4e78-8142-5e2d72d9aafb",
   "metadata": {},
   "outputs": [
    {
     "name": "stdout",
     "output_type": "stream",
     "text": [
      "Total Accuracy: 0.9713771054792185\n"
     ]
    }
   ],
   "source": [
    "# Initialize counters for total correct predictions and total pixels\n",
    "total_correct = 0\n",
    "total_pixels = 0\n",
    "\n",
    "# Loop through each pair of predicted and original masks\n",
    "for predicted_mask, original_mask in zip(predicted_arrays, val_masks_list):\n",
    "    # Ensure both masks have the same shape\n",
    "    assert predicted_mask.shape == original_mask.shape, \"Shape mismatch between predicted and original masks\"\n",
    "    \n",
    "    # Flatten the masks to 1D arrays for easier comparison\n",
    "    predicted_mask_flat = predicted_mask.flatten()\n",
    "    original_mask_flat = original_mask.flatten()\n",
    "    \n",
    "    # Count the number of correct predictions\n",
    "    total_correct += np.sum(predicted_mask_flat == original_mask_flat)\n",
    "    \n",
    "    # Count the total number of pixels\n",
    "    total_pixels += original_mask_flat.size\n",
    "\n",
    "# Calculate the total accuracy\n",
    "total_accuracy = total_correct / total_pixels\n",
    "\n",
    "print(f'Total Accuracy: {total_accuracy}')"
   ]
  },
  {
   "cell_type": "markdown",
   "id": "0f239d71-5723-4cfb-8b3f-2104df9f1c65",
   "metadata": {},
   "source": [
    "Calculate the mean IoU across the whole dataset. "
   ]
  },
  {
   "cell_type": "code",
   "execution_count": 103,
   "id": "50f9ea66-088e-49d0-9861-5de16f8df96f",
   "metadata": {},
   "outputs": [
    {
     "name": "stdout",
     "output_type": "stream",
     "text": [
      "Mean IoU: 0.1406\n"
     ]
    }
   ],
   "source": [
    "import numpy as np\n",
    "\n",
    "def calculate_iou(predicted_mask, actual_mask):\n",
    "    # Ensure the masks are binary (0 and 1)\n",
    "    predicted_mask = (predicted_mask > 0.5).astype(np.uint8)\n",
    "    actual_mask = (actual_mask > 0.5).astype(np.uint8)\n",
    "\n",
    "    # Calculate intersection and union\n",
    "    intersection = np.logical_and(predicted_mask, actual_mask)\n",
    "    union = np.logical_or(predicted_mask, actual_mask)\n",
    "\n",
    "    # Compute IoU\n",
    "    iou = np.sum(intersection) / np.sum(union)\n",
    "    return iou\n",
    "\n",
    "def calculate_mean_iou(predicted_masks, actual_masks):\n",
    "    ious = []\n",
    "\n",
    "    for pred, actual in zip(predicted_masks, actual_masks):\n",
    "        iou = calculate_iou(pred, actual)\n",
    "        ious.append(iou)\n",
    "\n",
    "    mean_iou = np.mean(ious)\n",
    "    return mean_iou\n",
    "\n",
    "mean_iou = calculate_mean_iou(predicted_arrays, val_masks_list)\n",
    "print(f\"Mean IoU: {mean_iou:.4f}\")"
   ]
  },
  {
   "cell_type": "markdown",
   "id": "c4fae960-9d9a-4d0a-9ba5-cab4abd4f7cd",
   "metadata": {},
   "source": [
    "Calculate the confusion matrix across the whole dataset. "
   ]
  },
  {
   "cell_type": "code",
   "execution_count": 104,
   "id": "fc282493-d59e-42a7-8df7-903d0dddc800",
   "metadata": {},
   "outputs": [
    {
     "name": "stdout",
     "output_type": "stream",
     "text": [
      "Confusion Matrix:\n",
      "[[27868113 12014554]\n",
      " [  636672  2275669]]\n"
     ]
    }
   ],
   "source": [
    "import numpy as np\n",
    "from sklearn.metrics import confusion_matrix\n",
    "\n",
    "# Flatten all masks and concatenate them into single arrays\n",
    "actual_flat = np.concatenate([mask.flatten() for mask in val_masks_list])\n",
    "predicted_flat = np.concatenate([mask.flatten() for mask in predicted_arrays])\n",
    "\n",
    "# Ensure only two classes: 0 and 1\n",
    "assert np.all(np.isin(actual_flat, [0, 1])), \"Actual masks contain values other than 0 and 1\"\n",
    "assert np.all(np.isin(predicted_flat, [0, 1])), \"Predicted masks contain values other than 0 and 1\"\n",
    "\n",
    "# Calculate the confusion matrix\n",
    "conf_matrix = confusion_matrix(actual_flat, predicted_flat, labels=[0, 1])\n",
    "\n",
    "print(\"Confusion Matrix:\")\n",
    "print(conf_matrix)"
   ]
  },
  {
   "cell_type": "markdown",
   "id": "07a0a373-5b93-4ab5-9c0e-45b1ae06c02e",
   "metadata": {},
   "source": [
    "Calculate the accuracy per tile. This can be plotted to view and understand the variation in accuracy across the whole dataset."
   ]
  },
  {
   "cell_type": "code",
   "execution_count": 105,
   "id": "6aee40fb-55cf-448d-b186-ca42d272139a",
   "metadata": {},
   "outputs": [
    {
     "name": "stdout",
     "output_type": "stream",
     "text": [
      "Tile 0: Accuracy = 0.6362\n",
      "Tile 1: Accuracy = 0.5543\n",
      "Tile 2: Accuracy = 0.5167\n",
      "Tile 3: Accuracy = 0.4878\n",
      "Tile 4: Accuracy = 0.4542\n",
      "Tile 5: Accuracy = 0.6952\n",
      "Tile 6: Accuracy = 0.5291\n",
      "Tile 7: Accuracy = 0.8423\n",
      "Tile 8: Accuracy = 0.4620\n",
      "Tile 9: Accuracy = 0.5951\n",
      "Tile 10: Accuracy = 0.5631\n",
      "Tile 11: Accuracy = 0.5901\n",
      "Tile 12: Accuracy = 0.7839\n",
      "Tile 13: Accuracy = 0.6017\n",
      "Tile 14: Accuracy = 0.4698\n",
      "Tile 15: Accuracy = 0.5569\n",
      "Tile 16: Accuracy = 0.9728\n",
      "Tile 17: Accuracy = 0.8699\n",
      "Tile 18: Accuracy = 0.7384\n",
      "Tile 19: Accuracy = 0.8008\n",
      "Tile 20: Accuracy = 0.8287\n",
      "Tile 21: Accuracy = 0.6690\n",
      "Tile 22: Accuracy = 0.6015\n",
      "Tile 23: Accuracy = 0.7234\n",
      "Tile 24: Accuracy = 0.9126\n",
      "Tile 25: Accuracy = 0.7064\n",
      "Tile 26: Accuracy = 0.4589\n",
      "Tile 27: Accuracy = 0.5745\n",
      "Tile 28: Accuracy = 0.4639\n",
      "Tile 29: Accuracy = 0.6958\n",
      "Tile 30: Accuracy = 0.6091\n",
      "Tile 31: Accuracy = 0.5246\n",
      "Tile 32: Accuracy = 0.6852\n",
      "Tile 33: Accuracy = 0.6034\n",
      "Tile 34: Accuracy = 0.3216\n",
      "Tile 35: Accuracy = 0.3747\n",
      "Tile 36: Accuracy = 0.8006\n",
      "Tile 37: Accuracy = 0.4274\n",
      "Tile 38: Accuracy = 0.5592\n",
      "Tile 39: Accuracy = 0.3266\n",
      "Tile 40: Accuracy = 0.4568\n",
      "Tile 41: Accuracy = 0.3143\n",
      "Tile 42: Accuracy = 0.7178\n",
      "Tile 43: Accuracy = 0.7772\n",
      "Tile 44: Accuracy = 0.8576\n",
      "Tile 45: Accuracy = 0.8599\n",
      "Tile 46: Accuracy = 0.8494\n",
      "Tile 47: Accuracy = 0.6794\n",
      "Tile 48: Accuracy = 0.9988\n",
      "Tile 49: Accuracy = 0.9795\n",
      "Tile 50: Accuracy = 0.6685\n",
      "Tile 51: Accuracy = 0.3962\n",
      "Tile 52: Accuracy = 0.6713\n",
      "Tile 53: Accuracy = 0.6094\n",
      "Tile 54: Accuracy = 0.6686\n",
      "Tile 55: Accuracy = 0.5091\n",
      "Tile 56: Accuracy = 0.6144\n",
      "Tile 57: Accuracy = 0.3368\n",
      "Tile 58: Accuracy = 0.4015\n",
      "Tile 59: Accuracy = 0.3772\n",
      "Tile 60: Accuracy = 0.8737\n",
      "Tile 61: Accuracy = 0.6709\n",
      "Tile 62: Accuracy = 0.4636\n",
      "Tile 63: Accuracy = 0.5356\n",
      "Tile 64: Accuracy = 0.6289\n",
      "Tile 65: Accuracy = 0.6152\n",
      "Tile 66: Accuracy = 0.5930\n",
      "Tile 67: Accuracy = 0.7043\n",
      "Tile 68: Accuracy = 0.8701\n",
      "Tile 69: Accuracy = 0.9613\n",
      "Tile 70: Accuracy = 0.8075\n",
      "Tile 71: Accuracy = 0.8265\n",
      "Tile 72: Accuracy = 0.9821\n",
      "Tile 73: Accuracy = 0.6583\n",
      "Tile 74: Accuracy = 0.7476\n",
      "Tile 75: Accuracy = 0.3251\n",
      "Tile 76: Accuracy = 0.7928\n",
      "Tile 77: Accuracy = 0.4609\n",
      "Tile 78: Accuracy = 0.6686\n",
      "Tile 79: Accuracy = 0.3400\n",
      "Tile 80: Accuracy = 0.8773\n",
      "Tile 81: Accuracy = 0.6127\n",
      "Tile 82: Accuracy = 0.4927\n",
      "Tile 83: Accuracy = 0.4375\n",
      "Tile 84: Accuracy = 0.3791\n",
      "Tile 85: Accuracy = 0.4084\n",
      "Tile 86: Accuracy = 0.4436\n",
      "Tile 87: Accuracy = 0.4643\n",
      "Tile 88: Accuracy = 0.5257\n",
      "Tile 89: Accuracy = 0.4016\n",
      "Tile 90: Accuracy = 0.4791\n",
      "Tile 91: Accuracy = 0.5700\n",
      "Tile 92: Accuracy = 0.5431\n",
      "Tile 93: Accuracy = 0.4865\n",
      "Tile 94: Accuracy = 0.3894\n",
      "Tile 95: Accuracy = 0.5720\n",
      "Tile 96: Accuracy = 0.7987\n",
      "Tile 97: Accuracy = 0.4195\n",
      "Tile 98: Accuracy = 0.7605\n",
      "Tile 99: Accuracy = 0.6363\n",
      "Tile 100: Accuracy = 0.7861\n",
      "Tile 101: Accuracy = 0.5991\n",
      "Tile 102: Accuracy = 0.9948\n",
      "Tile 103: Accuracy = 0.9373\n",
      "Tile 104: Accuracy = 0.7101\n",
      "Tile 105: Accuracy = 0.7830\n",
      "Tile 106: Accuracy = 0.6144\n",
      "Tile 107: Accuracy = 0.4175\n",
      "Tile 108: Accuracy = 0.7896\n",
      "Tile 109: Accuracy = 0.8201\n",
      "Tile 110: Accuracy = 0.8515\n",
      "Tile 111: Accuracy = 0.8318\n",
      "Tile 112: Accuracy = 0.5634\n",
      "Tile 113: Accuracy = 0.3076\n",
      "Tile 114: Accuracy = 0.5998\n",
      "Tile 115: Accuracy = 0.8017\n",
      "Tile 116: Accuracy = 0.5921\n",
      "Tile 117: Accuracy = 0.6251\n",
      "Tile 118: Accuracy = 0.5151\n",
      "Tile 119: Accuracy = 0.8311\n",
      "Tile 120: Accuracy = 0.3525\n",
      "Tile 121: Accuracy = 0.7379\n",
      "Tile 122: Accuracy = 0.7136\n",
      "Tile 123: Accuracy = 0.2831\n",
      "Tile 124: Accuracy = 0.4638\n",
      "Tile 125: Accuracy = 0.7841\n",
      "Tile 126: Accuracy = 0.7090\n",
      "Tile 127: Accuracy = 0.6191\n",
      "Tile 128: Accuracy = 0.9851\n",
      "Tile 129: Accuracy = 0.5573\n",
      "Tile 130: Accuracy = 0.9853\n",
      "Tile 131: Accuracy = 0.5415\n",
      "Tile 132: Accuracy = 0.6163\n",
      "Tile 133: Accuracy = 0.4949\n",
      "Tile 134: Accuracy = 0.8740\n",
      "Tile 135: Accuracy = 0.7475\n",
      "Tile 136: Accuracy = 0.5563\n",
      "Tile 137: Accuracy = 0.6945\n",
      "Tile 138: Accuracy = 0.8440\n",
      "Tile 139: Accuracy = 0.5767\n",
      "Tile 140: Accuracy = 0.6192\n",
      "Tile 141: Accuracy = 0.9944\n",
      "Tile 142: Accuracy = 0.8284\n",
      "Tile 143: Accuracy = 0.2910\n",
      "Tile 144: Accuracy = 0.7510\n",
      "Tile 145: Accuracy = 0.8474\n",
      "Tile 146: Accuracy = 0.9312\n",
      "Tile 147: Accuracy = 0.6784\n",
      "Tile 148: Accuracy = 0.7461\n",
      "Tile 149: Accuracy = 0.4489\n",
      "Tile 150: Accuracy = 0.8584\n",
      "Tile 151: Accuracy = 0.4591\n",
      "Tile 152: Accuracy = 0.8038\n",
      "Tile 153: Accuracy = 0.6483\n",
      "Tile 154: Accuracy = 0.7404\n",
      "Tile 155: Accuracy = 0.9441\n",
      "Tile 156: Accuracy = 0.7759\n",
      "Tile 157: Accuracy = 0.6492\n",
      "Tile 158: Accuracy = 0.6865\n",
      "Tile 159: Accuracy = 0.6115\n",
      "Tile 160: Accuracy = 0.4394\n",
      "Tile 161: Accuracy = 0.5913\n",
      "Tile 162: Accuracy = 0.2670\n",
      "Tile 163: Accuracy = 0.5960\n",
      "Tile 164: Accuracy = 0.7918\n",
      "Tile 165: Accuracy = 0.8173\n",
      "Tile 166: Accuracy = 0.8534\n",
      "Tile 167: Accuracy = 0.9545\n",
      "Tile 168: Accuracy = 0.8983\n",
      "Tile 169: Accuracy = 0.7860\n",
      "Tile 170: Accuracy = 0.4784\n",
      "Tile 171: Accuracy = 0.5334\n",
      "Tile 172: Accuracy = 0.7431\n",
      "Tile 173: Accuracy = 0.7317\n",
      "Tile 174: Accuracy = 0.8329\n",
      "Tile 175: Accuracy = 0.6698\n",
      "Tile 176: Accuracy = 0.8282\n",
      "Tile 177: Accuracy = 0.5910\n",
      "Tile 178: Accuracy = 0.6737\n",
      "Tile 179: Accuracy = 0.5298\n",
      "Tile 180: Accuracy = 0.4398\n",
      "Tile 181: Accuracy = 0.5785\n",
      "Tile 182: Accuracy = 0.3639\n",
      "Tile 183: Accuracy = 0.3810\n",
      "Tile 184: Accuracy = 0.3495\n",
      "Tile 185: Accuracy = 0.9997\n",
      "Tile 186: Accuracy = 0.7183\n",
      "Tile 187: Accuracy = 0.6085\n",
      "Tile 188: Accuracy = 0.8379\n",
      "Tile 189: Accuracy = 0.7340\n",
      "Tile 190: Accuracy = 0.7131\n",
      "Tile 191: Accuracy = 0.5627\n",
      "Tile 192: Accuracy = 0.6993\n",
      "Tile 193: Accuracy = 0.5744\n",
      "Tile 194: Accuracy = 0.4156\n",
      "Tile 195: Accuracy = 0.8414\n",
      "Tile 196: Accuracy = 0.7980\n",
      "Tile 197: Accuracy = 0.4506\n",
      "Tile 198: Accuracy = 0.6599\n",
      "Tile 199: Accuracy = 0.5807\n",
      "Tile 200: Accuracy = 0.6647\n",
      "Tile 201: Accuracy = 0.6186\n",
      "Tile 202: Accuracy = 0.5318\n",
      "Tile 203: Accuracy = 0.9171\n",
      "Tile 204: Accuracy = 0.7461\n",
      "Tile 205: Accuracy = 0.5934\n",
      "Tile 206: Accuracy = 0.5577\n",
      "Tile 207: Accuracy = 0.4341\n",
      "Tile 208: Accuracy = 0.7493\n",
      "Tile 209: Accuracy = 0.6958\n",
      "Tile 210: Accuracy = 0.6149\n",
      "Tile 211: Accuracy = 0.5179\n",
      "Tile 212: Accuracy = 0.7710\n",
      "Tile 213: Accuracy = 0.9174\n",
      "Tile 214: Accuracy = 0.6146\n",
      "Tile 215: Accuracy = 0.9172\n",
      "Tile 216: Accuracy = 0.2536\n",
      "Tile 217: Accuracy = 0.7928\n",
      "Tile 218: Accuracy = 0.8594\n",
      "Tile 219: Accuracy = 0.5650\n",
      "Tile 220: Accuracy = 0.8329\n",
      "Tile 221: Accuracy = 0.7989\n",
      "Tile 222: Accuracy = 0.7841\n",
      "Tile 223: Accuracy = 0.4255\n",
      "Tile 224: Accuracy = 0.6064\n",
      "Tile 225: Accuracy = 0.2876\n",
      "Tile 226: Accuracy = 0.3436\n",
      "Tile 227: Accuracy = 0.6755\n",
      "Tile 228: Accuracy = 0.3673\n",
      "Tile 229: Accuracy = 0.4827\n",
      "Tile 230: Accuracy = 0.7692\n",
      "Tile 231: Accuracy = 0.7111\n",
      "Tile 232: Accuracy = 0.4423\n",
      "Tile 233: Accuracy = 0.3749\n",
      "Tile 234: Accuracy = 0.5901\n",
      "Tile 235: Accuracy = 0.4906\n",
      "Tile 236: Accuracy = 0.4574\n",
      "Tile 237: Accuracy = 0.8172\n",
      "Tile 238: Accuracy = 0.7951\n",
      "Tile 239: Accuracy = 0.7946\n",
      "Tile 240: Accuracy = 0.6638\n",
      "Tile 241: Accuracy = 0.7571\n",
      "Tile 242: Accuracy = 0.7836\n",
      "Tile 243: Accuracy = 0.7629\n",
      "Tile 244: Accuracy = 0.5454\n",
      "Tile 245: Accuracy = 0.5212\n",
      "Tile 246: Accuracy = 0.5313\n",
      "Tile 247: Accuracy = 0.4287\n",
      "Tile 248: Accuracy = 0.8565\n",
      "Tile 249: Accuracy = 0.5176\n",
      "Tile 250: Accuracy = 0.1861\n",
      "Tile 251: Accuracy = 0.4112\n",
      "Tile 252: Accuracy = 0.9487\n",
      "Tile 253: Accuracy = 0.5291\n",
      "Tile 254: Accuracy = 0.6851\n",
      "Tile 255: Accuracy = 0.4229\n",
      "Tile 256: Accuracy = 0.4768\n",
      "Tile 257: Accuracy = 0.7460\n",
      "Tile 258: Accuracy = 0.3795\n",
      "Tile 259: Accuracy = 0.6913\n",
      "Tile 260: Accuracy = 0.9120\n",
      "Tile 261: Accuracy = 0.7389\n",
      "Tile 262: Accuracy = 0.6183\n",
      "Tile 263: Accuracy = 0.7985\n",
      "Tile 264: Accuracy = 0.4718\n",
      "Tile 265: Accuracy = 0.6535\n",
      "Tile 266: Accuracy = 0.5344\n",
      "Tile 267: Accuracy = 0.4711\n",
      "Tile 268: Accuracy = 0.9044\n",
      "Tile 269: Accuracy = 0.7492\n",
      "Tile 270: Accuracy = 0.4341\n",
      "Tile 271: Accuracy = 0.6700\n",
      "Tile 272: Accuracy = 0.7053\n",
      "Tile 273: Accuracy = 0.8917\n",
      "Tile 274: Accuracy = 0.4495\n",
      "Tile 275: Accuracy = 0.5520\n",
      "Tile 276: Accuracy = 0.6166\n",
      "Tile 277: Accuracy = 0.7000\n",
      "Tile 278: Accuracy = 0.4558\n",
      "Tile 279: Accuracy = 0.7195\n",
      "Tile 280: Accuracy = 0.4607\n",
      "Tile 281: Accuracy = 0.5964\n",
      "Tile 282: Accuracy = 0.4865\n",
      "Tile 283: Accuracy = 0.7633\n",
      "Tile 284: Accuracy = 0.7587\n",
      "Tile 285: Accuracy = 0.8352\n",
      "Tile 286: Accuracy = 0.8778\n",
      "Tile 287: Accuracy = 0.9683\n",
      "Tile 288: Accuracy = 0.7657\n",
      "Tile 289: Accuracy = 0.7420\n",
      "Tile 290: Accuracy = 0.5865\n",
      "Tile 291: Accuracy = 0.6049\n",
      "Tile 292: Accuracy = 0.7200\n",
      "Tile 293: Accuracy = 0.8287\n",
      "Tile 294: Accuracy = 0.5491\n",
      "Tile 295: Accuracy = 0.3550\n",
      "Tile 296: Accuracy = 0.6589\n",
      "Tile 297: Accuracy = 0.6970\n",
      "Tile 298: Accuracy = 0.9555\n",
      "Tile 299: Accuracy = 0.4858\n",
      "Tile 300: Accuracy = 0.7621\n",
      "Tile 301: Accuracy = 0.7460\n",
      "Tile 302: Accuracy = 0.7599\n",
      "Tile 303: Accuracy = 0.9664\n",
      "Tile 304: Accuracy = 0.6529\n",
      "Tile 305: Accuracy = 0.7918\n",
      "Tile 306: Accuracy = 0.7474\n",
      "Tile 307: Accuracy = 0.6519\n",
      "Tile 308: Accuracy = 0.8190\n",
      "Tile 309: Accuracy = 0.5571\n",
      "Tile 310: Accuracy = 0.8260\n",
      "Tile 311: Accuracy = 0.8568\n",
      "Tile 312: Accuracy = 0.7333\n",
      "Tile 313: Accuracy = 0.6843\n",
      "Tile 314: Accuracy = 0.9025\n",
      "Tile 315: Accuracy = 0.8362\n",
      "Tile 316: Accuracy = 0.8719\n",
      "Tile 317: Accuracy = 0.4830\n",
      "Tile 318: Accuracy = 0.8620\n",
      "Tile 319: Accuracy = 0.8875\n",
      "Tile 320: Accuracy = 0.6687\n",
      "Tile 321: Accuracy = 0.3841\n",
      "Tile 322: Accuracy = 0.5426\n",
      "Tile 323: Accuracy = 0.6808\n",
      "Tile 324: Accuracy = 0.8639\n",
      "Tile 325: Accuracy = 0.6462\n",
      "Tile 326: Accuracy = 0.5833\n",
      "Tile 327: Accuracy = 0.7819\n",
      "Tile 328: Accuracy = 0.8630\n",
      "Tile 329: Accuracy = 0.7211\n",
      "Tile 330: Accuracy = 0.9724\n",
      "Tile 331: Accuracy = 0.9112\n",
      "Tile 332: Accuracy = 0.5527\n",
      "Tile 333: Accuracy = 0.6911\n",
      "Tile 334: Accuracy = 0.9334\n",
      "Tile 335: Accuracy = 0.9162\n",
      "Tile 336: Accuracy = 0.7865\n",
      "Tile 337: Accuracy = 0.8189\n",
      "Tile 338: Accuracy = 0.8380\n",
      "Tile 339: Accuracy = 0.6423\n",
      "Tile 340: Accuracy = 0.6693\n",
      "Tile 341: Accuracy = 0.5039\n",
      "Tile 342: Accuracy = 0.6643\n",
      "Tile 343: Accuracy = 0.5059\n",
      "Tile 344: Accuracy = 0.7532\n",
      "Tile 345: Accuracy = 0.6583\n",
      "Tile 346: Accuracy = 0.9364\n",
      "Tile 347: Accuracy = 0.8044\n",
      "Tile 348: Accuracy = 0.4601\n",
      "Tile 349: Accuracy = 0.8212\n",
      "Tile 350: Accuracy = 0.8606\n",
      "Tile 351: Accuracy = 0.6027\n",
      "Tile 352: Accuracy = 0.6452\n",
      "Tile 353: Accuracy = 0.6936\n",
      "Tile 354: Accuracy = 0.8703\n",
      "Tile 355: Accuracy = 0.7158\n",
      "Tile 356: Accuracy = 0.6616\n",
      "Tile 357: Accuracy = 0.7260\n",
      "Tile 358: Accuracy = 0.7322\n",
      "Tile 359: Accuracy = 0.6394\n",
      "Tile 360: Accuracy = 0.7946\n",
      "Tile 361: Accuracy = 0.7495\n",
      "Tile 362: Accuracy = 0.7009\n",
      "Tile 363: Accuracy = 0.9169\n",
      "Tile 364: Accuracy = 0.8677\n",
      "Tile 365: Accuracy = 0.8282\n",
      "Tile 366: Accuracy = 0.8927\n",
      "Tile 367: Accuracy = 0.9470\n",
      "Tile 368: Accuracy = 0.6004\n",
      "Tile 369: Accuracy = 0.6093\n",
      "Tile 370: Accuracy = 0.7430\n",
      "Tile 371: Accuracy = 0.9249\n",
      "Tile 372: Accuracy = 0.5486\n",
      "Tile 373: Accuracy = 0.8218\n",
      "Tile 374: Accuracy = 0.9055\n",
      "Tile 375: Accuracy = 0.7259\n",
      "Tile 376: Accuracy = 0.6054\n",
      "Tile 377: Accuracy = 0.9387\n",
      "Tile 378: Accuracy = 0.8892\n",
      "Tile 379: Accuracy = 0.6232\n",
      "Tile 380: Accuracy = 0.8303\n",
      "Tile 381: Accuracy = 0.8115\n",
      "Tile 382: Accuracy = 0.9432\n",
      "Tile 383: Accuracy = 0.4941\n",
      "Tile 384: Accuracy = 0.5223\n",
      "Tile 385: Accuracy = 0.9104\n",
      "Tile 386: Accuracy = 0.4068\n",
      "Tile 387: Accuracy = 0.5310\n",
      "Tile 388: Accuracy = 0.5238\n",
      "Tile 389: Accuracy = 0.5462\n",
      "Tile 390: Accuracy = 0.4370\n",
      "Tile 391: Accuracy = 0.4548\n",
      "Tile 392: Accuracy = 0.8854\n",
      "Tile 393: Accuracy = 0.8691\n",
      "Tile 394: Accuracy = 0.4066\n",
      "Tile 395: Accuracy = 0.7285\n",
      "Tile 396: Accuracy = 0.6714\n",
      "Tile 397: Accuracy = 0.4089\n",
      "Tile 398: Accuracy = 0.8731\n",
      "Tile 399: Accuracy = 0.7446\n",
      "Tile 400: Accuracy = 0.5233\n",
      "Tile 401: Accuracy = 0.9266\n",
      "Tile 402: Accuracy = 0.9061\n",
      "Tile 403: Accuracy = 0.9118\n",
      "Tile 404: Accuracy = 0.8533\n",
      "Tile 405: Accuracy = 0.7658\n",
      "Tile 406: Accuracy = 0.9959\n",
      "Tile 407: Accuracy = 0.8287\n",
      "Tile 408: Accuracy = 0.6574\n",
      "Tile 409: Accuracy = 0.3761\n",
      "Tile 410: Accuracy = 0.8596\n",
      "Tile 411: Accuracy = 0.7117\n",
      "Tile 412: Accuracy = 0.5802\n",
      "Tile 413: Accuracy = 0.6602\n",
      "Tile 414: Accuracy = 0.4869\n",
      "Tile 415: Accuracy = 0.7744\n",
      "Tile 416: Accuracy = 0.6952\n",
      "Tile 417: Accuracy = 0.5137\n",
      "Tile 418: Accuracy = 0.5570\n",
      "Tile 419: Accuracy = 0.6883\n",
      "Tile 420: Accuracy = 0.5336\n",
      "Tile 421: Accuracy = 0.7639\n",
      "Tile 422: Accuracy = 0.6522\n",
      "Tile 423: Accuracy = 0.6204\n",
      "Tile 424: Accuracy = 0.7531\n",
      "Tile 425: Accuracy = 0.7888\n",
      "Tile 426: Accuracy = 0.6030\n",
      "Tile 427: Accuracy = 0.8134\n",
      "Tile 428: Accuracy = 0.8804\n",
      "Tile 429: Accuracy = 0.8794\n",
      "Tile 430: Accuracy = 0.5944\n",
      "Tile 431: Accuracy = 0.8228\n",
      "Tile 432: Accuracy = 0.7515\n",
      "Tile 433: Accuracy = 0.6849\n",
      "Tile 434: Accuracy = 0.9376\n",
      "Tile 435: Accuracy = 0.8003\n",
      "Tile 436: Accuracy = 0.8378\n",
      "Tile 437: Accuracy = 0.9947\n",
      "Tile 438: Accuracy = 0.8193\n",
      "Tile 439: Accuracy = 0.8953\n",
      "Tile 440: Accuracy = 0.9143\n",
      "Tile 441: Accuracy = 0.7595\n",
      "Tile 442: Accuracy = 0.5699\n",
      "Tile 443: Accuracy = 0.6953\n",
      "Tile 444: Accuracy = 0.7600\n",
      "Tile 445: Accuracy = 0.7239\n",
      "Tile 446: Accuracy = 0.7321\n",
      "Tile 447: Accuracy = 0.7956\n",
      "Tile 448: Accuracy = 0.7465\n",
      "Tile 449: Accuracy = 0.6205\n",
      "Tile 450: Accuracy = 0.7493\n",
      "Tile 451: Accuracy = 0.8451\n",
      "Tile 452: Accuracy = 0.6032\n",
      "Tile 453: Accuracy = 0.9158\n",
      "Tile 454: Accuracy = 0.6300\n",
      "Tile 455: Accuracy = 0.9198\n",
      "Tile 456: Accuracy = 0.7371\n",
      "Tile 457: Accuracy = 0.6067\n",
      "Tile 458: Accuracy = 0.6181\n",
      "Tile 459: Accuracy = 0.7449\n",
      "Tile 460: Accuracy = 0.8925\n",
      "Tile 461: Accuracy = 0.7969\n",
      "Tile 462: Accuracy = 0.5702\n",
      "Tile 463: Accuracy = 0.6456\n",
      "Tile 464: Accuracy = 0.8246\n",
      "Tile 465: Accuracy = 0.8871\n",
      "Tile 466: Accuracy = 0.7783\n",
      "Tile 467: Accuracy = 0.8355\n",
      "Tile 468: Accuracy = 0.8978\n",
      "Tile 469: Accuracy = 0.7724\n",
      "Tile 470: Accuracy = 0.7921\n",
      "Tile 471: Accuracy = 0.7315\n",
      "Tile 472: Accuracy = 0.7114\n",
      "Tile 473: Accuracy = 0.8061\n",
      "Tile 474: Accuracy = 0.9279\n",
      "Tile 475: Accuracy = 0.7042\n",
      "Tile 476: Accuracy = 0.8049\n",
      "Tile 477: Accuracy = 0.8418\n",
      "Tile 478: Accuracy = 0.6140\n",
      "Tile 479: Accuracy = 0.7410\n",
      "Tile 480: Accuracy = 0.7314\n",
      "Tile 481: Accuracy = 0.5788\n",
      "Tile 482: Accuracy = 0.4767\n",
      "Tile 483: Accuracy = 0.9218\n",
      "Tile 484: Accuracy = 0.7978\n",
      "Tile 485: Accuracy = 0.8262\n",
      "Tile 486: Accuracy = 0.5833\n",
      "Tile 487: Accuracy = 0.8612\n",
      "Tile 488: Accuracy = 0.9309\n",
      "Tile 489: Accuracy = 0.5852\n",
      "Tile 490: Accuracy = 0.7292\n",
      "Tile 491: Accuracy = 0.8173\n",
      "Tile 492: Accuracy = 0.7683\n",
      "Tile 493: Accuracy = 0.7866\n",
      "Tile 494: Accuracy = 0.7837\n",
      "Tile 495: Accuracy = 0.7592\n",
      "Tile 496: Accuracy = 0.7113\n",
      "Tile 497: Accuracy = 0.8315\n",
      "Tile 498: Accuracy = 0.7207\n",
      "Tile 499: Accuracy = 0.7729\n",
      "Tile 500: Accuracy = 0.8822\n",
      "Tile 501: Accuracy = 0.9472\n",
      "Tile 502: Accuracy = 0.6324\n",
      "Tile 503: Accuracy = 0.8649\n",
      "Tile 504: Accuracy = 0.6217\n",
      "Tile 505: Accuracy = 0.8747\n",
      "Tile 506: Accuracy = 0.6652\n",
      "Tile 507: Accuracy = 0.5201\n",
      "Tile 508: Accuracy = 0.6543\n",
      "Tile 509: Accuracy = 0.7453\n",
      "Tile 510: Accuracy = 0.7525\n",
      "Tile 511: Accuracy = 0.6726\n",
      "Tile 512: Accuracy = 0.7001\n",
      "Tile 513: Accuracy = 0.7101\n",
      "Tile 514: Accuracy = 0.7462\n",
      "Tile 515: Accuracy = 0.9569\n",
      "Tile 516: Accuracy = 0.9167\n",
      "Tile 517: Accuracy = 0.7488\n",
      "Tile 518: Accuracy = 0.7723\n",
      "Tile 519: Accuracy = 0.6016\n",
      "Tile 520: Accuracy = 0.8209\n",
      "Tile 521: Accuracy = 0.8534\n",
      "Tile 522: Accuracy = 0.8027\n",
      "Tile 523: Accuracy = 0.6637\n",
      "Tile 524: Accuracy = 0.8007\n",
      "Tile 525: Accuracy = 0.8916\n",
      "Tile 526: Accuracy = 0.9405\n",
      "Tile 527: Accuracy = 0.8530\n",
      "Tile 528: Accuracy = 0.9911\n",
      "Tile 529: Accuracy = 0.8590\n",
      "Tile 530: Accuracy = 0.8976\n",
      "Tile 531: Accuracy = 0.8011\n",
      "Tile 532: Accuracy = 0.5456\n",
      "Tile 533: Accuracy = 0.9145\n",
      "Tile 534: Accuracy = 0.8459\n",
      "Tile 535: Accuracy = 0.8022\n",
      "Tile 536: Accuracy = 0.9685\n",
      "Tile 537: Accuracy = 0.7713\n",
      "Tile 538: Accuracy = 0.7227\n",
      "Tile 539: Accuracy = 0.7241\n",
      "Tile 540: Accuracy = 0.5046\n",
      "Tile 541: Accuracy = 0.7151\n",
      "Tile 542: Accuracy = 0.7549\n",
      "Tile 543: Accuracy = 0.8445\n",
      "Tile 544: Accuracy = 0.7957\n",
      "Tile 545: Accuracy = 0.8425\n",
      "Tile 546: Accuracy = 0.8064\n",
      "Tile 547: Accuracy = 0.7773\n",
      "Tile 548: Accuracy = 0.9419\n",
      "Tile 549: Accuracy = 0.8553\n",
      "Tile 550: Accuracy = 0.6806\n",
      "Tile 551: Accuracy = 0.8696\n",
      "Tile 552: Accuracy = 0.7910\n",
      "Tile 553: Accuracy = 0.6533\n",
      "Tile 554: Accuracy = 0.7280\n",
      "Tile 555: Accuracy = 0.9368\n",
      "Tile 556: Accuracy = 0.6267\n",
      "Tile 557: Accuracy = 0.6358\n",
      "Tile 558: Accuracy = 0.8524\n",
      "Tile 559: Accuracy = 0.7479\n",
      "Tile 560: Accuracy = 0.6712\n",
      "Tile 561: Accuracy = 0.7414\n",
      "Tile 562: Accuracy = 0.6993\n",
      "Tile 563: Accuracy = 0.7884\n",
      "Tile 564: Accuracy = 0.7012\n",
      "Tile 565: Accuracy = 0.7827\n",
      "Tile 566: Accuracy = 0.8946\n",
      "Tile 567: Accuracy = 0.8195\n",
      "Tile 568: Accuracy = 0.7607\n",
      "Tile 569: Accuracy = 0.6848\n",
      "Tile 570: Accuracy = 0.6824\n",
      "Tile 571: Accuracy = 0.8654\n",
      "Tile 572: Accuracy = 0.8137\n",
      "Tile 573: Accuracy = 0.8134\n",
      "Tile 574: Accuracy = 0.8734\n",
      "Tile 575: Accuracy = 0.6572\n",
      "Tile 576: Accuracy = 0.7364\n",
      "Tile 577: Accuracy = 0.8696\n",
      "Tile 578: Accuracy = 0.8719\n",
      "Tile 579: Accuracy = 0.5645\n",
      "Tile 580: Accuracy = 0.7567\n",
      "Tile 581: Accuracy = 0.8469\n",
      "Tile 582: Accuracy = 0.6888\n",
      "Tile 583: Accuracy = 0.7990\n",
      "Tile 584: Accuracy = 0.6156\n",
      "Tile 585: Accuracy = 0.7038\n",
      "Tile 586: Accuracy = 0.8051\n",
      "Tile 587: Accuracy = 0.9256\n",
      "Tile 588: Accuracy = 0.8880\n",
      "Tile 589: Accuracy = 0.9039\n",
      "Tile 590: Accuracy = 0.9741\n",
      "Tile 591: Accuracy = 0.8906\n",
      "Tile 592: Accuracy = 0.6367\n",
      "Tile 593: Accuracy = 0.7434\n",
      "Tile 594: Accuracy = 0.7620\n",
      "Tile 595: Accuracy = 0.8459\n",
      "Tile 596: Accuracy = 0.8922\n",
      "Tile 597: Accuracy = 0.7404\n",
      "Tile 598: Accuracy = 0.8624\n",
      "Tile 599: Accuracy = 0.7099\n",
      "Tile 600: Accuracy = 0.7285\n",
      "Tile 601: Accuracy = 0.7465\n",
      "Tile 602: Accuracy = 0.7950\n",
      "Tile 603: Accuracy = 0.9350\n",
      "Tile 604: Accuracy = 0.9494\n",
      "Tile 605: Accuracy = 0.7788\n",
      "Tile 606: Accuracy = 0.8819\n",
      "Tile 607: Accuracy = 0.8261\n",
      "Tile 608: Accuracy = 0.9255\n",
      "Tile 609: Accuracy = 0.7605\n",
      "Tile 610: Accuracy = 0.9020\n",
      "Tile 611: Accuracy = 0.7901\n",
      "Tile 612: Accuracy = 0.8963\n",
      "Tile 613: Accuracy = 0.7656\n",
      "Tile 614: Accuracy = 0.6222\n",
      "Tile 615: Accuracy = 0.8724\n",
      "Tile 616: Accuracy = 0.4913\n",
      "Tile 617: Accuracy = 0.6728\n",
      "Tile 618: Accuracy = 0.7854\n",
      "Tile 619: Accuracy = 0.9867\n",
      "Tile 620: Accuracy = 0.9830\n",
      "Tile 621: Accuracy = 0.9869\n",
      "Tile 622: Accuracy = 0.9161\n",
      "Tile 623: Accuracy = 0.8918\n",
      "Tile 624: Accuracy = 0.5195\n",
      "Tile 625: Accuracy = 0.7872\n",
      "Tile 626: Accuracy = 0.7207\n",
      "Tile 627: Accuracy = 0.5704\n",
      "Tile 628: Accuracy = 0.7419\n",
      "Tile 629: Accuracy = 0.9107\n",
      "Tile 630: Accuracy = 0.7353\n",
      "Tile 631: Accuracy = 0.7219\n",
      "Tile 632: Accuracy = 0.7645\n",
      "Tile 633: Accuracy = 0.8307\n",
      "Tile 634: Accuracy = 0.8184\n",
      "Tile 635: Accuracy = 0.6554\n",
      "Tile 636: Accuracy = 0.7253\n",
      "Tile 637: Accuracy = 0.5921\n",
      "Tile 638: Accuracy = 0.8463\n",
      "Tile 639: Accuracy = 0.7262\n",
      "Tile 640: Accuracy = 0.7361\n",
      "Tile 641: Accuracy = 0.6656\n",
      "Tile 642: Accuracy = 0.8215\n",
      "Tile 643: Accuracy = 0.9167\n",
      "Tile 644: Accuracy = 0.7005\n",
      "Tile 645: Accuracy = 0.3709\n",
      "Tile 646: Accuracy = 0.8265\n",
      "Tile 647: Accuracy = 0.6657\n",
      "Tile 648: Accuracy = 0.9778\n",
      "Tile 649: Accuracy = 0.7447\n",
      "Tile 650: Accuracy = 0.8350\n",
      "Tile 651: Accuracy = 0.8371\n",
      "Tile 652: Accuracy = 0.8588\n"
     ]
    }
   ],
   "source": [
    "# Calculate accuracy for each tile\n",
    "accuracies = []\n",
    "for actual_mask, predicted_mask in zip(val_masks_list, predicted_arrays):\n",
    "    # Ensure both masks have the same shape\n",
    "    assert actual_mask.shape == predicted_mask.shape, \"Mismatch in mask shapes\"\n",
    "    \n",
    "    # Calculate the number of correctly predicted pixels\n",
    "    correct_pixels = np.sum(actual_mask == predicted_mask)\n",
    "    total_pixels = actual_mask.size\n",
    "    accuracy = correct_pixels / total_pixels\n",
    "    \n",
    "    accuracies.append(accuracy)\n",
    "\n",
    "# Now, accuracies contains the accuracy for each tile\n",
    "for idx, acc in enumerate(accuracies):\n",
    "    print(f\"Tile {idx}: Accuracy = {acc:.4f}\")"
   ]
  },
  {
   "cell_type": "markdown",
   "id": "d64a79c5-331a-41c6-b82d-b2b415dca4ed",
   "metadata": {},
   "source": [
    "Save the accuracies into a CSV for later use. "
   ]
  },
  {
   "cell_type": "code",
   "execution_count": 106,
   "id": "4ff52b69-858d-4741-9586-b62f95a4f560",
   "metadata": {},
   "outputs": [],
   "source": [
    "import csv\n",
    "\n",
    "# Specify the full file path\n",
    "file_path = '/explore/nobackup/people/sking11/accuracies/RAWresnet152_10_accuracies.csv'\n",
    "\n",
    "# Save as CSV using csv module\n",
    "with open(file_path, 'w', newline='') as csvfile:\n",
    "    writer = csv.writer(csvfile)\n",
    "    writer.writerow(['Tile', 'Accuracy'])  # Write the header\n",
    "    for idx, accuracy in enumerate(accuracies):\n",
    "        writer.writerow([idx, accuracy])"
   ]
  },
  {
   "cell_type": "markdown",
   "id": "26dc95a1-dabf-4cea-a8c1-f957e6d76918",
   "metadata": {},
   "source": [
    "Plot the variation in accuracy. "
   ]
  },
  {
   "cell_type": "code",
   "execution_count": 107,
   "id": "762520cb-fe5b-4522-8a92-72ef55da6d29",
   "metadata": {},
   "outputs": [
    {
     "data": {
      "image/png": "[encoded data removed]",
      "text/plain": [
       "<Figure size 1000x1000 with 1 Axes>"
      ]
     },
     "metadata": {},
     "output_type": "display_data"
    }
   ],
   "source": [
    "import matplotlib.pyplot as plt\n",
    "\n",
    "# Create a box plot\n",
    "plt.figure(figsize=(10, 10))\n",
    "plt.boxplot(accuracies, vert=True, patch_artist=True)\n",
    "\n",
    "# Adding titles and labels with customized font sizes\n",
    "plt.title('Variation in Accuracies (ResNet152, 5000 Training Set Size)', fontsize=17)\n",
    "plt.ylabel('Accuracy', fontsize=15)\n",
    "\n",
    "# Optional: Customize the plot\n",
    "plt.xticks([1], ['Tile Accuracies'], fontsize=15)  # Since there's only one box plot\n",
    "plt.grid(True)\n",
    "\n",
    "# Display the plot\n",
    "plt.show()"
   ]
  },
  {
   "cell_type": "code",
   "execution_count": null,
   "id": "c243e9e0-85a9-4f81-af69-9fa4b9b0fcda",
   "metadata": {},
   "outputs": [],
   "source": []
  }
 ],
 "metadata": {
  "kernelspec": {
   "display_name": "dino_env",
   "language": "python",
   "name": "dino_env"
  },
  "language_info": {
   "codemirror_mode": {
    "name": "ipython",
    "version": 3
   },
   "file_extension": ".py",
   "mimetype": "text/x-python",
   "name": "python",
   "nbconvert_exporter": "python",
   "pygments_lexer": "ipython3",
   "version": "3.12.4"
  }
 },
 "nbformat": 4,
 "nbformat_minor": 5
}
