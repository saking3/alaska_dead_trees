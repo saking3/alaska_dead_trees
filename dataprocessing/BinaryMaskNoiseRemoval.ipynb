{
 "cells": [
  {
   "cell_type": "markdown",
   "id": "6824c150-032d-46b9-a96e-774c76e93c9e",
   "metadata": {},
   "source": [
    "## This notebook will clean small clusters of \"noise\" contained within masks that may exist in masks created via k-means clustering. "
   ]
  },
  {
   "cell_type": "markdown",
   "id": "2dfda529-2038-4e8e-a081-5025863245e8",
   "metadata": {},
   "source": [
    "Import packages"
   ]
  },
  {
   "cell_type": "code",
   "execution_count": 37,
   "id": "619167e8-90ae-4ba5-9ed5-1a7a7902340a",
   "metadata": {},
   "outputs": [],
   "source": [
    "import cv2\n",
    "import numpy as np\n",
    "from PIL import Image"
   ]
  },
  {
   "cell_type": "markdown",
   "id": "1efffb5f-fa95-4ae1-ad73-e125bf76d110",
   "metadata": {},
   "source": [
    "Function for removing small clusters from an image. Image should be binary (only contain 0 and 1 values) "
   ]
  },
  {
   "cell_type": "code",
   "execution_count": null,
   "id": "fdc503a7-9292-4fac-b3e2-847889a611a8",
   "metadata": {},
   "outputs": [],
   "source": [
    "def remove_small_clusters(binary_image, min_cluster_size=10):\n",
    "    print(\"Running connected components analysis...\")\n",
    "    \n",
    "    # Run connected components on the binary image (0 and 1 values)\n",
    "    num_labels, labels, stats, centroids = cv2.connectedComponentsWithStats(binary_image, connectivity=8)\n",
    "    print(f\"Number of labels: {num_labels}\")\n",
    "    \n",
    "    # Initialize the cleaned image\n",
    "    cleaned_image = np.zeros(binary_image.shape, dtype=np.uint8)\n",
    "    \n",
    "    for i in range(1, num_labels):\n",
    "        component_size = stats[i, cv2.CC_STAT_AREA]\n",
    "        \n",
    "        if component_size >= min_cluster_size:\n",
    "            cleaned_image[labels == i] = 1\n",
    "    \n",
    "    return cleaned_image"
   ]
  },
  {
   "cell_type": "markdown",
   "id": "49997fc1-95aa-4199-86eb-fc54bbe18ad8",
   "metadata": {},
   "source": [
    "Upload image, check image shape and pixel values. Path should be changed to wherever your image of interest is.  "
   ]
  },
  {
   "cell_type": "code",
   "execution_count": 59,
   "id": "50deb4f1-6248-4a7f-83f2-46cce1a7db9d",
   "metadata": {},
   "outputs": [
    {
     "name": "stdout",
     "output_type": "stream",
     "text": [
      "Image shape: (9821, 12513)\n",
      "Unique pixel values before thresholding: [0 1]\n"
     ]
    }
   ],
   "source": [
    "# Load the binary image (assumed to be in grayscale)\n",
    "\n",
    "#open image with PIL\n",
    "pil_image = Image.open('/explore/nobackup/people/sking11/clustering/clustering/1970_binarymask.tif')\n",
    "#ensure image is in grayscale\n",
    "pil_image = pil_image.convert('L')  # Convert to grayscale\n",
    "#convert image to numpy array\n",
    "binary_image = np.array(pil_image)\n",
    "\n",
    "#check image shape \n",
    "print(f\"Image shape: {binary_image.shape}\")\n",
    "#check that image is binary (contains 0 and 1 values only) \n",
    "print(f\"Unique pixel values before thresholding: {np.unique(binary_image)}\")"
   ]
  },
  {
   "cell_type": "markdown",
   "id": "c435bd22-c4c7-4043-8289-82aae405b867",
   "metadata": {},
   "source": [
    "Run the remove_small_clusters function. Change min_cluster_size to something that makes sense for your data (a value that will remove noise without removing trees for the G-LiHT images tended to range between 400-600 pixels)"
   ]
  },
  {
   "cell_type": "code",
   "execution_count": 61,
   "id": "eed285bc-6e66-4e6d-b7e6-385a86fa4fc6",
   "metadata": {},
   "outputs": [
    {
     "name": "stdout",
     "output_type": "stream",
     "text": [
      "Running connected components analysis...\n",
      "Number of labels: 210103\n"
     ]
    }
   ],
   "source": [
    "# Remove small clusters\n",
    "cleaned_image = remove_small_clusters(binary_image, min_cluster_size=500)"
   ]
  },
  {
   "cell_type": "code",
   "execution_count": 62,
   "id": "94ba472b-b10f-4332-a910-b8f1c292754b",
   "metadata": {},
   "outputs": [
    {
     "data": {
      "text/plain": [
       "True"
      ]
     },
     "execution_count": 62,
     "metadata": {},
     "output_type": "execute_result"
    }
   ],
   "source": [
    "# Save or display the cleaned image w/ cv2\n",
    "writepath = '/explore/nobackup/people/sking11/clustering/clustering/cleaned_1970_binarymask_500cluster.tif'\n",
    "cv2.imwrite(writepath, cleaned_image)"
   ]
  }
 ],
 "metadata": {
  "kernelspec": {
   "display_name": "clean_env",
   "language": "python",
   "name": "clean_env"
  },
  "language_info": {
   "codemirror_mode": {
    "name": "ipython",
    "version": 3
   },
   "file_extension": ".py",
   "mimetype": "text/x-python",
   "name": "python",
   "nbconvert_exporter": "python",
   "pygments_lexer": "ipython3",
   "version": "3.12.4"
  }
 },
 "nbformat": 4,
 "nbformat_minor": 5
}
