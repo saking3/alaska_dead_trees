{
 "cells": [
  {
   "cell_type": "markdown",
   "id": "4508cca4-3c35-4150-a201-a688fa25caff",
   "metadata": {},
   "source": [
    "This model is a [ResNet152](https://huggingface.co/microsoft/resnet-152) model trained on 224x224 resolution data from ImageNet-1k run with unfrozen parameters. "
   ]
  },
  {
   "cell_type": "markdown",
   "id": "64918961-3a6c-4b6f-b7d2-b2e5d6e7f025",
   "metadata": {},
   "source": [
    "# Loading in Data"
   ]
  },
  {
   "cell_type": "markdown",
   "id": "e78f7aa0-74b0-422c-9ddb-c3a7a2537f7e",
   "metadata": {},
   "source": [
    "Import Packages"
   ]
  },
  {
   "cell_type": "code",
   "execution_count": 23,
   "id": "820d0f33-75f7-4f16-9965-c3fd471c1679",
   "metadata": {},
   "outputs": [],
   "source": [
    "import torch\n",
    "import torch.nn as nn\n",
    "import torch.optim as optim\n",
    "from torchvision import models, transforms\n",
    "from torch.utils.data import DataLoader, Dataset\n",
    "from PIL import Image\n",
    "import numpy as np\n",
    "import huggingface_hub\n",
    "from tqdm import tqdm\n",
    "import matplotlib.pyplot as plt \n",
    "import os"
   ]
  },
  {
   "cell_type": "markdown",
   "id": "8b2dff0b-e64b-4039-9cb1-dbac488797c7",
   "metadata": {},
   "source": [
    "Load in the training data from huggingface"
   ]
  },
  {
   "cell_type": "code",
   "execution_count": 2,
   "id": "0a1b8f61-f67b-4d43-9d90-2f4c153458c7",
   "metadata": {},
   "outputs": [
    {
     "name": "stderr",
     "output_type": "stream",
     "text": [
      "/home/sking11/.conda/envs/dino_env/lib/python3.12/site-packages/tqdm/auto.py:21: TqdmWarning: IProgress not found. Please update jupyter and ipywidgets. See https://ipywidgets.readthedocs.io/en/stable/user_install.html\n",
      "  from .autonotebook import tqdm as notebook_tqdm\n"
     ]
    }
   ],
   "source": [
    "from datasets import load_dataset, DatasetDict, Dataset\n",
    "\n",
    "dataset = load_dataset('saking3/alaska_dead_trees')"
   ]
  },
  {
   "cell_type": "code",
   "execution_count": 3,
   "id": "be314170-b884-45eb-9599-17df46474366",
   "metadata": {},
   "outputs": [
    {
     "data": {
      "text/plain": [
       "DatasetDict({\n",
       "    train: Dataset({\n",
       "        features: ['image', 'label'],\n",
       "        num_rows: 6400\n",
       "    })\n",
       "    validation: Dataset({\n",
       "        features: ['image', 'label'],\n",
       "        num_rows: 653\n",
       "    })\n",
       "    test: Dataset({\n",
       "        features: ['image', 'label'],\n",
       "        num_rows: 1286\n",
       "    })\n",
       "})"
      ]
     },
     "execution_count": 3,
     "metadata": {},
     "output_type": "execute_result"
    }
   ],
   "source": [
    "dataset"
   ]
  },
  {
   "cell_type": "markdown",
   "id": "ea1732b4-ff86-4b4a-b46e-0f130dbb5a5d",
   "metadata": {},
   "source": [
    "Subsetting the dataset so the training dataset only contains 5000 randomly selected training images. "
   ]
  },
  {
   "cell_type": "code",
   "execution_count": 4,
   "id": "cb38dc45-c77d-4736-8c3a-297c14ccd3ce",
   "metadata": {},
   "outputs": [],
   "source": [
    "training_size = 5000 #10, 100, 500, 1000, 5000\n",
    "\n",
    "random_indices = np.random.choice(len(dataset[\"train\"]), size=training_size, replace=False)"
   ]
  },
  {
   "cell_type": "code",
   "execution_count": 5,
   "id": "a8331b88-ec8d-4959-99d9-ac978815c205",
   "metadata": {},
   "outputs": [
    {
     "name": "stdout",
     "output_type": "stream",
     "text": [
      "DatasetDict({\n",
      "    train: Dataset({\n",
      "        features: ['image', 'label'],\n",
      "        num_rows: 5000\n",
      "    })\n",
      "    validation: Dataset({\n",
      "        features: ['image', 'label'],\n",
      "        num_rows: 653\n",
      "    })\n",
      "    test: Dataset({\n",
      "        features: ['image', 'label'],\n",
      "        num_rows: 1286\n",
      "    })\n",
      "})\n"
     ]
    }
   ],
   "source": [
    "# Select the random subset\n",
    "train_subset = dataset[\"train\"].select(random_indices)\n",
    "\n",
    "# Create a new DatasetDict with the subset\n",
    "subset_training_dataset = DatasetDict({\n",
    "    \"train\": train_subset,\n",
    "    \"validation\": dataset[\"validation\"],\n",
    "    \"test\": dataset[\"test\"]\n",
    "})\n",
    "\n",
    "# Print the structure of the new subset dataset to confirm\n",
    "print(subset_training_dataset)"
   ]
  },
  {
   "cell_type": "markdown",
   "id": "53407230-cc71-49b7-b92b-c59e6b5013a5",
   "metadata": {},
   "source": [
    "Let's load the mappings between integers and their classes "
   ]
  },
  {
   "cell_type": "code",
   "execution_count": 6,
   "id": "703d70ba-a667-4976-bb90-b292d9a951ed",
   "metadata": {},
   "outputs": [],
   "source": [
    "#get labels for each dataset \n",
    "id2label = {0: 'Background', 1: 'Dead Tree'}"
   ]
  },
  {
   "cell_type": "markdown",
   "id": "f6f51fbc-d526-44a8-b8ae-a2de56a2f9e5",
   "metadata": {},
   "source": [
    "Create a 'dataset' that serves us input images and masks in a format appropriate for the ResNet model."
   ]
  },
  {
   "cell_type": "code",
   "execution_count": 39,
   "id": "782cc7b5-47b4-4bd6-83b5-968b13be27be",
   "metadata": {},
   "outputs": [],
   "source": [
    "class ForestDataset(Dataset):\n",
    "    def __init__(self, dataset, transform=None):\n",
    "        self.dataset = dataset\n",
    "        self.transform = transform\n",
    "\n",
    "    def __len__(self):\n",
    "        return len(self.dataset)\n",
    "    \n",
    "    def __getitem__(self, idx):\n",
    "        image = self.dataset[idx]['image']\n",
    "        mask = self.dataset[idx]['label']\n",
    "\n",
    "        if isinstance(image, np.ndarray):\n",
    "            image = Image.fromarray(image)\n",
    "    \n",
    "        if self.transform:\n",
    "            image = self.transform(image)\n",
    "\n",
    "        mask = torch.tensor(np.array(mask), dtype=torch.float).unsqueeze(0)\n",
    "        return image, mask"
   ]
  },
  {
   "cell_type": "markdown",
   "id": "af3e7468-0d50-4b25-ab2c-c2a00b32a64c",
   "metadata": {},
   "source": [
    "## Transformations \n",
    "We augment the training images by resizing them to a fixed resolution (448x448), converting the images to tensors, and normalizing the color channels."
   ]
  },
  {
   "cell_type": "code",
   "execution_count": 40,
   "id": "63197797-4f7a-4f3b-990d-dea92c692e8b",
   "metadata": {},
   "outputs": [],
   "source": [
    "train_transform = transforms.Compose([\n",
    "    transforms.Resize((448, 448)),\n",
    "    transforms.ToTensor(),\n",
    "    transforms.Normalize(mean=[0.485, 0.456, 0.406], std=[0.229, 0.224, 0.225])\n",
    "])\n",
    "\n",
    "val_transform = transforms.Compose([\n",
    "    transforms.Resize((448, 448)),\n",
    "    transforms.ToTensor(),\n",
    "    transforms.Normalize(mean=[0.485, 0.456, 0.406], std=[0.229, 0.224, 0.225])\n",
    "])"
   ]
  },
  {
   "cell_type": "markdown",
   "id": "5b276e7d-0e8a-4298-a00c-2468506b62b6",
   "metadata": {},
   "source": [
    "Create the training, validation, and test dataset and check the length of each dataset."
   ]
  },
  {
   "cell_type": "code",
   "execution_count": 41,
   "id": "f1207156-4367-498c-8487-29a5f20a0324",
   "metadata": {},
   "outputs": [],
   "source": [
    "train_dataset = ForestDataset(subset_training_dataset['train'], transform=train_transform)\n",
    "val_dataset = ForestDataset(subset_training_dataset['validation'], transform=val_transform)\n",
    "test_dataset = ForestDataset(subset_training_dataset['test'], transform=val_transform)"
   ]
  },
  {
   "cell_type": "code",
   "execution_count": 42,
   "id": "b81c43fc-48f9-479e-8d61-b04ec24f2473",
   "metadata": {},
   "outputs": [
    {
     "name": "stdout",
     "output_type": "stream",
     "text": [
      "Number of train images: 5000\n",
      "Number of val images: 653\n",
      "Number of test images: 1286\n"
     ]
    }
   ],
   "source": [
    "print(\"Number of train images:\", len(train_dataset))\n",
    "print(\"Number of val images:\", len(val_dataset))\n",
    "print(\"Number of test images:\", len(test_dataset))"
   ]
  },
  {
   "cell_type": "markdown",
   "id": "e625d86a-2a63-48ea-aca5-356149b3e04c",
   "metadata": {},
   "source": [
    "Create the training, validation, and test dataloaders to feed data to the model. "
   ]
  },
  {
   "cell_type": "code",
   "execution_count": 43,
   "id": "eb591709-8483-4c2e-ac58-c76f224767c5",
   "metadata": {},
   "outputs": [],
   "source": [
    "train_loader = DataLoader(train_dataset, batch_size=4, shuffle=True)\n",
    "val_loader = DataLoader(val_dataset, batch_size=4, shuffle=False)\n",
    "test_loader = DataLoader(test_dataset, batch_size=4, shuffle=False)"
   ]
  },
  {
   "cell_type": "markdown",
   "id": "23abdce1-940d-4bf3-a8cd-386b7bb30cbd",
   "metadata": {},
   "source": [
    "# Training the Model"
   ]
  },
  {
   "cell_type": "markdown",
   "id": "1d1ca953-f247-419c-83f5-a42cedf6d6fa",
   "metadata": {},
   "source": [
    "## Model Structure\n",
    "\n",
    "**ResNet-152 Backbone:** ResNet-152 is a deep residual network with 152 layers, pre-trained on the ImageNet dataset.\n",
    "\n",
    "**Feature Extraction:** The model uses a forward hook to capture the output of the layer4[0] block of ResNet-152, which contains high-level features. This is where the deep features of the input image are extracted.\n",
    "\n",
    "**Upsampling Layers:** After extracting features, the model uses a series of transposed convolutional layers to upsample the feature maps to the original image size.\n",
    "        Transposed Convolution Layers (ConvTranspose2d):\n",
    "            upconv1: Upsamples the 2048 feature maps from layer4 to 1024 channels.\n",
    "            upconv2: Upsamples from 1024 channels to 512 channels.\n",
    "            upconv3: Upsamples from 512 channels to 256 channels.\n",
    "            upconv4: Upsamples from 256 channels to the number of output classes.\n",
    "\n",
    "**Final Upsampling:** After the transposed convolutional layers, a final bilinear upsampling layer (Upsample) resizes the output to a target size of 256x256 pixels. This ensures that the segmentation mask matches the desired output resolution."
   ]
  },
  {
   "cell_type": "markdown",
   "id": "2882017a-d83f-4419-9874-45ca40a01e55",
   "metadata": {},
   "source": [
    "## The Forward Pass\n",
    "\n",
    "**Initial Convolution and Pooling:** The input image is passed through the initial layers of ResNet-152 (conv1, bn1, relu, maxpool) to extract basic features.\n",
    "\n",
    "**Residual Layers:** The image is processed through four residual layers (layer1 to layer4) in ResNet-152. The features are gradually refined and reduced in spatial dimensions while increasing in depth (number of channels).\n",
    "\n",
    "**Upsampling:** After extracting the features from the last residual layer (layer4), the transposed convolutional layers progressively upsample these features back to the original spatial resolution. Each upsampling step reduces the depth (number of channels) of the feature maps while increasing their spatial dimensions.\n",
    "\n",
    "**Final Output:** The final output is a segmentation mask with dimensions [batch_size, num_classes, 256, 256]. For a binary segmentation task, num_classes would typically be 1, meaning the output is a single-channel mask where each pixel represents the probability of belonging to the target class (e.g., a specific object or region in the image)."
   ]
  },
  {
   "cell_type": "code",
   "execution_count": 35,
   "id": "37f1abb7-f8b9-4613-bde4-d9b1d89026ec",
   "metadata": {},
   "outputs": [],
   "source": [
    "#define resnet model\n",
    "class ResNet152Segmentation(nn.Module):\n",
    "    def __init__(self, num_classes=1):\n",
    "        super(ResNet152Segmentation, self).__init__()\n",
    "        self.resnet = models.resnet152(pretrained=True)\n",
    "        \n",
    "        # Extract the features from the ResNet model\n",
    "        self.resnet.layer4[0].register_forward_hook(self.hook_fn)\n",
    "        \n",
    "        # Define the upsampling layers\n",
    "        self.upconv1 = nn.ConvTranspose2d(2048, 1024, kernel_size=4, stride=2, padding=1)\n",
    "        self.upconv2 = nn.ConvTranspose2d(1024, 512, kernel_size=4, stride=2, padding=1)\n",
    "        self.upconv3 = nn.ConvTranspose2d(512, 256, kernel_size=4, stride=2, padding=1)\n",
    "        self.upconv4 = nn.ConvTranspose2d(256, num_classes, kernel_size=4, stride=2, padding=1)\n",
    "\n",
    "        # Upsample to match the target size (256x256)\n",
    "        self.final_upsample = nn.Upsample(size=(256, 256), mode='bilinear', align_corners=False)\n",
    "\n",
    "    def hook_fn(self, module, input, output):\n",
    "        self.features = output\n",
    "\n",
    "    def forward(self, x):\n",
    "        x = self.resnet.conv1(x)   # Initial conv layer\n",
    "        x = self.resnet.bn1(x)     # Initial batch norm\n",
    "        x = self.resnet.relu(x)    # Initial ReLU\n",
    "        x = self.resnet.maxpool(x) # Initial max pooling\n",
    "        \n",
    "        x = self.resnet.layer1(x)  # First ResNet layer block\n",
    "        x = self.resnet.layer2(x)  # Second ResNet layer block\n",
    "        x = self.resnet.layer3(x)  # Third ResNet layer block\n",
    "        x = self.resnet.layer4(x)  # Fourth ResNet layer block\n",
    "\n",
    "        # Apply upsampling\n",
    "        x = self.upconv1(x)        # Upsample to [batch, 1024, 56, 56]\n",
    "        x = self.upconv2(x)        # Upsample to [batch, 512, 112, 112]\n",
    "        x = self.upconv3(x)        # Upsample to [batch, 256, 224, 224]\n",
    "        x = self.upconv4(x)        # Upsample to [batch, num_classes, 448, 448]\n",
    "        x = self.final_upsample(x) # Resize to [batch, num_classes, 256, 256]\n",
    "        \n",
    "        return x"
   ]
  },
  {
   "cell_type": "markdown",
   "id": "aeb71c67-1e61-46fb-885c-0cef0050b5e9",
   "metadata": {},
   "source": [
    "We can instantiate the model as follows:"
   ]
  },
  {
   "cell_type": "code",
   "execution_count": 29,
   "id": "e81adc7b-1c0c-43cc-9a4a-3082923b3301",
   "metadata": {},
   "outputs": [],
   "source": [
    "model = ResNet152Segmentation(num_classes=1)\n",
    "\n",
    "# Ensure all parameters are trainable/unfrozen\n",
    "for param in model.parameters():\n",
    "    param.requires_grad = True"
   ]
  },
  {
   "cell_type": "markdown",
   "id": "4f7ca6e5-f12d-4eff-9819-74e7bd893929",
   "metadata": {},
   "source": [
    "Pick loss function and gradient descent method (Adam function). "
   ]
  },
  {
   "cell_type": "code",
   "execution_count": 30,
   "id": "1c40fd88-478b-4cdb-80b5-3a3427a1919e",
   "metadata": {},
   "outputs": [],
   "source": [
    "criterion = nn.BCEWithLogitsLoss()\n",
    "optimizer = optim.Adam(model.parameters(), lr=1e-6)"
   ]
  },
  {
   "cell_type": "markdown",
   "id": "83cc8cac-b4db-4870-8fd0-66871ee67464",
   "metadata": {},
   "source": [
    "Train the model. It's set to print stats per epoch. "
   ]
  },
  {
   "cell_type": "code",
   "execution_count": 33,
   "id": "50832a77-c833-4684-b166-6e9eb52bd5e5",
   "metadata": {},
   "outputs": [],
   "source": [
    "def train_model(model, dataloader, criterion, optimizer, num_epochs=10):\n",
    "    device = torch.device(\"cuda:0\" if torch.cuda.is_available() else \"cpu\")\n",
    "    model = nn.DataParallel(model, device_ids=[0, 1, 2, 3])\n",
    "    model.to(device)\n",
    "    \n",
    "    for epoch in range(num_epochs):\n",
    "        model.train()\n",
    "        running_loss = 0.0\n",
    "        \n",
    "        # Wrap the data loader with tqdm to show the progress bar\n",
    "        for images, masks in tqdm(dataloader, desc=f'Epoch {epoch+1}/{num_epochs}', unit='batch'):\n",
    "            images, masks = images.to(device), masks.to(device)\n",
    "            \n",
    "            optimizer.zero_grad()\n",
    "            \n",
    "            outputs = model(images)\n",
    "            \n",
    "            # Ensure the outputs and targets are the same size\n",
    "            if outputs.size() != masks.size():\n",
    "                outputs = nn.functional.interpolate(outputs, size=masks.shape[2:], mode='bilinear', align_corners=False)\n",
    "            \n",
    "            loss = criterion(outputs, masks)\n",
    "            loss.backward()\n",
    "            optimizer.step()\n",
    "            \n",
    "            running_loss += loss.item() * images.size(0)\n",
    "        \n",
    "        epoch_loss = running_loss / len(dataloader.dataset)\n",
    "        print(f\"Epoch {epoch+1}/{num_epochs}, Loss: {epoch_loss:.4f}\")"
   ]
  },
  {
   "cell_type": "code",
   "execution_count": 34,
   "id": "c4cf5c12-84ec-42e8-9665-655918c53d70",
   "metadata": {},
   "outputs": [
    {
     "name": "stderr",
     "output_type": "stream",
     "text": [
      "Epoch 1/30:   0%|          | 0/1250 [00:00<?, ?batch/s]/home/sking11/.conda/envs/dino_env/lib/python3.12/site-packages/torch/nn/parallel/parallel_apply.py:79: FutureWarning: `torch.cuda.amp.autocast(args...)` is deprecated. Please use `torch.amp.autocast('cuda', args...)` instead.\n",
      "  with torch.cuda.device(device), torch.cuda.stream(stream), autocast(enabled=autocast_enabled):\n",
      "Epoch 1/30: 100%|██████████| 1250/1250 [05:48<00:00,  3.59batch/s]\n"
     ]
    },
    {
     "name": "stdout",
     "output_type": "stream",
     "text": [
      "Epoch 1/30, Loss: 0.2826\n"
     ]
    },
    {
     "name": "stderr",
     "output_type": "stream",
     "text": [
      "Epoch 2/30: 100%|██████████| 1250/1250 [04:49<00:00,  4.32batch/s]\n"
     ]
    },
    {
     "name": "stdout",
     "output_type": "stream",
     "text": [
      "Epoch 2/30, Loss: 0.2194\n"
     ]
    },
    {
     "name": "stderr",
     "output_type": "stream",
     "text": [
      "Epoch 3/30: 100%|██████████| 1250/1250 [04:50<00:00,  4.30batch/s]\n"
     ]
    },
    {
     "name": "stdout",
     "output_type": "stream",
     "text": [
      "Epoch 3/30, Loss: 0.1984\n"
     ]
    },
    {
     "name": "stderr",
     "output_type": "stream",
     "text": [
      "Epoch 4/30: 100%|██████████| 1250/1250 [04:57<00:00,  4.20batch/s]\n"
     ]
    },
    {
     "name": "stdout",
     "output_type": "stream",
     "text": [
      "Epoch 4/30, Loss: 0.1777\n"
     ]
    },
    {
     "name": "stderr",
     "output_type": "stream",
     "text": [
      "Epoch 5/30: 100%|██████████| 1250/1250 [04:49<00:00,  4.31batch/s]\n"
     ]
    },
    {
     "name": "stdout",
     "output_type": "stream",
     "text": [
      "Epoch 5/30, Loss: 0.1572\n"
     ]
    },
    {
     "name": "stderr",
     "output_type": "stream",
     "text": [
      "Epoch 6/30: 100%|██████████| 1250/1250 [04:56<00:00,  4.22batch/s]\n"
     ]
    },
    {
     "name": "stdout",
     "output_type": "stream",
     "text": [
      "Epoch 6/30, Loss: 0.1402\n"
     ]
    },
    {
     "name": "stderr",
     "output_type": "stream",
     "text": [
      "Epoch 7/30: 100%|██████████| 1250/1250 [04:51<00:00,  4.28batch/s]\n"
     ]
    },
    {
     "name": "stdout",
     "output_type": "stream",
     "text": [
      "Epoch 7/30, Loss: 0.1269\n"
     ]
    },
    {
     "name": "stderr",
     "output_type": "stream",
     "text": [
      "Epoch 8/30: 100%|██████████| 1250/1250 [04:50<00:00,  4.30batch/s]\n"
     ]
    },
    {
     "name": "stdout",
     "output_type": "stream",
     "text": [
      "Epoch 8/30, Loss: 0.1175\n"
     ]
    },
    {
     "name": "stderr",
     "output_type": "stream",
     "text": [
      "Epoch 9/30: 100%|██████████| 1250/1250 [04:56<00:00,  4.21batch/s]\n"
     ]
    },
    {
     "name": "stdout",
     "output_type": "stream",
     "text": [
      "Epoch 9/30, Loss: 0.1109\n"
     ]
    },
    {
     "name": "stderr",
     "output_type": "stream",
     "text": [
      "Epoch 10/30: 100%|██████████| 1250/1250 [04:54<00:00,  4.25batch/s]\n"
     ]
    },
    {
     "name": "stdout",
     "output_type": "stream",
     "text": [
      "Epoch 10/30, Loss: 0.1067\n"
     ]
    },
    {
     "name": "stderr",
     "output_type": "stream",
     "text": [
      "Epoch 11/30: 100%|██████████| 1250/1250 [04:54<00:00,  4.24batch/s]\n"
     ]
    },
    {
     "name": "stdout",
     "output_type": "stream",
     "text": [
      "Epoch 11/30, Loss: 0.1035\n"
     ]
    },
    {
     "name": "stderr",
     "output_type": "stream",
     "text": [
      "Epoch 12/30: 100%|██████████| 1250/1250 [04:55<00:00,  4.22batch/s]\n"
     ]
    },
    {
     "name": "stdout",
     "output_type": "stream",
     "text": [
      "Epoch 12/30, Loss: 0.1009\n"
     ]
    },
    {
     "name": "stderr",
     "output_type": "stream",
     "text": [
      "Epoch 13/30: 100%|██████████| 1250/1250 [04:56<00:00,  4.22batch/s]\n"
     ]
    },
    {
     "name": "stdout",
     "output_type": "stream",
     "text": [
      "Epoch 13/30, Loss: 0.0985\n"
     ]
    },
    {
     "name": "stderr",
     "output_type": "stream",
     "text": [
      "Epoch 14/30: 100%|██████████| 1250/1250 [04:56<00:00,  4.22batch/s]\n"
     ]
    },
    {
     "name": "stdout",
     "output_type": "stream",
     "text": [
      "Epoch 14/30, Loss: 0.0967\n"
     ]
    },
    {
     "name": "stderr",
     "output_type": "stream",
     "text": [
      "Epoch 15/30: 100%|██████████| 1250/1250 [04:56<00:00,  4.21batch/s]\n"
     ]
    },
    {
     "name": "stdout",
     "output_type": "stream",
     "text": [
      "Epoch 15/30, Loss: 0.0952\n"
     ]
    },
    {
     "name": "stderr",
     "output_type": "stream",
     "text": [
      "Epoch 16/30: 100%|██████████| 1250/1250 [04:54<00:00,  4.24batch/s]\n"
     ]
    },
    {
     "name": "stdout",
     "output_type": "stream",
     "text": [
      "Epoch 16/30, Loss: 0.0938\n"
     ]
    },
    {
     "name": "stderr",
     "output_type": "stream",
     "text": [
      "Epoch 17/30:  18%|█▊        | 223/1250 [00:54<06:11,  2.77batch/s]IOPub message rate exceeded.\n",
      "The Jupyter server will temporarily stop sending output\n",
      "to the client in order to avoid crashing it.\n",
      "To change this limit, set the config variable\n",
      "`--ServerApp.iopub_msg_rate_limit`.\n",
      "\n",
      "Current values:\n",
      "ServerApp.iopub_msg_rate_limit=1000.0 (msgs/sec)\n",
      "ServerApp.rate_limit_window=3.0 (secs)\n",
      "\n",
      "Epoch 21/30: 100%|██████████| 1250/1250 [04:53<00:00,  4.26batch/s]\n"
     ]
    },
    {
     "name": "stdout",
     "output_type": "stream",
     "text": [
      "Epoch 21/30, Loss: 0.0879\n"
     ]
    },
    {
     "name": "stderr",
     "output_type": "stream",
     "text": [
      "Epoch 22/30: 100%|██████████| 1250/1250 [04:48<00:00,  4.33batch/s]\n"
     ]
    },
    {
     "name": "stdout",
     "output_type": "stream",
     "text": [
      "Epoch 22/30, Loss: 0.0869\n"
     ]
    },
    {
     "name": "stderr",
     "output_type": "stream",
     "text": [
      "Epoch 23/30: 100%|██████████| 1250/1250 [04:46<00:00,  4.37batch/s]\n"
     ]
    },
    {
     "name": "stdout",
     "output_type": "stream",
     "text": [
      "Epoch 23/30, Loss: 0.0863\n"
     ]
    },
    {
     "name": "stderr",
     "output_type": "stream",
     "text": [
      "Epoch 24/30: 100%|██████████| 1250/1250 [04:44<00:00,  4.40batch/s]\n"
     ]
    },
    {
     "name": "stdout",
     "output_type": "stream",
     "text": [
      "Epoch 24/30, Loss: 0.0854\n"
     ]
    },
    {
     "name": "stderr",
     "output_type": "stream",
     "text": [
      "Epoch 25/30: 100%|██████████| 1250/1250 [04:46<00:00,  4.36batch/s]\n"
     ]
    },
    {
     "name": "stdout",
     "output_type": "stream",
     "text": [
      "Epoch 25/30, Loss: 0.0842\n"
     ]
    },
    {
     "name": "stderr",
     "output_type": "stream",
     "text": [
      "Epoch 26/30: 100%|██████████| 1250/1250 [04:46<00:00,  4.37batch/s]\n"
     ]
    },
    {
     "name": "stdout",
     "output_type": "stream",
     "text": [
      "Epoch 26/30, Loss: 0.0838\n"
     ]
    },
    {
     "name": "stderr",
     "output_type": "stream",
     "text": [
      "Epoch 27/30: 100%|██████████| 1250/1250 [04:51<00:00,  4.28batch/s]\n"
     ]
    },
    {
     "name": "stdout",
     "output_type": "stream",
     "text": [
      "Epoch 27/30, Loss: 0.0834\n"
     ]
    },
    {
     "name": "stderr",
     "output_type": "stream",
     "text": [
      "Epoch 28/30: 100%|██████████| 1250/1250 [04:48<00:00,  4.34batch/s]\n"
     ]
    },
    {
     "name": "stdout",
     "output_type": "stream",
     "text": [
      "Epoch 28/30, Loss: 0.0824\n"
     ]
    },
    {
     "name": "stderr",
     "output_type": "stream",
     "text": [
      "Epoch 29/30: 100%|██████████| 1250/1250 [04:46<00:00,  4.36batch/s]\n"
     ]
    },
    {
     "name": "stdout",
     "output_type": "stream",
     "text": [
      "Epoch 29/30, Loss: 0.0816\n"
     ]
    },
    {
     "name": "stderr",
     "output_type": "stream",
     "text": [
      "Epoch 30/30: 100%|██████████| 1250/1250 [04:41<00:00,  4.44batch/s]"
     ]
    },
    {
     "name": "stdout",
     "output_type": "stream",
     "text": [
      "Epoch 30/30, Loss: 0.0812\n"
     ]
    },
    {
     "name": "stderr",
     "output_type": "stream",
     "text": [
      "\n"
     ]
    }
   ],
   "source": [
    "train_model(model, train_loader, criterion, optimizer, num_epochs=30)"
   ]
  },
  {
   "cell_type": "code",
   "execution_count": 95,
   "id": "fa6f518b-1470-4c54-a2c4-dd8af29dab70",
   "metadata": {},
   "outputs": [
    {
     "ename": "SyntaxError",
     "evalue": "invalid syntax (2484595688.py, line 1)",
     "output_type": "error",
     "traceback": [
      "\u001b[0;36m  Cell \u001b[0;32mIn[95], line 1\u001b[0;36m\u001b[0m\n\u001b[0;31m    Save the trained model so it can be used to run predictions.\u001b[0m\n\u001b[0m         ^\u001b[0m\n\u001b[0;31mSyntaxError\u001b[0m\u001b[0;31m:\u001b[0m invalid syntax\n"
     ]
    }
   ],
   "source": [
    "Save the trained model so it can be used to run predictions."
   ]
  },
  {
   "cell_type": "code",
   "execution_count": 36,
   "id": "d1fdaa0a-74f4-433f-87e7-62f4760f2a39",
   "metadata": {},
   "outputs": [],
   "source": [
    "# Save the model's state dictionary\n",
    "torch.save(model.state_dict(), '/explore/nobackup/people/sking11/resnet152_model_checkpoint.pth')\n",
    "\n",
    "# Save the entire model\n",
    "torch.save(model, '/explore/nobackup/people/sking11/resnet152_model.pth')"
   ]
  },
  {
   "cell_type": "markdown",
   "id": "1cf31a66-4ce0-4f13-8d01-2954b24aae91",
   "metadata": {},
   "source": [
    "# Performing Inference on single tile for dataset"
   ]
  },
  {
   "cell_type": "markdown",
   "id": "cc9b10e5-f3db-439a-9577-bc0ed4768461",
   "metadata": {},
   "source": [
    "Let's first load in the model"
   ]
  },
  {
   "cell_type": "code",
   "execution_count": 13,
   "id": "0f5aeeac-532e-4b88-b62d-f8c750547de7",
   "metadata": {},
   "outputs": [
    {
     "name": "stderr",
     "output_type": "stream",
     "text": [
      "/tmp/ipykernel_1367914/3087834380.py:2: FutureWarning: You are using `torch.load` with `weights_only=False` (the current default value), which uses the default pickle module implicitly. It is possible to construct malicious pickle data which will execute arbitrary code during unpickling (See https://github.com/pytorch/pytorch/blob/main/SECURITY.md#untrusted-models for more details). In a future release, the default value for `weights_only` will be flipped to `True`. This limits the functions that could be executed during unpickling. Arbitrary objects will no longer be allowed to be loaded via this mode unless they are explicitly allowlisted by the user via `torch.serialization.add_safe_globals`. We recommend you start setting `weights_only=True` for any use case where you don't have full control of the loaded file. Please open an issue on GitHub for any issues related to this experimental feature.\n",
      "  model = torch.load('/explore/nobackup/people/sking11/resnet152_model.pth')\n"
     ]
    },
    {
     "data": {
      "text/plain": [
       "ResNet152Segmentation(\n",
       "  (resnet): ResNet(\n",
       "    (conv1): Conv2d(3, 64, kernel_size=(7, 7), stride=(2, 2), padding=(3, 3), bias=False)\n",
       "    (bn1): BatchNorm2d(64, eps=1e-05, momentum=0.1, affine=True, track_running_stats=True)\n",
       "    (relu): ReLU(inplace=True)\n",
       "    (maxpool): MaxPool2d(kernel_size=3, stride=2, padding=1, dilation=1, ceil_mode=False)\n",
       "    (layer1): Sequential(\n",
       "      (0): Bottleneck(\n",
       "        (conv1): Conv2d(64, 64, kernel_size=(1, 1), stride=(1, 1), bias=False)\n",
       "        (bn1): BatchNorm2d(64, eps=1e-05, momentum=0.1, affine=True, track_running_stats=True)\n",
       "        (conv2): Conv2d(64, 64, kernel_size=(3, 3), stride=(1, 1), padding=(1, 1), bias=False)\n",
       "        (bn2): BatchNorm2d(64, eps=1e-05, momentum=0.1, affine=True, track_running_stats=True)\n",
       "        (conv3): Conv2d(64, 256, kernel_size=(1, 1), stride=(1, 1), bias=False)\n",
       "        (bn3): BatchNorm2d(256, eps=1e-05, momentum=0.1, affine=True, track_running_stats=True)\n",
       "        (relu): ReLU(inplace=True)\n",
       "        (downsample): Sequential(\n",
       "          (0): Conv2d(64, 256, kernel_size=(1, 1), stride=(1, 1), bias=False)\n",
       "          (1): BatchNorm2d(256, eps=1e-05, momentum=0.1, affine=True, track_running_stats=True)\n",
       "        )\n",
       "      )\n",
       "      (1): Bottleneck(\n",
       "        (conv1): Conv2d(256, 64, kernel_size=(1, 1), stride=(1, 1), bias=False)\n",
       "        (bn1): BatchNorm2d(64, eps=1e-05, momentum=0.1, affine=True, track_running_stats=True)\n",
       "        (conv2): Conv2d(64, 64, kernel_size=(3, 3), stride=(1, 1), padding=(1, 1), bias=False)\n",
       "        (bn2): BatchNorm2d(64, eps=1e-05, momentum=0.1, affine=True, track_running_stats=True)\n",
       "        (conv3): Conv2d(64, 256, kernel_size=(1, 1), stride=(1, 1), bias=False)\n",
       "        (bn3): BatchNorm2d(256, eps=1e-05, momentum=0.1, affine=True, track_running_stats=True)\n",
       "        (relu): ReLU(inplace=True)\n",
       "      )\n",
       "      (2): Bottleneck(\n",
       "        (conv1): Conv2d(256, 64, kernel_size=(1, 1), stride=(1, 1), bias=False)\n",
       "        (bn1): BatchNorm2d(64, eps=1e-05, momentum=0.1, affine=True, track_running_stats=True)\n",
       "        (conv2): Conv2d(64, 64, kernel_size=(3, 3), stride=(1, 1), padding=(1, 1), bias=False)\n",
       "        (bn2): BatchNorm2d(64, eps=1e-05, momentum=0.1, affine=True, track_running_stats=True)\n",
       "        (conv3): Conv2d(64, 256, kernel_size=(1, 1), stride=(1, 1), bias=False)\n",
       "        (bn3): BatchNorm2d(256, eps=1e-05, momentum=0.1, affine=True, track_running_stats=True)\n",
       "        (relu): ReLU(inplace=True)\n",
       "      )\n",
       "    )\n",
       "    (layer2): Sequential(\n",
       "      (0): Bottleneck(\n",
       "        (conv1): Conv2d(256, 128, kernel_size=(1, 1), stride=(1, 1), bias=False)\n",
       "        (bn1): BatchNorm2d(128, eps=1e-05, momentum=0.1, affine=True, track_running_stats=True)\n",
       "        (conv2): Conv2d(128, 128, kernel_size=(3, 3), stride=(2, 2), padding=(1, 1), bias=False)\n",
       "        (bn2): BatchNorm2d(128, eps=1e-05, momentum=0.1, affine=True, track_running_stats=True)\n",
       "        (conv3): Conv2d(128, 512, kernel_size=(1, 1), stride=(1, 1), bias=False)\n",
       "        (bn3): BatchNorm2d(512, eps=1e-05, momentum=0.1, affine=True, track_running_stats=True)\n",
       "        (relu): ReLU(inplace=True)\n",
       "        (downsample): Sequential(\n",
       "          (0): Conv2d(256, 512, kernel_size=(1, 1), stride=(2, 2), bias=False)\n",
       "          (1): BatchNorm2d(512, eps=1e-05, momentum=0.1, affine=True, track_running_stats=True)\n",
       "        )\n",
       "      )\n",
       "      (1): Bottleneck(\n",
       "        (conv1): Conv2d(512, 128, kernel_size=(1, 1), stride=(1, 1), bias=False)\n",
       "        (bn1): BatchNorm2d(128, eps=1e-05, momentum=0.1, affine=True, track_running_stats=True)\n",
       "        (conv2): Conv2d(128, 128, kernel_size=(3, 3), stride=(1, 1), padding=(1, 1), bias=False)\n",
       "        (bn2): BatchNorm2d(128, eps=1e-05, momentum=0.1, affine=True, track_running_stats=True)\n",
       "        (conv3): Conv2d(128, 512, kernel_size=(1, 1), stride=(1, 1), bias=False)\n",
       "        (bn3): BatchNorm2d(512, eps=1e-05, momentum=0.1, affine=True, track_running_stats=True)\n",
       "        (relu): ReLU(inplace=True)\n",
       "      )\n",
       "      (2): Bottleneck(\n",
       "        (conv1): Conv2d(512, 128, kernel_size=(1, 1), stride=(1, 1), bias=False)\n",
       "        (bn1): BatchNorm2d(128, eps=1e-05, momentum=0.1, affine=True, track_running_stats=True)\n",
       "        (conv2): Conv2d(128, 128, kernel_size=(3, 3), stride=(1, 1), padding=(1, 1), bias=False)\n",
       "        (bn2): BatchNorm2d(128, eps=1e-05, momentum=0.1, affine=True, track_running_stats=True)\n",
       "        (conv3): Conv2d(128, 512, kernel_size=(1, 1), stride=(1, 1), bias=False)\n",
       "        (bn3): BatchNorm2d(512, eps=1e-05, momentum=0.1, affine=True, track_running_stats=True)\n",
       "        (relu): ReLU(inplace=True)\n",
       "      )\n",
       "      (3): Bottleneck(\n",
       "        (conv1): Conv2d(512, 128, kernel_size=(1, 1), stride=(1, 1), bias=False)\n",
       "        (bn1): BatchNorm2d(128, eps=1e-05, momentum=0.1, affine=True, track_running_stats=True)\n",
       "        (conv2): Conv2d(128, 128, kernel_size=(3, 3), stride=(1, 1), padding=(1, 1), bias=False)\n",
       "        (bn2): BatchNorm2d(128, eps=1e-05, momentum=0.1, affine=True, track_running_stats=True)\n",
       "        (conv3): Conv2d(128, 512, kernel_size=(1, 1), stride=(1, 1), bias=False)\n",
       "        (bn3): BatchNorm2d(512, eps=1e-05, momentum=0.1, affine=True, track_running_stats=True)\n",
       "        (relu): ReLU(inplace=True)\n",
       "      )\n",
       "      (4): Bottleneck(\n",
       "        (conv1): Conv2d(512, 128, kernel_size=(1, 1), stride=(1, 1), bias=False)\n",
       "        (bn1): BatchNorm2d(128, eps=1e-05, momentum=0.1, affine=True, track_running_stats=True)\n",
       "        (conv2): Conv2d(128, 128, kernel_size=(3, 3), stride=(1, 1), padding=(1, 1), bias=False)\n",
       "        (bn2): BatchNorm2d(128, eps=1e-05, momentum=0.1, affine=True, track_running_stats=True)\n",
       "        (conv3): Conv2d(128, 512, kernel_size=(1, 1), stride=(1, 1), bias=False)\n",
       "        (bn3): BatchNorm2d(512, eps=1e-05, momentum=0.1, affine=True, track_running_stats=True)\n",
       "        (relu): ReLU(inplace=True)\n",
       "      )\n",
       "      (5): Bottleneck(\n",
       "        (conv1): Conv2d(512, 128, kernel_size=(1, 1), stride=(1, 1), bias=False)\n",
       "        (bn1): BatchNorm2d(128, eps=1e-05, momentum=0.1, affine=True, track_running_stats=True)\n",
       "        (conv2): Conv2d(128, 128, kernel_size=(3, 3), stride=(1, 1), padding=(1, 1), bias=False)\n",
       "        (bn2): BatchNorm2d(128, eps=1e-05, momentum=0.1, affine=True, track_running_stats=True)\n",
       "        (conv3): Conv2d(128, 512, kernel_size=(1, 1), stride=(1, 1), bias=False)\n",
       "        (bn3): BatchNorm2d(512, eps=1e-05, momentum=0.1, affine=True, track_running_stats=True)\n",
       "        (relu): ReLU(inplace=True)\n",
       "      )\n",
       "      (6): Bottleneck(\n",
       "        (conv1): Conv2d(512, 128, kernel_size=(1, 1), stride=(1, 1), bias=False)\n",
       "        (bn1): BatchNorm2d(128, eps=1e-05, momentum=0.1, affine=True, track_running_stats=True)\n",
       "        (conv2): Conv2d(128, 128, kernel_size=(3, 3), stride=(1, 1), padding=(1, 1), bias=False)\n",
       "        (bn2): BatchNorm2d(128, eps=1e-05, momentum=0.1, affine=True, track_running_stats=True)\n",
       "        (conv3): Conv2d(128, 512, kernel_size=(1, 1), stride=(1, 1), bias=False)\n",
       "        (bn3): BatchNorm2d(512, eps=1e-05, momentum=0.1, affine=True, track_running_stats=True)\n",
       "        (relu): ReLU(inplace=True)\n",
       "      )\n",
       "      (7): Bottleneck(\n",
       "        (conv1): Conv2d(512, 128, kernel_size=(1, 1), stride=(1, 1), bias=False)\n",
       "        (bn1): BatchNorm2d(128, eps=1e-05, momentum=0.1, affine=True, track_running_stats=True)\n",
       "        (conv2): Conv2d(128, 128, kernel_size=(3, 3), stride=(1, 1), padding=(1, 1), bias=False)\n",
       "        (bn2): BatchNorm2d(128, eps=1e-05, momentum=0.1, affine=True, track_running_stats=True)\n",
       "        (conv3): Conv2d(128, 512, kernel_size=(1, 1), stride=(1, 1), bias=False)\n",
       "        (bn3): BatchNorm2d(512, eps=1e-05, momentum=0.1, affine=True, track_running_stats=True)\n",
       "        (relu): ReLU(inplace=True)\n",
       "      )\n",
       "    )\n",
       "    (layer3): Sequential(\n",
       "      (0): Bottleneck(\n",
       "        (conv1): Conv2d(512, 256, kernel_size=(1, 1), stride=(1, 1), bias=False)\n",
       "        (bn1): BatchNorm2d(256, eps=1e-05, momentum=0.1, affine=True, track_running_stats=True)\n",
       "        (conv2): Conv2d(256, 256, kernel_size=(3, 3), stride=(2, 2), padding=(1, 1), bias=False)\n",
       "        (bn2): BatchNorm2d(256, eps=1e-05, momentum=0.1, affine=True, track_running_stats=True)\n",
       "        (conv3): Conv2d(256, 1024, kernel_size=(1, 1), stride=(1, 1), bias=False)\n",
       "        (bn3): BatchNorm2d(1024, eps=1e-05, momentum=0.1, affine=True, track_running_stats=True)\n",
       "        (relu): ReLU(inplace=True)\n",
       "        (downsample): Sequential(\n",
       "          (0): Conv2d(512, 1024, kernel_size=(1, 1), stride=(2, 2), bias=False)\n",
       "          (1): BatchNorm2d(1024, eps=1e-05, momentum=0.1, affine=True, track_running_stats=True)\n",
       "        )\n",
       "      )\n",
       "      (1): Bottleneck(\n",
       "        (conv1): Conv2d(1024, 256, kernel_size=(1, 1), stride=(1, 1), bias=False)\n",
       "        (bn1): BatchNorm2d(256, eps=1e-05, momentum=0.1, affine=True, track_running_stats=True)\n",
       "        (conv2): Conv2d(256, 256, kernel_size=(3, 3), stride=(1, 1), padding=(1, 1), bias=False)\n",
       "        (bn2): BatchNorm2d(256, eps=1e-05, momentum=0.1, affine=True, track_running_stats=True)\n",
       "        (conv3): Conv2d(256, 1024, kernel_size=(1, 1), stride=(1, 1), bias=False)\n",
       "        (bn3): BatchNorm2d(1024, eps=1e-05, momentum=0.1, affine=True, track_running_stats=True)\n",
       "        (relu): ReLU(inplace=True)\n",
       "      )\n",
       "      (2): Bottleneck(\n",
       "        (conv1): Conv2d(1024, 256, kernel_size=(1, 1), stride=(1, 1), bias=False)\n",
       "        (bn1): BatchNorm2d(256, eps=1e-05, momentum=0.1, affine=True, track_running_stats=True)\n",
       "        (conv2): Conv2d(256, 256, kernel_size=(3, 3), stride=(1, 1), padding=(1, 1), bias=False)\n",
       "        (bn2): BatchNorm2d(256, eps=1e-05, momentum=0.1, affine=True, track_running_stats=True)\n",
       "        (conv3): Conv2d(256, 1024, kernel_size=(1, 1), stride=(1, 1), bias=False)\n",
       "        (bn3): BatchNorm2d(1024, eps=1e-05, momentum=0.1, affine=True, track_running_stats=True)\n",
       "        (relu): ReLU(inplace=True)\n",
       "      )\n",
       "      (3): Bottleneck(\n",
       "        (conv1): Conv2d(1024, 256, kernel_size=(1, 1), stride=(1, 1), bias=False)\n",
       "        (bn1): BatchNorm2d(256, eps=1e-05, momentum=0.1, affine=True, track_running_stats=True)\n",
       "        (conv2): Conv2d(256, 256, kernel_size=(3, 3), stride=(1, 1), padding=(1, 1), bias=False)\n",
       "        (bn2): BatchNorm2d(256, eps=1e-05, momentum=0.1, affine=True, track_running_stats=True)\n",
       "        (conv3): Conv2d(256, 1024, kernel_size=(1, 1), stride=(1, 1), bias=False)\n",
       "        (bn3): BatchNorm2d(1024, eps=1e-05, momentum=0.1, affine=True, track_running_stats=True)\n",
       "        (relu): ReLU(inplace=True)\n",
       "      )\n",
       "      (4): Bottleneck(\n",
       "        (conv1): Conv2d(1024, 256, kernel_size=(1, 1), stride=(1, 1), bias=False)\n",
       "        (bn1): BatchNorm2d(256, eps=1e-05, momentum=0.1, affine=True, track_running_stats=True)\n",
       "        (conv2): Conv2d(256, 256, kernel_size=(3, 3), stride=(1, 1), padding=(1, 1), bias=False)\n",
       "        (bn2): BatchNorm2d(256, eps=1e-05, momentum=0.1, affine=True, track_running_stats=True)\n",
       "        (conv3): Conv2d(256, 1024, kernel_size=(1, 1), stride=(1, 1), bias=False)\n",
       "        (bn3): BatchNorm2d(1024, eps=1e-05, momentum=0.1, affine=True, track_running_stats=True)\n",
       "        (relu): ReLU(inplace=True)\n",
       "      )\n",
       "      (5): Bottleneck(\n",
       "        (conv1): Conv2d(1024, 256, kernel_size=(1, 1), stride=(1, 1), bias=False)\n",
       "        (bn1): BatchNorm2d(256, eps=1e-05, momentum=0.1, affine=True, track_running_stats=True)\n",
       "        (conv2): Conv2d(256, 256, kernel_size=(3, 3), stride=(1, 1), padding=(1, 1), bias=False)\n",
       "        (bn2): BatchNorm2d(256, eps=1e-05, momentum=0.1, affine=True, track_running_stats=True)\n",
       "        (conv3): Conv2d(256, 1024, kernel_size=(1, 1), stride=(1, 1), bias=False)\n",
       "        (bn3): BatchNorm2d(1024, eps=1e-05, momentum=0.1, affine=True, track_running_stats=True)\n",
       "        (relu): ReLU(inplace=True)\n",
       "      )\n",
       "      (6): Bottleneck(\n",
       "        (conv1): Conv2d(1024, 256, kernel_size=(1, 1), stride=(1, 1), bias=False)\n",
       "        (bn1): BatchNorm2d(256, eps=1e-05, momentum=0.1, affine=True, track_running_stats=True)\n",
       "        (conv2): Conv2d(256, 256, kernel_size=(3, 3), stride=(1, 1), padding=(1, 1), bias=False)\n",
       "        (bn2): BatchNorm2d(256, eps=1e-05, momentum=0.1, affine=True, track_running_stats=True)\n",
       "        (conv3): Conv2d(256, 1024, kernel_size=(1, 1), stride=(1, 1), bias=False)\n",
       "        (bn3): BatchNorm2d(1024, eps=1e-05, momentum=0.1, affine=True, track_running_stats=True)\n",
       "        (relu): ReLU(inplace=True)\n",
       "      )\n",
       "      (7): Bottleneck(\n",
       "        (conv1): Conv2d(1024, 256, kernel_size=(1, 1), stride=(1, 1), bias=False)\n",
       "        (bn1): BatchNorm2d(256, eps=1e-05, momentum=0.1, affine=True, track_running_stats=True)\n",
       "        (conv2): Conv2d(256, 256, kernel_size=(3, 3), stride=(1, 1), padding=(1, 1), bias=False)\n",
       "        (bn2): BatchNorm2d(256, eps=1e-05, momentum=0.1, affine=True, track_running_stats=True)\n",
       "        (conv3): Conv2d(256, 1024, kernel_size=(1, 1), stride=(1, 1), bias=False)\n",
       "        (bn3): BatchNorm2d(1024, eps=1e-05, momentum=0.1, affine=True, track_running_stats=True)\n",
       "        (relu): ReLU(inplace=True)\n",
       "      )\n",
       "      (8): Bottleneck(\n",
       "        (conv1): Conv2d(1024, 256, kernel_size=(1, 1), stride=(1, 1), bias=False)\n",
       "        (bn1): BatchNorm2d(256, eps=1e-05, momentum=0.1, affine=True, track_running_stats=True)\n",
       "        (conv2): Conv2d(256, 256, kernel_size=(3, 3), stride=(1, 1), padding=(1, 1), bias=False)\n",
       "        (bn2): BatchNorm2d(256, eps=1e-05, momentum=0.1, affine=True, track_running_stats=True)\n",
       "        (conv3): Conv2d(256, 1024, kernel_size=(1, 1), stride=(1, 1), bias=False)\n",
       "        (bn3): BatchNorm2d(1024, eps=1e-05, momentum=0.1, affine=True, track_running_stats=True)\n",
       "        (relu): ReLU(inplace=True)\n",
       "      )\n",
       "      (9): Bottleneck(\n",
       "        (conv1): Conv2d(1024, 256, kernel_size=(1, 1), stride=(1, 1), bias=False)\n",
       "        (bn1): BatchNorm2d(256, eps=1e-05, momentum=0.1, affine=True, track_running_stats=True)\n",
       "        (conv2): Conv2d(256, 256, kernel_size=(3, 3), stride=(1, 1), padding=(1, 1), bias=False)\n",
       "        (bn2): BatchNorm2d(256, eps=1e-05, momentum=0.1, affine=True, track_running_stats=True)\n",
       "        (conv3): Conv2d(256, 1024, kernel_size=(1, 1), stride=(1, 1), bias=False)\n",
       "        (bn3): BatchNorm2d(1024, eps=1e-05, momentum=0.1, affine=True, track_running_stats=True)\n",
       "        (relu): ReLU(inplace=True)\n",
       "      )\n",
       "      (10): Bottleneck(\n",
       "        (conv1): Conv2d(1024, 256, kernel_size=(1, 1), stride=(1, 1), bias=False)\n",
       "        (bn1): BatchNorm2d(256, eps=1e-05, momentum=0.1, affine=True, track_running_stats=True)\n",
       "        (conv2): Conv2d(256, 256, kernel_size=(3, 3), stride=(1, 1), padding=(1, 1), bias=False)\n",
       "        (bn2): BatchNorm2d(256, eps=1e-05, momentum=0.1, affine=True, track_running_stats=True)\n",
       "        (conv3): Conv2d(256, 1024, kernel_size=(1, 1), stride=(1, 1), bias=False)\n",
       "        (bn3): BatchNorm2d(1024, eps=1e-05, momentum=0.1, affine=True, track_running_stats=True)\n",
       "        (relu): ReLU(inplace=True)\n",
       "      )\n",
       "      (11): Bottleneck(\n",
       "        (conv1): Conv2d(1024, 256, kernel_size=(1, 1), stride=(1, 1), bias=False)\n",
       "        (bn1): BatchNorm2d(256, eps=1e-05, momentum=0.1, affine=True, track_running_stats=True)\n",
       "        (conv2): Conv2d(256, 256, kernel_size=(3, 3), stride=(1, 1), padding=(1, 1), bias=False)\n",
       "        (bn2): BatchNorm2d(256, eps=1e-05, momentum=0.1, affine=True, track_running_stats=True)\n",
       "        (conv3): Conv2d(256, 1024, kernel_size=(1, 1), stride=(1, 1), bias=False)\n",
       "        (bn3): BatchNorm2d(1024, eps=1e-05, momentum=0.1, affine=True, track_running_stats=True)\n",
       "        (relu): ReLU(inplace=True)\n",
       "      )\n",
       "      (12): Bottleneck(\n",
       "        (conv1): Conv2d(1024, 256, kernel_size=(1, 1), stride=(1, 1), bias=False)\n",
       "        (bn1): BatchNorm2d(256, eps=1e-05, momentum=0.1, affine=True, track_running_stats=True)\n",
       "        (conv2): Conv2d(256, 256, kernel_size=(3, 3), stride=(1, 1), padding=(1, 1), bias=False)\n",
       "        (bn2): BatchNorm2d(256, eps=1e-05, momentum=0.1, affine=True, track_running_stats=True)\n",
       "        (conv3): Conv2d(256, 1024, kernel_size=(1, 1), stride=(1, 1), bias=False)\n",
       "        (bn3): BatchNorm2d(1024, eps=1e-05, momentum=0.1, affine=True, track_running_stats=True)\n",
       "        (relu): ReLU(inplace=True)\n",
       "      )\n",
       "      (13): Bottleneck(\n",
       "        (conv1): Conv2d(1024, 256, kernel_size=(1, 1), stride=(1, 1), bias=False)\n",
       "        (bn1): BatchNorm2d(256, eps=1e-05, momentum=0.1, affine=True, track_running_stats=True)\n",
       "        (conv2): Conv2d(256, 256, kernel_size=(3, 3), stride=(1, 1), padding=(1, 1), bias=False)\n",
       "        (bn2): BatchNorm2d(256, eps=1e-05, momentum=0.1, affine=True, track_running_stats=True)\n",
       "        (conv3): Conv2d(256, 1024, kernel_size=(1, 1), stride=(1, 1), bias=False)\n",
       "        (bn3): BatchNorm2d(1024, eps=1e-05, momentum=0.1, affine=True, track_running_stats=True)\n",
       "        (relu): ReLU(inplace=True)\n",
       "      )\n",
       "      (14): Bottleneck(\n",
       "        (conv1): Conv2d(1024, 256, kernel_size=(1, 1), stride=(1, 1), bias=False)\n",
       "        (bn1): BatchNorm2d(256, eps=1e-05, momentum=0.1, affine=True, track_running_stats=True)\n",
       "        (conv2): Conv2d(256, 256, kernel_size=(3, 3), stride=(1, 1), padding=(1, 1), bias=False)\n",
       "        (bn2): BatchNorm2d(256, eps=1e-05, momentum=0.1, affine=True, track_running_stats=True)\n",
       "        (conv3): Conv2d(256, 1024, kernel_size=(1, 1), stride=(1, 1), bias=False)\n",
       "        (bn3): BatchNorm2d(1024, eps=1e-05, momentum=0.1, affine=True, track_running_stats=True)\n",
       "        (relu): ReLU(inplace=True)\n",
       "      )\n",
       "      (15): Bottleneck(\n",
       "        (conv1): Conv2d(1024, 256, kernel_size=(1, 1), stride=(1, 1), bias=False)\n",
       "        (bn1): BatchNorm2d(256, eps=1e-05, momentum=0.1, affine=True, track_running_stats=True)\n",
       "        (conv2): Conv2d(256, 256, kernel_size=(3, 3), stride=(1, 1), padding=(1, 1), bias=False)\n",
       "        (bn2): BatchNorm2d(256, eps=1e-05, momentum=0.1, affine=True, track_running_stats=True)\n",
       "        (conv3): Conv2d(256, 1024, kernel_size=(1, 1), stride=(1, 1), bias=False)\n",
       "        (bn3): BatchNorm2d(1024, eps=1e-05, momentum=0.1, affine=True, track_running_stats=True)\n",
       "        (relu): ReLU(inplace=True)\n",
       "      )\n",
       "      (16): Bottleneck(\n",
       "        (conv1): Conv2d(1024, 256, kernel_size=(1, 1), stride=(1, 1), bias=False)\n",
       "        (bn1): BatchNorm2d(256, eps=1e-05, momentum=0.1, affine=True, track_running_stats=True)\n",
       "        (conv2): Conv2d(256, 256, kernel_size=(3, 3), stride=(1, 1), padding=(1, 1), bias=False)\n",
       "        (bn2): BatchNorm2d(256, eps=1e-05, momentum=0.1, affine=True, track_running_stats=True)\n",
       "        (conv3): Conv2d(256, 1024, kernel_size=(1, 1), stride=(1, 1), bias=False)\n",
       "        (bn3): BatchNorm2d(1024, eps=1e-05, momentum=0.1, affine=True, track_running_stats=True)\n",
       "        (relu): ReLU(inplace=True)\n",
       "      )\n",
       "      (17): Bottleneck(\n",
       "        (conv1): Conv2d(1024, 256, kernel_size=(1, 1), stride=(1, 1), bias=False)\n",
       "        (bn1): BatchNorm2d(256, eps=1e-05, momentum=0.1, affine=True, track_running_stats=True)\n",
       "        (conv2): Conv2d(256, 256, kernel_size=(3, 3), stride=(1, 1), padding=(1, 1), bias=False)\n",
       "        (bn2): BatchNorm2d(256, eps=1e-05, momentum=0.1, affine=True, track_running_stats=True)\n",
       "        (conv3): Conv2d(256, 1024, kernel_size=(1, 1), stride=(1, 1), bias=False)\n",
       "        (bn3): BatchNorm2d(1024, eps=1e-05, momentum=0.1, affine=True, track_running_stats=True)\n",
       "        (relu): ReLU(inplace=True)\n",
       "      )\n",
       "      (18): Bottleneck(\n",
       "        (conv1): Conv2d(1024, 256, kernel_size=(1, 1), stride=(1, 1), bias=False)\n",
       "        (bn1): BatchNorm2d(256, eps=1e-05, momentum=0.1, affine=True, track_running_stats=True)\n",
       "        (conv2): Conv2d(256, 256, kernel_size=(3, 3), stride=(1, 1), padding=(1, 1), bias=False)\n",
       "        (bn2): BatchNorm2d(256, eps=1e-05, momentum=0.1, affine=True, track_running_stats=True)\n",
       "        (conv3): Conv2d(256, 1024, kernel_size=(1, 1), stride=(1, 1), bias=False)\n",
       "        (bn3): BatchNorm2d(1024, eps=1e-05, momentum=0.1, affine=True, track_running_stats=True)\n",
       "        (relu): ReLU(inplace=True)\n",
       "      )\n",
       "      (19): Bottleneck(\n",
       "        (conv1): Conv2d(1024, 256, kernel_size=(1, 1), stride=(1, 1), bias=False)\n",
       "        (bn1): BatchNorm2d(256, eps=1e-05, momentum=0.1, affine=True, track_running_stats=True)\n",
       "        (conv2): Conv2d(256, 256, kernel_size=(3, 3), stride=(1, 1), padding=(1, 1), bias=False)\n",
       "        (bn2): BatchNorm2d(256, eps=1e-05, momentum=0.1, affine=True, track_running_stats=True)\n",
       "        (conv3): Conv2d(256, 1024, kernel_size=(1, 1), stride=(1, 1), bias=False)\n",
       "        (bn3): BatchNorm2d(1024, eps=1e-05, momentum=0.1, affine=True, track_running_stats=True)\n",
       "        (relu): ReLU(inplace=True)\n",
       "      )\n",
       "      (20): Bottleneck(\n",
       "        (conv1): Conv2d(1024, 256, kernel_size=(1, 1), stride=(1, 1), bias=False)\n",
       "        (bn1): BatchNorm2d(256, eps=1e-05, momentum=0.1, affine=True, track_running_stats=True)\n",
       "        (conv2): Conv2d(256, 256, kernel_size=(3, 3), stride=(1, 1), padding=(1, 1), bias=False)\n",
       "        (bn2): BatchNorm2d(256, eps=1e-05, momentum=0.1, affine=True, track_running_stats=True)\n",
       "        (conv3): Conv2d(256, 1024, kernel_size=(1, 1), stride=(1, 1), bias=False)\n",
       "        (bn3): BatchNorm2d(1024, eps=1e-05, momentum=0.1, affine=True, track_running_stats=True)\n",
       "        (relu): ReLU(inplace=True)\n",
       "      )\n",
       "      (21): Bottleneck(\n",
       "        (conv1): Conv2d(1024, 256, kernel_size=(1, 1), stride=(1, 1), bias=False)\n",
       "        (bn1): BatchNorm2d(256, eps=1e-05, momentum=0.1, affine=True, track_running_stats=True)\n",
       "        (conv2): Conv2d(256, 256, kernel_size=(3, 3), stride=(1, 1), padding=(1, 1), bias=False)\n",
       "        (bn2): BatchNorm2d(256, eps=1e-05, momentum=0.1, affine=True, track_running_stats=True)\n",
       "        (conv3): Conv2d(256, 1024, kernel_size=(1, 1), stride=(1, 1), bias=False)\n",
       "        (bn3): BatchNorm2d(1024, eps=1e-05, momentum=0.1, affine=True, track_running_stats=True)\n",
       "        (relu): ReLU(inplace=True)\n",
       "      )\n",
       "      (22): Bottleneck(\n",
       "        (conv1): Conv2d(1024, 256, kernel_size=(1, 1), stride=(1, 1), bias=False)\n",
       "        (bn1): BatchNorm2d(256, eps=1e-05, momentum=0.1, affine=True, track_running_stats=True)\n",
       "        (conv2): Conv2d(256, 256, kernel_size=(3, 3), stride=(1, 1), padding=(1, 1), bias=False)\n",
       "        (bn2): BatchNorm2d(256, eps=1e-05, momentum=0.1, affine=True, track_running_stats=True)\n",
       "        (conv3): Conv2d(256, 1024, kernel_size=(1, 1), stride=(1, 1), bias=False)\n",
       "        (bn3): BatchNorm2d(1024, eps=1e-05, momentum=0.1, affine=True, track_running_stats=True)\n",
       "        (relu): ReLU(inplace=True)\n",
       "      )\n",
       "      (23): Bottleneck(\n",
       "        (conv1): Conv2d(1024, 256, kernel_size=(1, 1), stride=(1, 1), bias=False)\n",
       "        (bn1): BatchNorm2d(256, eps=1e-05, momentum=0.1, affine=True, track_running_stats=True)\n",
       "        (conv2): Conv2d(256, 256, kernel_size=(3, 3), stride=(1, 1), padding=(1, 1), bias=False)\n",
       "        (bn2): BatchNorm2d(256, eps=1e-05, momentum=0.1, affine=True, track_running_stats=True)\n",
       "        (conv3): Conv2d(256, 1024, kernel_size=(1, 1), stride=(1, 1), bias=False)\n",
       "        (bn3): BatchNorm2d(1024, eps=1e-05, momentum=0.1, affine=True, track_running_stats=True)\n",
       "        (relu): ReLU(inplace=True)\n",
       "      )\n",
       "      (24): Bottleneck(\n",
       "        (conv1): Conv2d(1024, 256, kernel_size=(1, 1), stride=(1, 1), bias=False)\n",
       "        (bn1): BatchNorm2d(256, eps=1e-05, momentum=0.1, affine=True, track_running_stats=True)\n",
       "        (conv2): Conv2d(256, 256, kernel_size=(3, 3), stride=(1, 1), padding=(1, 1), bias=False)\n",
       "        (bn2): BatchNorm2d(256, eps=1e-05, momentum=0.1, affine=True, track_running_stats=True)\n",
       "        (conv3): Conv2d(256, 1024, kernel_size=(1, 1), stride=(1, 1), bias=False)\n",
       "        (bn3): BatchNorm2d(1024, eps=1e-05, momentum=0.1, affine=True, track_running_stats=True)\n",
       "        (relu): ReLU(inplace=True)\n",
       "      )\n",
       "      (25): Bottleneck(\n",
       "        (conv1): Conv2d(1024, 256, kernel_size=(1, 1), stride=(1, 1), bias=False)\n",
       "        (bn1): BatchNorm2d(256, eps=1e-05, momentum=0.1, affine=True, track_running_stats=True)\n",
       "        (conv2): Conv2d(256, 256, kernel_size=(3, 3), stride=(1, 1), padding=(1, 1), bias=False)\n",
       "        (bn2): BatchNorm2d(256, eps=1e-05, momentum=0.1, affine=True, track_running_stats=True)\n",
       "        (conv3): Conv2d(256, 1024, kernel_size=(1, 1), stride=(1, 1), bias=False)\n",
       "        (bn3): BatchNorm2d(1024, eps=1e-05, momentum=0.1, affine=True, track_running_stats=True)\n",
       "        (relu): ReLU(inplace=True)\n",
       "      )\n",
       "      (26): Bottleneck(\n",
       "        (conv1): Conv2d(1024, 256, kernel_size=(1, 1), stride=(1, 1), bias=False)\n",
       "        (bn1): BatchNorm2d(256, eps=1e-05, momentum=0.1, affine=True, track_running_stats=True)\n",
       "        (conv2): Conv2d(256, 256, kernel_size=(3, 3), stride=(1, 1), padding=(1, 1), bias=False)\n",
       "        (bn2): BatchNorm2d(256, eps=1e-05, momentum=0.1, affine=True, track_running_stats=True)\n",
       "        (conv3): Conv2d(256, 1024, kernel_size=(1, 1), stride=(1, 1), bias=False)\n",
       "        (bn3): BatchNorm2d(1024, eps=1e-05, momentum=0.1, affine=True, track_running_stats=True)\n",
       "        (relu): ReLU(inplace=True)\n",
       "      )\n",
       "      (27): Bottleneck(\n",
       "        (conv1): Conv2d(1024, 256, kernel_size=(1, 1), stride=(1, 1), bias=False)\n",
       "        (bn1): BatchNorm2d(256, eps=1e-05, momentum=0.1, affine=True, track_running_stats=True)\n",
       "        (conv2): Conv2d(256, 256, kernel_size=(3, 3), stride=(1, 1), padding=(1, 1), bias=False)\n",
       "        (bn2): BatchNorm2d(256, eps=1e-05, momentum=0.1, affine=True, track_running_stats=True)\n",
       "        (conv3): Conv2d(256, 1024, kernel_size=(1, 1), stride=(1, 1), bias=False)\n",
       "        (bn3): BatchNorm2d(1024, eps=1e-05, momentum=0.1, affine=True, track_running_stats=True)\n",
       "        (relu): ReLU(inplace=True)\n",
       "      )\n",
       "      (28): Bottleneck(\n",
       "        (conv1): Conv2d(1024, 256, kernel_size=(1, 1), stride=(1, 1), bias=False)\n",
       "        (bn1): BatchNorm2d(256, eps=1e-05, momentum=0.1, affine=True, track_running_stats=True)\n",
       "        (conv2): Conv2d(256, 256, kernel_size=(3, 3), stride=(1, 1), padding=(1, 1), bias=False)\n",
       "        (bn2): BatchNorm2d(256, eps=1e-05, momentum=0.1, affine=True, track_running_stats=True)\n",
       "        (conv3): Conv2d(256, 1024, kernel_size=(1, 1), stride=(1, 1), bias=False)\n",
       "        (bn3): BatchNorm2d(1024, eps=1e-05, momentum=0.1, affine=True, track_running_stats=True)\n",
       "        (relu): ReLU(inplace=True)\n",
       "      )\n",
       "      (29): Bottleneck(\n",
       "        (conv1): Conv2d(1024, 256, kernel_size=(1, 1), stride=(1, 1), bias=False)\n",
       "        (bn1): BatchNorm2d(256, eps=1e-05, momentum=0.1, affine=True, track_running_stats=True)\n",
       "        (conv2): Conv2d(256, 256, kernel_size=(3, 3), stride=(1, 1), padding=(1, 1), bias=False)\n",
       "        (bn2): BatchNorm2d(256, eps=1e-05, momentum=0.1, affine=True, track_running_stats=True)\n",
       "        (conv3): Conv2d(256, 1024, kernel_size=(1, 1), stride=(1, 1), bias=False)\n",
       "        (bn3): BatchNorm2d(1024, eps=1e-05, momentum=0.1, affine=True, track_running_stats=True)\n",
       "        (relu): ReLU(inplace=True)\n",
       "      )\n",
       "      (30): Bottleneck(\n",
       "        (conv1): Conv2d(1024, 256, kernel_size=(1, 1), stride=(1, 1), bias=False)\n",
       "        (bn1): BatchNorm2d(256, eps=1e-05, momentum=0.1, affine=True, track_running_stats=True)\n",
       "        (conv2): Conv2d(256, 256, kernel_size=(3, 3), stride=(1, 1), padding=(1, 1), bias=False)\n",
       "        (bn2): BatchNorm2d(256, eps=1e-05, momentum=0.1, affine=True, track_running_stats=True)\n",
       "        (conv3): Conv2d(256, 1024, kernel_size=(1, 1), stride=(1, 1), bias=False)\n",
       "        (bn3): BatchNorm2d(1024, eps=1e-05, momentum=0.1, affine=True, track_running_stats=True)\n",
       "        (relu): ReLU(inplace=True)\n",
       "      )\n",
       "      (31): Bottleneck(\n",
       "        (conv1): Conv2d(1024, 256, kernel_size=(1, 1), stride=(1, 1), bias=False)\n",
       "        (bn1): BatchNorm2d(256, eps=1e-05, momentum=0.1, affine=True, track_running_stats=True)\n",
       "        (conv2): Conv2d(256, 256, kernel_size=(3, 3), stride=(1, 1), padding=(1, 1), bias=False)\n",
       "        (bn2): BatchNorm2d(256, eps=1e-05, momentum=0.1, affine=True, track_running_stats=True)\n",
       "        (conv3): Conv2d(256, 1024, kernel_size=(1, 1), stride=(1, 1), bias=False)\n",
       "        (bn3): BatchNorm2d(1024, eps=1e-05, momentum=0.1, affine=True, track_running_stats=True)\n",
       "        (relu): ReLU(inplace=True)\n",
       "      )\n",
       "      (32): Bottleneck(\n",
       "        (conv1): Conv2d(1024, 256, kernel_size=(1, 1), stride=(1, 1), bias=False)\n",
       "        (bn1): BatchNorm2d(256, eps=1e-05, momentum=0.1, affine=True, track_running_stats=True)\n",
       "        (conv2): Conv2d(256, 256, kernel_size=(3, 3), stride=(1, 1), padding=(1, 1), bias=False)\n",
       "        (bn2): BatchNorm2d(256, eps=1e-05, momentum=0.1, affine=True, track_running_stats=True)\n",
       "        (conv3): Conv2d(256, 1024, kernel_size=(1, 1), stride=(1, 1), bias=False)\n",
       "        (bn3): BatchNorm2d(1024, eps=1e-05, momentum=0.1, affine=True, track_running_stats=True)\n",
       "        (relu): ReLU(inplace=True)\n",
       "      )\n",
       "      (33): Bottleneck(\n",
       "        (conv1): Conv2d(1024, 256, kernel_size=(1, 1), stride=(1, 1), bias=False)\n",
       "        (bn1): BatchNorm2d(256, eps=1e-05, momentum=0.1, affine=True, track_running_stats=True)\n",
       "        (conv2): Conv2d(256, 256, kernel_size=(3, 3), stride=(1, 1), padding=(1, 1), bias=False)\n",
       "        (bn2): BatchNorm2d(256, eps=1e-05, momentum=0.1, affine=True, track_running_stats=True)\n",
       "        (conv3): Conv2d(256, 1024, kernel_size=(1, 1), stride=(1, 1), bias=False)\n",
       "        (bn3): BatchNorm2d(1024, eps=1e-05, momentum=0.1, affine=True, track_running_stats=True)\n",
       "        (relu): ReLU(inplace=True)\n",
       "      )\n",
       "      (34): Bottleneck(\n",
       "        (conv1): Conv2d(1024, 256, kernel_size=(1, 1), stride=(1, 1), bias=False)\n",
       "        (bn1): BatchNorm2d(256, eps=1e-05, momentum=0.1, affine=True, track_running_stats=True)\n",
       "        (conv2): Conv2d(256, 256, kernel_size=(3, 3), stride=(1, 1), padding=(1, 1), bias=False)\n",
       "        (bn2): BatchNorm2d(256, eps=1e-05, momentum=0.1, affine=True, track_running_stats=True)\n",
       "        (conv3): Conv2d(256, 1024, kernel_size=(1, 1), stride=(1, 1), bias=False)\n",
       "        (bn3): BatchNorm2d(1024, eps=1e-05, momentum=0.1, affine=True, track_running_stats=True)\n",
       "        (relu): ReLU(inplace=True)\n",
       "      )\n",
       "      (35): Bottleneck(\n",
       "        (conv1): Conv2d(1024, 256, kernel_size=(1, 1), stride=(1, 1), bias=False)\n",
       "        (bn1): BatchNorm2d(256, eps=1e-05, momentum=0.1, affine=True, track_running_stats=True)\n",
       "        (conv2): Conv2d(256, 256, kernel_size=(3, 3), stride=(1, 1), padding=(1, 1), bias=False)\n",
       "        (bn2): BatchNorm2d(256, eps=1e-05, momentum=0.1, affine=True, track_running_stats=True)\n",
       "        (conv3): Conv2d(256, 1024, kernel_size=(1, 1), stride=(1, 1), bias=False)\n",
       "        (bn3): BatchNorm2d(1024, eps=1e-05, momentum=0.1, affine=True, track_running_stats=True)\n",
       "        (relu): ReLU(inplace=True)\n",
       "      )\n",
       "    )\n",
       "    (layer4): Sequential(\n",
       "      (0): Bottleneck(\n",
       "        (conv1): Conv2d(1024, 512, kernel_size=(1, 1), stride=(1, 1), bias=False)\n",
       "        (bn1): BatchNorm2d(512, eps=1e-05, momentum=0.1, affine=True, track_running_stats=True)\n",
       "        (conv2): Conv2d(512, 512, kernel_size=(3, 3), stride=(2, 2), padding=(1, 1), bias=False)\n",
       "        (bn2): BatchNorm2d(512, eps=1e-05, momentum=0.1, affine=True, track_running_stats=True)\n",
       "        (conv3): Conv2d(512, 2048, kernel_size=(1, 1), stride=(1, 1), bias=False)\n",
       "        (bn3): BatchNorm2d(2048, eps=1e-05, momentum=0.1, affine=True, track_running_stats=True)\n",
       "        (relu): ReLU(inplace=True)\n",
       "        (downsample): Sequential(\n",
       "          (0): Conv2d(1024, 2048, kernel_size=(1, 1), stride=(2, 2), bias=False)\n",
       "          (1): BatchNorm2d(2048, eps=1e-05, momentum=0.1, affine=True, track_running_stats=True)\n",
       "        )\n",
       "      )\n",
       "      (1): Bottleneck(\n",
       "        (conv1): Conv2d(2048, 512, kernel_size=(1, 1), stride=(1, 1), bias=False)\n",
       "        (bn1): BatchNorm2d(512, eps=1e-05, momentum=0.1, affine=True, track_running_stats=True)\n",
       "        (conv2): Conv2d(512, 512, kernel_size=(3, 3), stride=(1, 1), padding=(1, 1), bias=False)\n",
       "        (bn2): BatchNorm2d(512, eps=1e-05, momentum=0.1, affine=True, track_running_stats=True)\n",
       "        (conv3): Conv2d(512, 2048, kernel_size=(1, 1), stride=(1, 1), bias=False)\n",
       "        (bn3): BatchNorm2d(2048, eps=1e-05, momentum=0.1, affine=True, track_running_stats=True)\n",
       "        (relu): ReLU(inplace=True)\n",
       "      )\n",
       "      (2): Bottleneck(\n",
       "        (conv1): Conv2d(2048, 512, kernel_size=(1, 1), stride=(1, 1), bias=False)\n",
       "        (bn1): BatchNorm2d(512, eps=1e-05, momentum=0.1, affine=True, track_running_stats=True)\n",
       "        (conv2): Conv2d(512, 512, kernel_size=(3, 3), stride=(1, 1), padding=(1, 1), bias=False)\n",
       "        (bn2): BatchNorm2d(512, eps=1e-05, momentum=0.1, affine=True, track_running_stats=True)\n",
       "        (conv3): Conv2d(512, 2048, kernel_size=(1, 1), stride=(1, 1), bias=False)\n",
       "        (bn3): BatchNorm2d(2048, eps=1e-05, momentum=0.1, affine=True, track_running_stats=True)\n",
       "        (relu): ReLU(inplace=True)\n",
       "      )\n",
       "    )\n",
       "    (avgpool): AdaptiveAvgPool2d(output_size=(1, 1))\n",
       "    (fc): Linear(in_features=2048, out_features=1000, bias=True)\n",
       "  )\n",
       "  (upconv1): ConvTranspose2d(2048, 1024, kernel_size=(4, 4), stride=(2, 2), padding=(1, 1))\n",
       "  (upconv2): ConvTranspose2d(1024, 512, kernel_size=(4, 4), stride=(2, 2), padding=(1, 1))\n",
       "  (upconv3): ConvTranspose2d(512, 256, kernel_size=(4, 4), stride=(2, 2), padding=(1, 1))\n",
       "  (upconv4): ConvTranspose2d(256, 1, kernel_size=(4, 4), stride=(2, 2), padding=(1, 1))\n",
       "  (final_upsample): Upsample(size=(256, 256), mode='bilinear')\n",
       ")"
      ]
     },
     "execution_count": 13,
     "metadata": {},
     "output_type": "execute_result"
    }
   ],
   "source": [
    "# Load the entire model\n",
    "model = torch.load('/explore/nobackup/people/sking11/resnet152_model.pth')\n",
    "model.eval()"
   ]
  },
  {
   "cell_type": "markdown",
   "id": "c173a790-f1ef-4ac7-9853-2e0b2279f4fa",
   "metadata": {},
   "source": [
    "then set the device we want to run the model on "
   ]
  },
  {
   "cell_type": "code",
   "execution_count": 36,
   "id": "57d15258-3b79-43ec-9cd8-f1ffa6a14443",
   "metadata": {},
   "outputs": [],
   "source": [
    "device = torch.device(\"cuda:0\" if torch.cuda.is_available() else \"cpu\")"
   ]
  },
  {
   "cell_type": "markdown",
   "id": "6c33bc2e-f6f7-4b71-bbc2-c06a7534d106",
   "metadata": {},
   "source": [
    "Here we load in an image, convert the image to a tensor, ensure the values are in the correct order, and check the shape of the validation image and converted tensor."
   ]
  },
  {
   "cell_type": "code",
   "execution_count": 96,
   "id": "bd686e57-77e8-4dd4-b508-9a10c8d1cf3e",
   "metadata": {},
   "outputs": [
    {
     "name": "stdout",
     "output_type": "stream",
     "text": [
      "torch.Size([3, 448, 448])\n",
      "torch.Size([1, 3, 448, 448])\n"
     ]
    },
    {
     "name": "stderr",
     "output_type": "stream",
     "text": [
      "/tmp/ipykernel_1367914/4093021473.py:8: UserWarning: To copy construct from a tensor, it is recommended to use sourceTensor.clone().detach() or sourceTensor.clone().detach().requires_grad_(True), rather than torch.tensor(sourceTensor).\n",
      "  pixel_values = torch.tensor(val_image).permute(0, 1, 2)\n"
     ]
    }
   ],
   "source": [
    "# Extract the image from the dataset\n",
    "val_image, _ = val_dataset[300]  # Change index as needed\n",
    "\n",
    "# Check the shape of val_image\n",
    "print(val_image.shape)  # Should be [height, width, num_channels]\n",
    "\n",
    "# Convert to tensor and permute to [num_channels, height, width]\n",
    "pixel_values = torch.tensor(val_image).permute(0, 1, 2)  \n",
    "\n",
    "# Add the batch dimension\n",
    "pixel_values = pixel_values.unsqueeze(0)  # Final shape should be [1, 3, 448, 448]\n",
    "\n",
    "# Verify the shape\n",
    "print(pixel_values.shape)  # Should be [1, 3, 448, 448]"
   ]
  },
  {
   "cell_type": "markdown",
   "id": "ab7b239d-d3d7-4270-917f-e44f71d0984b",
   "metadata": {},
   "source": [
    "Run and plot the probability mask and the predicted mask generated by our model predictions. "
   ]
  },
  {
   "cell_type": "code",
   "execution_count": 89,
   "id": "45816885-f55b-42ad-a8bc-0e11c7d75ca7",
   "metadata": {},
   "outputs": [
    {
     "data": {
      "image/png": "[encoded data removed]",
      "text/plain": [
       "<Figure size 1000x500 with 2 Axes>"
      ]
     },
     "metadata": {},
     "output_type": "display_data"
    }
   ],
   "source": [
    "model.eval()  # Set the model to evaluation mode\n",
    "\n",
    "with torch.no_grad():\n",
    "    outputs = model(pixel_values.to(device))  # Forward pass through the model\n",
    "\n",
    "# Upsample the output to match the original image size, if necessary\n",
    "upsampled_logits = torch.nn.functional.interpolate(outputs,\n",
    "                                                   size=(448, 448),\n",
    "                                                   mode='bilinear', align_corners=False)\n",
    "\n",
    "# Convert the logits to probabilities\n",
    "predicted_probabilities = torch.sigmoid(upsampled_logits).squeeze().cpu().numpy()\n",
    "\n",
    "# Convert probabilities to binary mask\n",
    "predicted_binary_mask = (predicted_probabilities > 0.5).astype(np.uint8)\n",
    "\n",
    "# Plot both the probability map and the binary mask side-by-side\n",
    "plt.figure(figsize=(10, 5))\n",
    "\n",
    "# Plot the probability map\n",
    "plt.subplot(1, 2, 1)\n",
    "plt.imshow(predicted_probabilities, cmap='gray')\n",
    "plt.title('Probability Map')\n",
    "plt.axis('off')\n",
    "\n",
    "# Plot the binary mask\n",
    "plt.subplot(1, 2, 2)\n",
    "plt.imshow(predicted_binary_mask, cmap='gray')\n",
    "plt.title('Binary Mask')\n",
    "plt.axis('off')\n",
    "\n",
    "plt.show()"
   ]
  },
  {
   "cell_type": "markdown",
   "id": "9d78ac2a-53fb-4e81-b471-a9b5d302bd7c",
   "metadata": {},
   "source": [
    "Save the binary mask as an image with PIL. "
   ]
  },
  {
   "cell_type": "code",
   "execution_count": 93,
   "id": "1a857df0-46d7-4a66-986e-e854a55507c3",
   "metadata": {},
   "outputs": [],
   "source": [
    "binary_mask_image = Image.fromarray(predicted_binary_mask * 255)  # Scale binary mask to 0-255\n",
    "binary_mask_image.save('/explore/nobackup/people/sking11/saved_figures/predictedmaskRESNET152_5000.png')"
   ]
  },
  {
   "cell_type": "markdown",
   "id": "a1c38bcb-afa5-4803-8c57-575a6721f1f8",
   "metadata": {},
   "source": [
    "# Running Model Statistics using our evaluation dataset"
   ]
  },
  {
   "cell_type": "markdown",
   "id": "a8512be9-7680-4574-97c0-9c89223acb43",
   "metadata": {},
   "source": [
    "In order to run model statistics, we need to first get predictions for a validation/test dataset of images. The following block will run model predictions on an entire set of images and save them to a numpy list."
   ]
  },
  {
   "cell_type": "code",
   "execution_count": 64,
   "id": "51bfc1a5-f378-4499-80e3-e2fd3547a65e",
   "metadata": {},
   "outputs": [
    {
     "name": "stderr",
     "output_type": "stream",
     "text": [
      "Running predictions: 100%|██████████| 164/164 [00:19<00:00,  8.28it/s]\n"
     ]
    }
   ],
   "source": [
    "model.eval()  # Set the model to evaluation mode\n",
    "predicted_arrays = []  # List to store the predicted arrays\n",
    "\n",
    "with torch.no_grad():\n",
    "    for i, (images, _) in enumerate(tqdm(val_loader, desc=\"Running predictions\")):\n",
    "        images = images.to(device)\n",
    "        outputs = model(images)\n",
    "        \n",
    "        # Iterate through each image in the batch\n",
    "        for j in range(outputs.size(0)):\n",
    "            predicted_map = outputs[j].squeeze(0)  # Assuming it's a single-channel output\n",
    "            predicted_map_np = predicted_map.cpu().numpy()\n",
    "            \n",
    "            # Apply threshold to convert to binary\n",
    "            predicted_map_np = (predicted_map_np > 0.5).astype(np.uint8)\n",
    "            \n",
    "            # Optionally, convert to 8-bit integers if needed\n",
    "            # predicted_map_np = (predicted_map_np * 255).astype(np.uint8)\n",
    "            \n",
    "            # Save the numpy array to the list\n",
    "            predicted_arrays.append(predicted_map_np)"
   ]
  },
  {
   "cell_type": "markdown",
   "id": "10386079-af73-4c3d-a40f-44d3a1f59ba8",
   "metadata": {},
   "source": [
    "We grab the validation masks from the validation dataset and also save those in a numpy array so that they can be compared to the predicted masks. "
   ]
  },
  {
   "cell_type": "code",
   "execution_count": 69,
   "id": "98bf76a5-2cea-4a67-9c2d-36dc47e45f01",
   "metadata": {},
   "outputs": [
    {
     "name": "stderr",
     "output_type": "stream",
     "text": [
      "Processing validation masks: 100%|██████████| 653/653 [00:08<00:00, 78.79it/s] \n"
     ]
    }
   ],
   "source": [
    "val_masks_list = []\n",
    "\n",
    "# Iterate over the validation dataset\n",
    "for idx in tqdm(range(len(val_dataset)), desc=\"Processing validation masks\"):\n",
    "    _, mask = val_dataset[idx]  # Get the mask from the dataset\n",
    "    \n",
    "    # Convert mask tensor to NumPy array\n",
    "    mask_np = mask.squeeze(0).cpu().numpy()  # Remove channel dimension and move to CPU if necessary\n",
    "    \n",
    "    # Ensure mask values are binary (0 or 1)\n",
    "    mask_np = (mask_np > 0.5).astype(np.uint8)\n",
    "    \n",
    "    # Append to the list\n",
    "    val_masks_list.append(mask_np)"
   ]
  },
  {
   "cell_type": "markdown",
   "id": "765d70b0-dfc1-4a12-b01c-5210df00cdb1",
   "metadata": {},
   "source": [
    "Calculate the total pixel accuracy fraction across the whole dataset. "
   ]
  },
  {
   "cell_type": "code",
   "execution_count": 97,
   "id": "e02ea7ff-23d1-4453-a972-46b067d588c2",
   "metadata": {},
   "outputs": [
    {
     "name": "stdout",
     "output_type": "stream",
     "text": [
      "Average Accuracy: 0.9009011518352795\n"
     ]
    }
   ],
   "source": [
    "accuracies = []\n",
    "\n",
    "# Loop through each pair of predicted and original masks\n",
    "for predicted_mask, original_mask in zip(predicted_arrays, val_masks_list):\n",
    "    # Ensure both masks have the same shape\n",
    "    assert predicted_mask.shape == original_mask.shape, \"Shape mismatch between predicted and original masks\"\n",
    "    \n",
    "    # Calculate the accuracy for the current pair of masks\n",
    "    accuracy = np.mean(predicted_mask == original_mask)\n",
    "    accuracies.append(accuracy)\n",
    "\n",
    "# Calculate the mean accuracy\n",
    "mean_accuracy = np.mean(accuracies)\n",
    "average_accuracy = np.average(accuracies)\n",
    "\n",
    "print(f'Average Accuracy: {average_accuracy}')"
   ]
  },
  {
   "cell_type": "markdown",
   "id": "0f239d71-5723-4cfb-8b3f-2104df9f1c65",
   "metadata": {},
   "source": [
    "Calculate the mean IoU across the whole dataset. "
   ]
  },
  {
   "cell_type": "code",
   "execution_count": 86,
   "id": "50f9ea66-088e-49d0-9861-5de16f8df96f",
   "metadata": {},
   "outputs": [
    {
     "name": "stdout",
     "output_type": "stream",
     "text": [
      "Mean IoU: 0.3448\n"
     ]
    }
   ],
   "source": [
    "import numpy as np\n",
    "\n",
    "def calculate_iou(predicted_mask, actual_mask):\n",
    "    # Ensure the masks are binary (0 and 1)\n",
    "    predicted_mask = (predicted_mask > 0.5).astype(np.uint8)\n",
    "    actual_mask = (actual_mask > 0.5).astype(np.uint8)\n",
    "\n",
    "    # Calculate intersection and union\n",
    "    intersection = np.logical_and(predicted_mask, actual_mask)\n",
    "    union = np.logical_or(predicted_mask, actual_mask)\n",
    "\n",
    "    # Compute IoU\n",
    "    iou = np.sum(intersection) / np.sum(union)\n",
    "    return iou\n",
    "\n",
    "def calculate_mean_iou(predicted_masks, actual_masks):\n",
    "    ious = []\n",
    "\n",
    "    for pred, actual in zip(predicted_masks, actual_masks):\n",
    "        iou = calculate_iou(pred, actual)\n",
    "        ious.append(iou)\n",
    "\n",
    "    mean_iou = np.mean(ious)\n",
    "    return mean_iou\n",
    "\n",
    "mean_iou = calculate_mean_iou(predicted_arrays, val_masks_list)\n",
    "print(f\"Mean IoU: {mean_iou:.4f}\")"
   ]
  },
  {
   "cell_type": "markdown",
   "id": "c4fae960-9d9a-4d0a-9ba5-cab4abd4f7cd",
   "metadata": {},
   "source": [
    "Calculate the confusion matrix across the whole dataset. "
   ]
  },
  {
   "cell_type": "code",
   "execution_count": 74,
   "id": "fc282493-d59e-42a7-8df7-903d0dddc800",
   "metadata": {},
   "outputs": [
    {
     "name": "stdout",
     "output_type": "stream",
     "text": [
      "Confusion Matrix:\n",
      "[[36049507  3833160]\n",
      " [  407776  2504565]]\n"
     ]
    }
   ],
   "source": [
    "import numpy as np\n",
    "from sklearn.metrics import confusion_matrix\n",
    "\n",
    "# Flatten all masks and concatenate them into single arrays\n",
    "actual_flat = np.concatenate([mask.flatten() for mask in val_masks_list])\n",
    "predicted_flat = np.concatenate([mask.flatten() for mask in predicted_arrays])\n",
    "\n",
    "# Ensure only two classes: 0 and 1\n",
    "assert np.all(np.isin(actual_flat, [0, 1])), \"Actual masks contain values other than 0 and 1\"\n",
    "assert np.all(np.isin(predicted_flat, [0, 1])), \"Predicted masks contain values other than 0 and 1\"\n",
    "\n",
    "# Calculate the confusion matrix\n",
    "conf_matrix = confusion_matrix(actual_flat, predicted_flat, labels=[0, 1])\n",
    "\n",
    "print(\"Confusion Matrix:\")\n",
    "print(conf_matrix)"
   ]
  },
  {
   "cell_type": "markdown",
   "id": "07a0a373-5b93-4ab5-9c0e-45b1ae06c02e",
   "metadata": {},
   "source": [
    "Calculate the accuracy per tile. This can be plotted to view and understand the variation in accuracy across the whole dataset."
   ]
  },
  {
   "cell_type": "code",
   "execution_count": 90,
   "id": "6aee40fb-55cf-448d-b186-ca42d272139a",
   "metadata": {},
   "outputs": [
    {
     "name": "stdout",
     "output_type": "stream",
     "text": [
      "Tile 0: Accuracy = 0.3957\n",
      "Tile 1: Accuracy = 0.3760\n",
      "Tile 2: Accuracy = 0.5829\n",
      "Tile 3: Accuracy = 0.6091\n",
      "Tile 4: Accuracy = 0.5621\n",
      "Tile 5: Accuracy = 0.8754\n",
      "Tile 6: Accuracy = 0.8844\n",
      "Tile 7: Accuracy = 0.6137\n",
      "Tile 8: Accuracy = 0.5624\n",
      "Tile 9: Accuracy = 0.6030\n",
      "Tile 10: Accuracy = 0.6999\n",
      "Tile 11: Accuracy = 0.6074\n",
      "Tile 12: Accuracy = 0.5863\n",
      "Tile 13: Accuracy = 0.6325\n",
      "Tile 14: Accuracy = 0.6248\n",
      "Tile 15: Accuracy = 0.5807\n",
      "Tile 16: Accuracy = 0.3630\n",
      "Tile 17: Accuracy = 0.4167\n",
      "Tile 18: Accuracy = 0.4820\n",
      "Tile 19: Accuracy = 0.4986\n",
      "Tile 20: Accuracy = 0.5085\n",
      "Tile 21: Accuracy = 0.7452\n",
      "Tile 22: Accuracy = 0.7459\n",
      "Tile 23: Accuracy = 0.8200\n",
      "Tile 24: Accuracy = 0.8766\n",
      "Tile 25: Accuracy = 0.8423\n",
      "Tile 26: Accuracy = 0.8889\n",
      "Tile 27: Accuracy = 0.6718\n",
      "Tile 28: Accuracy = 0.9296\n",
      "Tile 29: Accuracy = 0.8749\n",
      "Tile 30: Accuracy = 0.8194\n",
      "Tile 31: Accuracy = 0.9594\n",
      "Tile 32: Accuracy = 0.9706\n",
      "Tile 33: Accuracy = 0.8761\n",
      "Tile 34: Accuracy = 0.9639\n",
      "Tile 35: Accuracy = 0.9836\n",
      "Tile 36: Accuracy = 0.9257\n",
      "Tile 37: Accuracy = 0.9248\n",
      "Tile 38: Accuracy = 0.9425\n",
      "Tile 39: Accuracy = 0.9076\n",
      "Tile 40: Accuracy = 0.8005\n",
      "Tile 41: Accuracy = 0.6279\n",
      "Tile 42: Accuracy = 0.9387\n",
      "Tile 43: Accuracy = 0.9963\n",
      "Tile 44: Accuracy = 0.8759\n",
      "Tile 45: Accuracy = 0.8282\n",
      "Tile 46: Accuracy = 0.9250\n",
      "Tile 47: Accuracy = 0.8392\n",
      "Tile 48: Accuracy = 0.8157\n",
      "Tile 49: Accuracy = 0.9534\n",
      "Tile 50: Accuracy = 0.6667\n",
      "Tile 51: Accuracy = 0.6868\n",
      "Tile 52: Accuracy = 0.8704\n",
      "Tile 53: Accuracy = 0.9193\n",
      "Tile 54: Accuracy = 0.8765\n",
      "Tile 55: Accuracy = 0.8959\n",
      "Tile 56: Accuracy = 0.8736\n",
      "Tile 57: Accuracy = 0.9467\n",
      "Tile 58: Accuracy = 0.9504\n",
      "Tile 59: Accuracy = 0.9982\n",
      "Tile 60: Accuracy = 0.9652\n",
      "Tile 61: Accuracy = 0.9435\n",
      "Tile 62: Accuracy = 0.9859\n",
      "Tile 63: Accuracy = 0.9263\n",
      "Tile 64: Accuracy = 0.9651\n",
      "Tile 65: Accuracy = 0.7857\n",
      "Tile 66: Accuracy = 0.9385\n",
      "Tile 67: Accuracy = 0.9695\n",
      "Tile 68: Accuracy = 0.9663\n",
      "Tile 69: Accuracy = 0.9770\n",
      "Tile 70: Accuracy = 0.9614\n",
      "Tile 71: Accuracy = 0.8013\n",
      "Tile 72: Accuracy = 0.9182\n",
      "Tile 73: Accuracy = 0.9344\n",
      "Tile 74: Accuracy = 0.8919\n",
      "Tile 75: Accuracy = 0.8454\n",
      "Tile 76: Accuracy = 0.9264\n",
      "Tile 77: Accuracy = 0.9139\n",
      "Tile 78: Accuracy = 0.8591\n",
      "Tile 79: Accuracy = 0.7439\n",
      "Tile 80: Accuracy = 0.9307\n",
      "Tile 81: Accuracy = 0.8920\n",
      "Tile 82: Accuracy = 0.8857\n",
      "Tile 83: Accuracy = 0.8890\n",
      "Tile 84: Accuracy = 0.9553\n",
      "Tile 85: Accuracy = 0.9609\n",
      "Tile 86: Accuracy = 0.7957\n",
      "Tile 87: Accuracy = 0.8431\n",
      "Tile 88: Accuracy = 0.9541\n",
      "Tile 89: Accuracy = 0.9645\n",
      "Tile 90: Accuracy = 0.9158\n",
      "Tile 91: Accuracy = 0.9225\n",
      "Tile 92: Accuracy = 0.9292\n",
      "Tile 93: Accuracy = 0.9433\n",
      "Tile 94: Accuracy = 0.9395\n",
      "Tile 95: Accuracy = 0.9229\n",
      "Tile 96: Accuracy = 0.9688\n",
      "Tile 97: Accuracy = 0.9212\n",
      "Tile 98: Accuracy = 0.8374\n",
      "Tile 99: Accuracy = 0.9303\n",
      "Tile 100: Accuracy = 0.9341\n",
      "Tile 101: Accuracy = 0.8939\n",
      "Tile 102: Accuracy = 0.9202\n",
      "Tile 103: Accuracy = 0.9805\n",
      "Tile 104: Accuracy = 0.7839\n",
      "Tile 105: Accuracy = 0.9229\n",
      "Tile 106: Accuracy = 0.8942\n",
      "Tile 107: Accuracy = 0.7134\n",
      "Tile 108: Accuracy = 0.8091\n",
      "Tile 109: Accuracy = 0.9444\n",
      "Tile 110: Accuracy = 0.8392\n",
      "Tile 111: Accuracy = 0.9283\n",
      "Tile 112: Accuracy = 0.9889\n",
      "Tile 113: Accuracy = 0.9303\n",
      "Tile 114: Accuracy = 0.9472\n",
      "Tile 115: Accuracy = 0.9023\n",
      "Tile 116: Accuracy = 0.8767\n",
      "Tile 117: Accuracy = 0.8892\n",
      "Tile 118: Accuracy = 0.9771\n",
      "Tile 119: Accuracy = 0.8809\n",
      "Tile 120: Accuracy = 0.9031\n",
      "Tile 121: Accuracy = 0.9629\n",
      "Tile 122: Accuracy = 0.9740\n",
      "Tile 123: Accuracy = 0.8646\n",
      "Tile 124: Accuracy = 0.9449\n",
      "Tile 125: Accuracy = 0.8592\n",
      "Tile 126: Accuracy = 0.8789\n",
      "Tile 127: Accuracy = 0.9826\n",
      "Tile 128: Accuracy = 0.8660\n",
      "Tile 129: Accuracy = 0.9073\n",
      "Tile 130: Accuracy = 0.9852\n",
      "Tile 131: Accuracy = 0.7408\n",
      "Tile 132: Accuracy = 0.5977\n",
      "Tile 133: Accuracy = 0.6704\n",
      "Tile 134: Accuracy = 0.8744\n",
      "Tile 135: Accuracy = 0.7943\n",
      "Tile 136: Accuracy = 0.8956\n",
      "Tile 137: Accuracy = 0.7390\n",
      "Tile 138: Accuracy = 0.7267\n",
      "Tile 139: Accuracy = 0.9668\n",
      "Tile 140: Accuracy = 0.9442\n",
      "Tile 141: Accuracy = 0.9544\n",
      "Tile 142: Accuracy = 0.9893\n",
      "Tile 143: Accuracy = 0.8956\n",
      "Tile 144: Accuracy = 0.9614\n",
      "Tile 145: Accuracy = 0.9272\n",
      "Tile 146: Accuracy = 0.9798\n",
      "Tile 147: Accuracy = 0.9504\n",
      "Tile 148: Accuracy = 0.8260\n",
      "Tile 149: Accuracy = 0.7382\n",
      "Tile 150: Accuracy = 0.8513\n",
      "Tile 151: Accuracy = 0.6287\n",
      "Tile 152: Accuracy = 0.8500\n",
      "Tile 153: Accuracy = 0.8950\n",
      "Tile 154: Accuracy = 0.9568\n",
      "Tile 155: Accuracy = 0.8364\n",
      "Tile 156: Accuracy = 0.8758\n",
      "Tile 157: Accuracy = 0.8861\n",
      "Tile 158: Accuracy = 0.8793\n",
      "Tile 159: Accuracy = 0.9644\n",
      "Tile 160: Accuracy = 0.9703\n",
      "Tile 161: Accuracy = 0.7701\n",
      "Tile 162: Accuracy = 0.9146\n",
      "Tile 163: Accuracy = 0.8802\n",
      "Tile 164: Accuracy = 0.9433\n",
      "Tile 165: Accuracy = 0.9733\n",
      "Tile 166: Accuracy = 0.9604\n",
      "Tile 167: Accuracy = 0.9621\n",
      "Tile 168: Accuracy = 0.9511\n",
      "Tile 169: Accuracy = 0.8322\n",
      "Tile 170: Accuracy = 0.6962\n",
      "Tile 171: Accuracy = 0.7304\n",
      "Tile 172: Accuracy = 0.9390\n",
      "Tile 173: Accuracy = 0.6063\n",
      "Tile 174: Accuracy = 0.9267\n",
      "Tile 175: Accuracy = 0.9836\n",
      "Tile 176: Accuracy = 0.9448\n",
      "Tile 177: Accuracy = 0.8020\n",
      "Tile 178: Accuracy = 0.9144\n",
      "Tile 179: Accuracy = 0.8406\n",
      "Tile 180: Accuracy = 0.7973\n",
      "Tile 181: Accuracy = 0.9031\n",
      "Tile 182: Accuracy = 0.9265\n",
      "Tile 183: Accuracy = 0.9922\n",
      "Tile 184: Accuracy = 0.8456\n",
      "Tile 185: Accuracy = 0.9989\n",
      "Tile 186: Accuracy = 0.9903\n",
      "Tile 187: Accuracy = 0.9265\n",
      "Tile 188: Accuracy = 0.9422\n",
      "Tile 189: Accuracy = 0.9603\n",
      "Tile 190: Accuracy = 0.9108\n",
      "Tile 191: Accuracy = 0.8115\n",
      "Tile 192: Accuracy = 0.7656\n",
      "Tile 193: Accuracy = 0.8386\n",
      "Tile 194: Accuracy = 0.8482\n",
      "Tile 195: Accuracy = 0.6644\n",
      "Tile 196: Accuracy = 0.9844\n",
      "Tile 197: Accuracy = 0.8711\n",
      "Tile 198: Accuracy = 0.9194\n",
      "Tile 199: Accuracy = 0.9157\n",
      "Tile 200: Accuracy = 0.9538\n",
      "Tile 201: Accuracy = 0.8352\n",
      "Tile 202: Accuracy = 0.9753\n",
      "Tile 203: Accuracy = 0.9746\n",
      "Tile 204: Accuracy = 0.9574\n",
      "Tile 205: Accuracy = 0.9389\n",
      "Tile 206: Accuracy = 0.9527\n",
      "Tile 207: Accuracy = 0.7955\n",
      "Tile 208: Accuracy = 0.9245\n",
      "Tile 209: Accuracy = 0.8429\n",
      "Tile 210: Accuracy = 0.9753\n",
      "Tile 211: Accuracy = 0.9819\n",
      "Tile 212: Accuracy = 0.8694\n",
      "Tile 213: Accuracy = 0.9125\n",
      "Tile 214: Accuracy = 0.9447\n",
      "Tile 215: Accuracy = 0.9274\n",
      "Tile 216: Accuracy = 0.5996\n",
      "Tile 217: Accuracy = 0.8949\n",
      "Tile 218: Accuracy = 0.8539\n",
      "Tile 219: Accuracy = 0.7289\n",
      "Tile 220: Accuracy = 0.8704\n",
      "Tile 221: Accuracy = 0.9089\n",
      "Tile 222: Accuracy = 0.9743\n",
      "Tile 223: Accuracy = 0.9567\n",
      "Tile 224: Accuracy = 0.9844\n",
      "Tile 225: Accuracy = 0.8452\n",
      "Tile 226: Accuracy = 0.9802\n",
      "Tile 227: Accuracy = 0.9805\n",
      "Tile 228: Accuracy = 0.9789\n",
      "Tile 229: Accuracy = 0.9577\n",
      "Tile 230: Accuracy = 0.8995\n",
      "Tile 231: Accuracy = 0.8580\n",
      "Tile 232: Accuracy = 0.9624\n",
      "Tile 233: Accuracy = 0.9466\n",
      "Tile 234: Accuracy = 0.9249\n",
      "Tile 235: Accuracy = 0.9227\n",
      "Tile 236: Accuracy = 0.9455\n",
      "Tile 237: Accuracy = 0.9927\n",
      "Tile 238: Accuracy = 0.9821\n",
      "Tile 239: Accuracy = 0.9584\n",
      "Tile 240: Accuracy = 0.7966\n",
      "Tile 241: Accuracy = 0.9469\n",
      "Tile 242: Accuracy = 0.8951\n",
      "Tile 243: Accuracy = 0.9610\n",
      "Tile 244: Accuracy = 0.9678\n",
      "Tile 245: Accuracy = 0.9833\n",
      "Tile 246: Accuracy = 0.9352\n",
      "Tile 247: Accuracy = 0.9548\n",
      "Tile 248: Accuracy = 0.9677\n",
      "Tile 249: Accuracy = 0.9173\n",
      "Tile 250: Accuracy = 0.9892\n",
      "Tile 251: Accuracy = 0.8325\n",
      "Tile 252: Accuracy = 0.9962\n",
      "Tile 253: Accuracy = 0.9284\n",
      "Tile 254: Accuracy = 0.9659\n",
      "Tile 255: Accuracy = 0.9832\n",
      "Tile 256: Accuracy = 0.9126\n",
      "Tile 257: Accuracy = 0.9394\n",
      "Tile 258: Accuracy = 0.9752\n",
      "Tile 259: Accuracy = 0.9836\n",
      "Tile 260: Accuracy = 0.9778\n",
      "Tile 261: Accuracy = 0.9046\n",
      "Tile 262: Accuracy = 0.9118\n",
      "Tile 263: Accuracy = 0.9539\n",
      "Tile 264: Accuracy = 0.7948\n",
      "Tile 265: Accuracy = 0.8871\n",
      "Tile 266: Accuracy = 0.8424\n",
      "Tile 267: Accuracy = 0.7320\n",
      "Tile 268: Accuracy = 0.9567\n",
      "Tile 269: Accuracy = 0.9529\n",
      "Tile 270: Accuracy = 0.9619\n",
      "Tile 271: Accuracy = 0.9574\n",
      "Tile 272: Accuracy = 0.9593\n",
      "Tile 273: Accuracy = 0.9868\n",
      "Tile 274: Accuracy = 0.9622\n",
      "Tile 275: Accuracy = 0.9113\n",
      "Tile 276: Accuracy = 0.9539\n",
      "Tile 277: Accuracy = 0.9621\n",
      "Tile 278: Accuracy = 0.7355\n",
      "Tile 279: Accuracy = 0.9820\n",
      "Tile 280: Accuracy = 0.8720\n",
      "Tile 281: Accuracy = 0.9692\n",
      "Tile 282: Accuracy = 0.9493\n",
      "Tile 283: Accuracy = 0.9140\n",
      "Tile 284: Accuracy = 0.9729\n",
      "Tile 285: Accuracy = 0.9674\n",
      "Tile 286: Accuracy = 0.9475\n",
      "Tile 287: Accuracy = 0.9862\n",
      "Tile 288: Accuracy = 0.7149\n",
      "Tile 289: Accuracy = 0.8344\n",
      "Tile 290: Accuracy = 0.8606\n",
      "Tile 291: Accuracy = 0.7457\n",
      "Tile 292: Accuracy = 0.8749\n",
      "Tile 293: Accuracy = 0.9393\n",
      "Tile 294: Accuracy = 0.9012\n",
      "Tile 295: Accuracy = 0.9010\n",
      "Tile 296: Accuracy = 0.9447\n",
      "Tile 297: Accuracy = 0.9826\n",
      "Tile 298: Accuracy = 0.8563\n",
      "Tile 299: Accuracy = 0.9594\n",
      "Tile 300: Accuracy = 0.9244\n",
      "Tile 301: Accuracy = 0.9773\n",
      "Tile 302: Accuracy = 0.9398\n",
      "Tile 303: Accuracy = 0.9389\n",
      "Tile 304: Accuracy = 0.8542\n",
      "Tile 305: Accuracy = 0.9765\n",
      "Tile 306: Accuracy = 0.9746\n",
      "Tile 307: Accuracy = 0.9558\n",
      "Tile 308: Accuracy = 0.9744\n",
      "Tile 309: Accuracy = 0.8553\n",
      "Tile 310: Accuracy = 0.9473\n",
      "Tile 311: Accuracy = 0.9411\n",
      "Tile 312: Accuracy = 0.9086\n",
      "Tile 313: Accuracy = 0.8357\n",
      "Tile 314: Accuracy = 0.8889\n",
      "Tile 315: Accuracy = 0.9233\n",
      "Tile 316: Accuracy = 0.7265\n",
      "Tile 317: Accuracy = 0.9683\n",
      "Tile 318: Accuracy = 0.9850\n",
      "Tile 319: Accuracy = 0.9054\n",
      "Tile 320: Accuracy = 0.9198\n",
      "Tile 321: Accuracy = 0.9867\n",
      "Tile 322: Accuracy = 0.9841\n",
      "Tile 323: Accuracy = 0.9893\n",
      "Tile 324: Accuracy = 0.9419\n",
      "Tile 325: Accuracy = 0.9468\n",
      "Tile 326: Accuracy = 0.9965\n",
      "Tile 327: Accuracy = 0.9330\n",
      "Tile 328: Accuracy = 0.9898\n",
      "Tile 329: Accuracy = 0.9112\n",
      "Tile 330: Accuracy = 0.9606\n",
      "Tile 331: Accuracy = 0.9362\n",
      "Tile 332: Accuracy = 0.6463\n",
      "Tile 333: Accuracy = 0.8654\n",
      "Tile 334: Accuracy = 0.7984\n",
      "Tile 335: Accuracy = 0.7893\n",
      "Tile 336: Accuracy = 0.8896\n",
      "Tile 337: Accuracy = 0.9351\n",
      "Tile 338: Accuracy = 0.9216\n",
      "Tile 339: Accuracy = 0.9274\n",
      "Tile 340: Accuracy = 0.9709\n",
      "Tile 341: Accuracy = 0.9189\n",
      "Tile 342: Accuracy = 0.9605\n",
      "Tile 343: Accuracy = 0.9292\n",
      "Tile 344: Accuracy = 0.9404\n",
      "Tile 345: Accuracy = 0.9517\n",
      "Tile 346: Accuracy = 0.9645\n",
      "Tile 347: Accuracy = 0.8972\n",
      "Tile 348: Accuracy = 0.9342\n",
      "Tile 349: Accuracy = 0.9612\n",
      "Tile 350: Accuracy = 0.9182\n",
      "Tile 351: Accuracy = 0.8926\n",
      "Tile 352: Accuracy = 0.9294\n",
      "Tile 353: Accuracy = 0.9980\n",
      "Tile 354: Accuracy = 0.9793\n",
      "Tile 355: Accuracy = 0.9464\n",
      "Tile 356: Accuracy = 0.5098\n",
      "Tile 357: Accuracy = 0.8909\n",
      "Tile 358: Accuracy = 0.8555\n",
      "Tile 359: Accuracy = 0.8866\n",
      "Tile 360: Accuracy = 0.9603\n",
      "Tile 361: Accuracy = 0.9219\n",
      "Tile 362: Accuracy = 0.9097\n",
      "Tile 363: Accuracy = 0.8021\n",
      "Tile 364: Accuracy = 0.9850\n",
      "Tile 365: Accuracy = 0.9247\n",
      "Tile 366: Accuracy = 0.9946\n",
      "Tile 367: Accuracy = 0.9965\n",
      "Tile 368: Accuracy = 0.9290\n",
      "Tile 369: Accuracy = 0.9928\n",
      "Tile 370: Accuracy = 0.9761\n",
      "Tile 371: Accuracy = 0.9362\n",
      "Tile 372: Accuracy = 0.8825\n",
      "Tile 373: Accuracy = 0.8471\n",
      "Tile 374: Accuracy = 0.7759\n",
      "Tile 375: Accuracy = 0.8416\n",
      "Tile 376: Accuracy = 0.8573\n",
      "Tile 377: Accuracy = 0.9860\n",
      "Tile 378: Accuracy = 0.8945\n",
      "Tile 379: Accuracy = 0.5523\n",
      "Tile 380: Accuracy = 0.9273\n",
      "Tile 381: Accuracy = 0.8819\n",
      "Tile 382: Accuracy = 0.9320\n",
      "Tile 383: Accuracy = 0.9550\n",
      "Tile 384: Accuracy = 0.9686\n",
      "Tile 385: Accuracy = 0.9986\n",
      "Tile 386: Accuracy = 0.9662\n",
      "Tile 387: Accuracy = 0.9849\n",
      "Tile 388: Accuracy = 0.9657\n",
      "Tile 389: Accuracy = 0.9956\n",
      "Tile 390: Accuracy = 0.9777\n",
      "Tile 391: Accuracy = 0.9378\n",
      "Tile 392: Accuracy = 0.9738\n",
      "Tile 393: Accuracy = 0.9042\n",
      "Tile 394: Accuracy = 0.9691\n",
      "Tile 395: Accuracy = 0.9703\n",
      "Tile 396: Accuracy = 0.9165\n",
      "Tile 397: Accuracy = 0.9325\n",
      "Tile 398: Accuracy = 0.9559\n",
      "Tile 399: Accuracy = 0.8728\n",
      "Tile 400: Accuracy = 0.9260\n",
      "Tile 401: Accuracy = 0.9649\n",
      "Tile 402: Accuracy = 0.9250\n",
      "Tile 403: Accuracy = 0.9274\n",
      "Tile 404: Accuracy = 0.9691\n",
      "Tile 405: Accuracy = 0.4868\n",
      "Tile 406: Accuracy = 0.9736\n",
      "Tile 407: Accuracy = 0.7184\n",
      "Tile 408: Accuracy = 0.9906\n",
      "Tile 409: Accuracy = 0.9516\n",
      "Tile 410: Accuracy = 0.8675\n",
      "Tile 411: Accuracy = 0.9462\n",
      "Tile 412: Accuracy = 0.9897\n",
      "Tile 413: Accuracy = 0.9750\n",
      "Tile 414: Accuracy = 0.9467\n",
      "Tile 415: Accuracy = 0.9991\n",
      "Tile 416: Accuracy = 0.9941\n",
      "Tile 417: Accuracy = 0.9834\n",
      "Tile 418: Accuracy = 0.9981\n",
      "Tile 419: Accuracy = 0.9679\n",
      "Tile 420: Accuracy = 0.9852\n",
      "Tile 421: Accuracy = 0.9368\n",
      "Tile 422: Accuracy = 0.9692\n",
      "Tile 423: Accuracy = 0.9517\n",
      "Tile 424: Accuracy = 0.9409\n",
      "Tile 425: Accuracy = 0.8557\n",
      "Tile 426: Accuracy = 0.9806\n",
      "Tile 427: Accuracy = 0.9432\n",
      "Tile 428: Accuracy = 0.9588\n",
      "Tile 429: Accuracy = 0.9811\n",
      "Tile 430: Accuracy = 0.7679\n",
      "Tile 431: Accuracy = 0.8868\n",
      "Tile 432: Accuracy = 0.9100\n",
      "Tile 433: Accuracy = 0.9023\n",
      "Tile 434: Accuracy = 0.9982\n",
      "Tile 435: Accuracy = 0.8870\n",
      "Tile 436: Accuracy = 0.8936\n",
      "Tile 437: Accuracy = 0.5490\n",
      "Tile 438: Accuracy = 0.7275\n",
      "Tile 439: Accuracy = 0.7095\n",
      "Tile 440: Accuracy = 0.8653\n",
      "Tile 441: Accuracy = 0.8365\n",
      "Tile 442: Accuracy = 0.8054\n",
      "Tile 443: Accuracy = 0.9350\n",
      "Tile 444: Accuracy = 0.9708\n",
      "Tile 445: Accuracy = 0.9716\n",
      "Tile 446: Accuracy = 0.9778\n",
      "Tile 447: Accuracy = 0.9862\n",
      "Tile 448: Accuracy = 0.9633\n",
      "Tile 449: Accuracy = 0.9896\n",
      "Tile 450: Accuracy = 0.9999\n",
      "Tile 451: Accuracy = 0.9110\n",
      "Tile 452: Accuracy = 0.9777\n",
      "Tile 453: Accuracy = 0.9335\n",
      "Tile 454: Accuracy = 0.9093\n",
      "Tile 455: Accuracy = 0.9183\n",
      "Tile 456: Accuracy = 0.9782\n",
      "Tile 457: Accuracy = 0.8397\n",
      "Tile 458: Accuracy = 0.9931\n",
      "Tile 459: Accuracy = 0.9425\n",
      "Tile 460: Accuracy = 0.9872\n",
      "Tile 461: Accuracy = 0.9782\n",
      "Tile 462: Accuracy = 0.9427\n",
      "Tile 463: Accuracy = 0.9597\n",
      "Tile 464: Accuracy = 0.9826\n",
      "Tile 465: Accuracy = 0.9574\n",
      "Tile 466: Accuracy = 0.8981\n",
      "Tile 467: Accuracy = 0.9431\n",
      "Tile 468: Accuracy = 0.9780\n",
      "Tile 469: Accuracy = 0.9354\n",
      "Tile 470: Accuracy = 0.8690\n",
      "Tile 471: Accuracy = 0.8883\n",
      "Tile 472: Accuracy = 0.9298\n",
      "Tile 473: Accuracy = 0.9003\n",
      "Tile 474: Accuracy = 0.9399\n",
      "Tile 475: Accuracy = 0.9047\n",
      "Tile 476: Accuracy = 0.9699\n",
      "Tile 477: Accuracy = 0.9545\n",
      "Tile 478: Accuracy = 0.9689\n",
      "Tile 479: Accuracy = 0.9973\n",
      "Tile 480: Accuracy = 0.9899\n",
      "Tile 481: Accuracy = 0.9996\n",
      "Tile 482: Accuracy = 0.9586\n",
      "Tile 483: Accuracy = 0.9967\n",
      "Tile 484: Accuracy = 0.9177\n",
      "Tile 485: Accuracy = 0.9957\n",
      "Tile 486: Accuracy = 0.9253\n",
      "Tile 487: Accuracy = 0.9403\n",
      "Tile 488: Accuracy = 0.9817\n",
      "Tile 489: Accuracy = 0.9228\n",
      "Tile 490: Accuracy = 0.9295\n",
      "Tile 491: Accuracy = 0.9414\n",
      "Tile 492: Accuracy = 0.9758\n",
      "Tile 493: Accuracy = 0.9851\n",
      "Tile 494: Accuracy = 0.9654\n",
      "Tile 495: Accuracy = 0.9644\n",
      "Tile 496: Accuracy = 0.9907\n",
      "Tile 497: Accuracy = 0.9738\n",
      "Tile 498: Accuracy = 0.9049\n",
      "Tile 499: Accuracy = 0.9465\n",
      "Tile 500: Accuracy = 0.8694\n",
      "Tile 501: Accuracy = 0.9530\n",
      "Tile 502: Accuracy = 0.8307\n",
      "Tile 503: Accuracy = 0.9706\n",
      "Tile 504: Accuracy = 0.8361\n",
      "Tile 505: Accuracy = 0.9884\n",
      "Tile 506: Accuracy = 0.9624\n",
      "Tile 507: Accuracy = 0.9507\n",
      "Tile 508: Accuracy = 0.9603\n",
      "Tile 509: Accuracy = 0.9913\n",
      "Tile 510: Accuracy = 0.9868\n",
      "Tile 511: Accuracy = 0.9966\n",
      "Tile 512: Accuracy = 0.9880\n",
      "Tile 513: Accuracy = 0.9716\n",
      "Tile 514: Accuracy = 0.9722\n",
      "Tile 515: Accuracy = 0.9870\n",
      "Tile 516: Accuracy = 0.9346\n",
      "Tile 517: Accuracy = 0.9522\n",
      "Tile 518: Accuracy = 0.9085\n",
      "Tile 519: Accuracy = 0.9588\n",
      "Tile 520: Accuracy = 0.9388\n",
      "Tile 521: Accuracy = 0.9337\n",
      "Tile 522: Accuracy = 0.9776\n",
      "Tile 523: Accuracy = 0.9148\n",
      "Tile 524: Accuracy = 0.8825\n",
      "Tile 525: Accuracy = 0.9391\n",
      "Tile 526: Accuracy = 0.9679\n",
      "Tile 527: Accuracy = 0.9962\n",
      "Tile 528: Accuracy = 0.9597\n",
      "Tile 529: Accuracy = 0.8954\n",
      "Tile 530: Accuracy = 0.8691\n",
      "Tile 531: Accuracy = 0.9547\n",
      "Tile 532: Accuracy = 0.8694\n",
      "Tile 533: Accuracy = 0.7245\n",
      "Tile 534: Accuracy = 0.9536\n",
      "Tile 535: Accuracy = 0.9770\n",
      "Tile 536: Accuracy = 0.9977\n",
      "Tile 537: Accuracy = 0.9951\n",
      "Tile 538: Accuracy = 0.9428\n",
      "Tile 539: Accuracy = 0.9781\n",
      "Tile 540: Accuracy = 0.9946\n",
      "Tile 541: Accuracy = 0.9894\n",
      "Tile 542: Accuracy = 0.9883\n",
      "Tile 543: Accuracy = 0.9900\n",
      "Tile 544: Accuracy = 0.9918\n",
      "Tile 545: Accuracy = 0.9279\n",
      "Tile 546: Accuracy = 0.9627\n",
      "Tile 547: Accuracy = 0.9281\n",
      "Tile 548: Accuracy = 0.9063\n",
      "Tile 549: Accuracy = 0.8608\n",
      "Tile 550: Accuracy = 0.8836\n",
      "Tile 551: Accuracy = 0.9819\n",
      "Tile 552: Accuracy = 0.8935\n",
      "Tile 553: Accuracy = 0.8374\n",
      "Tile 554: Accuracy = 0.9545\n",
      "Tile 555: Accuracy = 0.9811\n",
      "Tile 556: Accuracy = 0.7801\n",
      "Tile 557: Accuracy = 0.8770\n",
      "Tile 558: Accuracy = 0.9397\n",
      "Tile 559: Accuracy = 0.4149\n",
      "Tile 560: Accuracy = 0.8502\n",
      "Tile 561: Accuracy = 0.7923\n",
      "Tile 562: Accuracy = 0.7981\n",
      "Tile 563: Accuracy = 0.9277\n",
      "Tile 564: Accuracy = 0.8875\n",
      "Tile 565: Accuracy = 0.9733\n",
      "Tile 566: Accuracy = 0.9920\n",
      "Tile 567: Accuracy = 0.9949\n",
      "Tile 568: Accuracy = 0.9835\n",
      "Tile 569: Accuracy = 0.9878\n",
      "Tile 570: Accuracy = 0.9944\n",
      "Tile 571: Accuracy = 0.9877\n",
      "Tile 572: Accuracy = 0.9619\n",
      "Tile 573: Accuracy = 0.9438\n",
      "Tile 574: Accuracy = 0.9537\n",
      "Tile 575: Accuracy = 0.9378\n",
      "Tile 576: Accuracy = 0.9405\n",
      "Tile 577: Accuracy = 0.9861\n",
      "Tile 578: Accuracy = 0.9904\n",
      "Tile 579: Accuracy = 0.9876\n",
      "Tile 580: Accuracy = 0.9312\n",
      "Tile 581: Accuracy = 0.9846\n",
      "Tile 582: Accuracy = 0.7984\n",
      "Tile 583: Accuracy = 0.8287\n",
      "Tile 584: Accuracy = 0.8445\n",
      "Tile 585: Accuracy = 0.8584\n",
      "Tile 586: Accuracy = 0.9466\n",
      "Tile 587: Accuracy = 0.9951\n",
      "Tile 588: Accuracy = 0.9498\n",
      "Tile 589: Accuracy = 0.9474\n",
      "Tile 590: Accuracy = 0.9187\n",
      "Tile 591: Accuracy = 0.3669\n",
      "Tile 592: Accuracy = 0.7709\n",
      "Tile 593: Accuracy = 0.7756\n",
      "Tile 594: Accuracy = 0.7597\n",
      "Tile 595: Accuracy = 0.8354\n",
      "Tile 596: Accuracy = 0.9573\n",
      "Tile 597: Accuracy = 0.9228\n",
      "Tile 598: Accuracy = 0.9547\n",
      "Tile 599: Accuracy = 0.9743\n",
      "Tile 600: Accuracy = 0.9873\n",
      "Tile 601: Accuracy = 0.9547\n",
      "Tile 602: Accuracy = 0.9857\n",
      "Tile 603: Accuracy = 0.9809\n",
      "Tile 604: Accuracy = 0.9860\n",
      "Tile 605: Accuracy = 0.9477\n",
      "Tile 606: Accuracy = 0.9817\n",
      "Tile 607: Accuracy = 0.9348\n",
      "Tile 608: Accuracy = 0.9944\n",
      "Tile 609: Accuracy = 0.9946\n",
      "Tile 610: Accuracy = 0.9801\n",
      "Tile 611: Accuracy = 0.9331\n",
      "Tile 612: Accuracy = 0.9461\n",
      "Tile 613: Accuracy = 0.9408\n",
      "Tile 614: Accuracy = 0.8717\n",
      "Tile 615: Accuracy = 0.9380\n",
      "Tile 616: Accuracy = 0.8978\n",
      "Tile 617: Accuracy = 0.8708\n",
      "Tile 618: Accuracy = 0.8958\n",
      "Tile 619: Accuracy = 0.9809\n",
      "Tile 620: Accuracy = 0.9648\n",
      "Tile 621: Accuracy = 0.9753\n",
      "Tile 622: Accuracy = 0.8768\n",
      "Tile 623: Accuracy = 0.3150\n",
      "Tile 624: Accuracy = 0.7581\n",
      "Tile 625: Accuracy = 0.8276\n",
      "Tile 626: Accuracy = 0.8185\n",
      "Tile 627: Accuracy = 0.7987\n",
      "Tile 628: Accuracy = 0.8667\n",
      "Tile 629: Accuracy = 0.9310\n",
      "Tile 630: Accuracy = 0.9475\n",
      "Tile 631: Accuracy = 0.9485\n",
      "Tile 632: Accuracy = 0.9775\n",
      "Tile 633: Accuracy = 0.9991\n",
      "Tile 634: Accuracy = 0.9747\n",
      "Tile 635: Accuracy = 0.9751\n",
      "Tile 636: Accuracy = 0.9715\n",
      "Tile 637: Accuracy = 0.9700\n",
      "Tile 638: Accuracy = 0.9269\n",
      "Tile 639: Accuracy = 0.9556\n",
      "Tile 640: Accuracy = 0.9991\n",
      "Tile 641: Accuracy = 0.9622\n",
      "Tile 642: Accuracy = 0.9291\n",
      "Tile 643: Accuracy = 0.8907\n",
      "Tile 644: Accuracy = 0.8412\n",
      "Tile 645: Accuracy = 0.9520\n",
      "Tile 646: Accuracy = 0.9007\n",
      "Tile 647: Accuracy = 0.9322\n",
      "Tile 648: Accuracy = 0.9933\n",
      "Tile 649: Accuracy = 0.9060\n",
      "Tile 650: Accuracy = 0.9539\n",
      "Tile 651: Accuracy = 0.8772\n",
      "Tile 652: Accuracy = 0.9096\n"
     ]
    }
   ],
   "source": [
    "# Calculate accuracy for each tile\n",
    "accuracies = []\n",
    "for actual_mask, predicted_mask in zip(val_masks_list, predicted_arrays):\n",
    "    # Ensure both masks have the same shape\n",
    "    assert actual_mask.shape == predicted_mask.shape, \"Mismatch in mask shapes\"\n",
    "    \n",
    "    # Calculate the number of correctly predicted pixels\n",
    "    correct_pixels = np.sum(actual_mask == predicted_mask)\n",
    "    total_pixels = actual_mask.size\n",
    "    accuracy = correct_pixels / total_pixels\n",
    "    \n",
    "    accuracies.append(accuracy)\n",
    "\n",
    "# Now, accuracies contains the accuracy for each tile\n",
    "for idx, acc in enumerate(accuracies):\n",
    "    print(f\"Tile {idx}: Accuracy = {acc:.4f}\")"
   ]
  },
  {
   "cell_type": "markdown",
   "id": "d64a79c5-331a-41c6-b82d-b2b415dca4ed",
   "metadata": {},
   "source": [
    "Save the accuracies into a CSV for later use. "
   ]
  },
  {
   "cell_type": "code",
   "execution_count": 91,
   "id": "4ff52b69-858d-4741-9586-b62f95a4f560",
   "metadata": {},
   "outputs": [],
   "source": [
    "import csv\n",
    "\n",
    "# Specify the full file path\n",
    "file_path = '/explore/nobackup/people/sking11/accuracies/RESNET152_5000_accuracies.csv'\n",
    "\n",
    "# Save as CSV using csv module\n",
    "with open(file_path, 'w', newline='') as csvfile:\n",
    "    writer = csv.writer(csvfile)\n",
    "    writer.writerow(['Tile', 'Accuracy'])  # Write the header\n",
    "    for idx, accuracy in enumerate(accuracies):\n",
    "        writer.writerow([idx, accuracy])"
   ]
  },
  {
   "cell_type": "markdown",
   "id": "26dc95a1-dabf-4cea-a8c1-f957e6d76918",
   "metadata": {},
   "source": [
    "Plot the variation in accuracy. "
   ]
  },
  {
   "cell_type": "code",
   "execution_count": 94,
   "id": "762520cb-fe5b-4522-8a92-72ef55da6d29",
   "metadata": {},
   "outputs": [
    {
     "data": {
      "image/png": "[encoded data removed]",
      "text/plain": [
       "<Figure size 1000x1000 with 1 Axes>"
      ]
     },
     "metadata": {},
     "output_type": "display_data"
    }
   ],
   "source": [
    "import matplotlib.pyplot as plt\n",
    "\n",
    "# Create a box plot\n",
    "plt.figure(figsize=(10, 10))\n",
    "plt.boxplot(accuracies, vert=True, patch_artist=True)\n",
    "\n",
    "# Adding titles and labels with customized font sizes\n",
    "plt.title('Variation in Accuracies (ResNet152, 5000 Training Set Size)', fontsize=17)\n",
    "plt.ylabel('Accuracy', fontsize=15)\n",
    "\n",
    "# Optional: Customize the plot\n",
    "plt.xticks([1], ['Tile Accuracies'], fontsize=15)  # Since there's only one box plot\n",
    "plt.grid(True)\n",
    "\n",
    "# Display the plot\n",
    "plt.show()"
   ]
  }
 ],
 "metadata": {
  "kernelspec": {
   "display_name": "dino_env",
   "language": "python",
   "name": "dino_env"
  },
  "language_info": {
   "codemirror_mode": {
    "name": "ipython",
    "version": 3
   },
   "file_extension": ".py",
   "mimetype": "text/x-python",
   "name": "python",
   "nbconvert_exporter": "python",
   "pygments_lexer": "ipython3",
   "version": "3.12.4"
  }
 },
 "nbformat": 4,
 "nbformat_minor": 5
}
