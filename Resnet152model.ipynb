{
 "cells": [
  {
   "cell_type": "markdown",
   "id": "4508cca4-3c35-4150-a201-a688fa25caff",
   "metadata": {},
   "source": [
    "This model is a [ResNet152](https://huggingface.co/microsoft/resnet-152) model trained on 224x224 resolution data from ImageNet-1k run with unfrozen parameters. "
   ]
  },
  {
   "cell_type": "markdown",
   "id": "64918961-3a6c-4b6f-b7d2-b2e5d6e7f025",
   "metadata": {},
   "source": [
    "# Loading in Data"
   ]
  },
  {
   "cell_type": "markdown",
   "id": "e78f7aa0-74b0-422c-9ddb-c3a7a2537f7e",
   "metadata": {},
   "source": [
    "Import Packages"
   ]
  },
  {
   "cell_type": "code",
   "execution_count": 1,
   "id": "820d0f33-75f7-4f16-9965-c3fd471c1679",
   "metadata": {},
   "outputs": [],
   "source": [
    "import torch\n",
    "import torch.nn as nn\n",
    "import torch.optim as optim\n",
    "from torchvision import models, transforms\n",
    "from torch.utils.data import DataLoader, Dataset\n",
    "from PIL import Image\n",
    "import numpy as np\n",
    "import huggingface_hub\n",
    "from tqdm import tqdm\n",
    "import matplotlib.pyplot as plt \n",
    "import os"
   ]
  },
  {
   "cell_type": "markdown",
   "id": "8b2dff0b-e64b-4039-9cb1-dbac488797c7",
   "metadata": {},
   "source": [
    "Load in the training data from huggingface"
   ]
  },
  {
   "cell_type": "code",
   "execution_count": 2,
   "id": "0a1b8f61-f67b-4d43-9d90-2f4c153458c7",
   "metadata": {},
   "outputs": [
    {
     "name": "stderr",
     "output_type": "stream",
     "text": [
      "/home/sking11/.conda/envs/dino_env/lib/python3.12/site-packages/tqdm/auto.py:21: TqdmWarning: IProgress not found. Please update jupyter and ipywidgets. See https://ipywidgets.readthedocs.io/en/stable/user_install.html\n",
      "  from .autonotebook import tqdm as notebook_tqdm\n"
     ]
    }
   ],
   "source": [
    "from datasets import load_dataset, DatasetDict, Dataset\n",
    "\n",
    "dataset = load_dataset('saking3/alaska_dead_trees')"
   ]
  },
  {
   "cell_type": "code",
   "execution_count": 3,
   "id": "be314170-b884-45eb-9599-17df46474366",
   "metadata": {},
   "outputs": [
    {
     "data": {
      "text/plain": [
       "DatasetDict({\n",
       "    train: Dataset({\n",
       "        features: ['image', 'label'],\n",
       "        num_rows: 6400\n",
       "    })\n",
       "    validation: Dataset({\n",
       "        features: ['image', 'label'],\n",
       "        num_rows: 653\n",
       "    })\n",
       "    test: Dataset({\n",
       "        features: ['image', 'label'],\n",
       "        num_rows: 1286\n",
       "    })\n",
       "})"
      ]
     },
     "execution_count": 3,
     "metadata": {},
     "output_type": "execute_result"
    }
   ],
   "source": [
    "dataset"
   ]
  },
  {
   "cell_type": "markdown",
   "id": "ea1732b4-ff86-4b4a-b46e-0f130dbb5a5d",
   "metadata": {},
   "source": [
    "Subsetting the dataset so the training dataset only contains 5000 randomly selected training images. "
   ]
  },
  {
   "cell_type": "code",
   "execution_count": 4,
   "id": "cb38dc45-c77d-4736-8c3a-297c14ccd3ce",
   "metadata": {},
   "outputs": [],
   "source": [
    "training_size = 10 #10, 100, 500, 1000, 5000\n",
    "\n",
    "random_indices = np.random.choice(len(dataset[\"train\"]), size=training_size, replace=False)"
   ]
  },
  {
   "cell_type": "code",
   "execution_count": 5,
   "id": "a8331b88-ec8d-4959-99d9-ac978815c205",
   "metadata": {},
   "outputs": [
    {
     "name": "stdout",
     "output_type": "stream",
     "text": [
      "DatasetDict({\n",
      "    train: Dataset({\n",
      "        features: ['image', 'label'],\n",
      "        num_rows: 10\n",
      "    })\n",
      "    validation: Dataset({\n",
      "        features: ['image', 'label'],\n",
      "        num_rows: 653\n",
      "    })\n",
      "    test: Dataset({\n",
      "        features: ['image', 'label'],\n",
      "        num_rows: 1286\n",
      "    })\n",
      "})\n"
     ]
    }
   ],
   "source": [
    "# Select the random subset\n",
    "train_subset = dataset[\"train\"].select(random_indices)\n",
    "\n",
    "# Create a new DatasetDict with the subset\n",
    "subset_training_dataset = DatasetDict({\n",
    "    \"train\": train_subset,\n",
    "    \"validation\": dataset[\"validation\"],\n",
    "    \"test\": dataset[\"test\"]\n",
    "})\n",
    "\n",
    "# Print the structure of the new subset dataset to confirm\n",
    "print(subset_training_dataset)"
   ]
  },
  {
   "cell_type": "markdown",
   "id": "53407230-cc71-49b7-b92b-c59e6b5013a5",
   "metadata": {},
   "source": [
    "Let's load the mappings between integers and their classes "
   ]
  },
  {
   "cell_type": "code",
   "execution_count": 6,
   "id": "703d70ba-a667-4976-bb90-b292d9a951ed",
   "metadata": {},
   "outputs": [],
   "source": [
    "#get labels for each dataset \n",
    "id2label = {0: 'Background', 1: 'Dead Tree'}"
   ]
  },
  {
   "cell_type": "markdown",
   "id": "f6f51fbc-d526-44a8-b8ae-a2de56a2f9e5",
   "metadata": {},
   "source": [
    "Create a 'dataset' that serves us input images and masks in a format appropriate for the ResNet model."
   ]
  },
  {
   "cell_type": "code",
   "execution_count": 7,
   "id": "782cc7b5-47b4-4bd6-83b5-968b13be27be",
   "metadata": {},
   "outputs": [],
   "source": [
    "class ForestDataset(torch.utils.data.Dataset):\n",
    "    def __init__(self, dataset, transform=None):\n",
    "        self.dataset = dataset\n",
    "        self.transform = transform\n",
    "\n",
    "    def __getitem__(self, idx):\n",
    "        sample = self.dataset[idx]\n",
    "        image = sample['image']\n",
    "        mask = sample['label']\n",
    "\n",
    "        # Ensure the image is in PIL format\n",
    "        if isinstance(image, np.ndarray):\n",
    "            image = Image.fromarray(image)\n",
    "        \n",
    "        if self.transform:\n",
    "            image = self.transform(image)\n",
    "\n",
    "        # Ensure the mask is in tensor format\n",
    "        mask = torch.tensor(np.array(mask), dtype=torch.float).unsqueeze(0)\n",
    "\n",
    "        return image, mask\n",
    "\n",
    "    def __len__(self):\n",
    "        return len(self.dataset)"
   ]
  },
  {
   "cell_type": "markdown",
   "id": "af3e7468-0d50-4b25-ab2c-c2a00b32a64c",
   "metadata": {},
   "source": [
    "## Transformations \n",
    "We augment the training images by resizing them to a fixed resolution (448x448), converting the images to tensors, and normalizing the color channels."
   ]
  },
  {
   "cell_type": "code",
   "execution_count": 8,
   "id": "63197797-4f7a-4f3b-990d-dea92c692e8b",
   "metadata": {},
   "outputs": [],
   "source": [
    "train_transform = transforms.Compose([\n",
    "    transforms.Resize((448, 448)),\n",
    "    transforms.ToTensor(),\n",
    "    transforms.Normalize(mean=[0.485, 0.456, 0.406], std=[0.229, 0.224, 0.225])\n",
    "])\n",
    "\n",
    "val_transform = transforms.Compose([\n",
    "    transforms.Resize((448, 448)),\n",
    "    transforms.ToTensor(),\n",
    "    transforms.Normalize(mean=[0.485, 0.456, 0.406], std=[0.229, 0.224, 0.225])\n",
    "])"
   ]
  },
  {
   "cell_type": "markdown",
   "id": "5b276e7d-0e8a-4298-a00c-2468506b62b6",
   "metadata": {},
   "source": [
    "Create the training, validation, and test dataset and check the length of each dataset."
   ]
  },
  {
   "cell_type": "code",
   "execution_count": 9,
   "id": "f1207156-4367-498c-8487-29a5f20a0324",
   "metadata": {},
   "outputs": [],
   "source": [
    "train_dataset = ForestDataset(subset_training_dataset['train'], transform=train_transform)\n",
    "val_dataset = ForestDataset(subset_training_dataset['validation'], transform=val_transform)\n",
    "test_dataset = ForestDataset(subset_training_dataset['test'], transform=val_transform)"
   ]
  },
  {
   "cell_type": "code",
   "execution_count": 10,
   "id": "b81c43fc-48f9-479e-8d61-b04ec24f2473",
   "metadata": {},
   "outputs": [
    {
     "name": "stdout",
     "output_type": "stream",
     "text": [
      "Number of train images: 10\n",
      "Number of val images: 653\n",
      "Number of test images: 1286\n"
     ]
    }
   ],
   "source": [
    "print(\"Number of train images:\", len(train_dataset))\n",
    "print(\"Number of val images:\", len(val_dataset))\n",
    "print(\"Number of test images:\", len(test_dataset))"
   ]
  },
  {
   "cell_type": "markdown",
   "id": "e625d86a-2a63-48ea-aca5-356149b3e04c",
   "metadata": {},
   "source": [
    "Create the training, validation, and test dataloaders to feed data to the model. "
   ]
  },
  {
   "cell_type": "code",
   "execution_count": 33,
   "id": "eb591709-8483-4c2e-ac58-c76f224767c5",
   "metadata": {},
   "outputs": [],
   "source": [
    "train_loader = DataLoader(train_dataset, batch_size=2, shuffle=True)\n",
    "val_loader = DataLoader(val_dataset, batch_size=1, shuffle=False)\n",
    "test_loader = DataLoader(test_dataset, batch_size=2, shuffle=False)"
   ]
  },
  {
   "cell_type": "markdown",
   "id": "23abdce1-940d-4bf3-a8cd-386b7bb30cbd",
   "metadata": {},
   "source": [
    "# Training the Model"
   ]
  },
  {
   "cell_type": "markdown",
   "id": "1d1ca953-f247-419c-83f5-a42cedf6d6fa",
   "metadata": {},
   "source": [
    "## Model Structure\n",
    "\n",
    "**ResNet-152 Backbone:** ResNet-152 is a deep residual network with 152 layers, pre-trained on the ImageNet dataset.\n",
    "\n",
    "**Feature Extraction:** The model uses a forward hook to capture the output of the layer4[0] block of ResNet-152, which contains high-level features. This is where the deep features of the input image are extracted.\n",
    "\n",
    "**Upsampling Layers:** After extracting features, the model uses a series of transposed convolutional layers to upsample the feature maps to the original image size.\n",
    "        Transposed Convolution Layers (ConvTranspose2d):\n",
    "            upconv1: Upsamples the 2048 feature maps from layer4 to 1024 channels.\n",
    "            upconv2: Upsamples from 1024 channels to 512 channels.\n",
    "            upconv3: Upsamples from 512 channels to 256 channels.\n",
    "            upconv4: Upsamples from 256 channels to the number of output classes.\n",
    "\n",
    "**Final Upsampling:** After the transposed convolutional layers, a final bilinear upsampling layer (Upsample) resizes the output to a target size of 256x256 pixels. This ensures that the segmentation mask matches the desired output resolution."
   ]
  },
  {
   "cell_type": "markdown",
   "id": "2882017a-d83f-4419-9874-45ca40a01e55",
   "metadata": {},
   "source": [
    "## The Forward Pass\n",
    "\n",
    "**Initial Convolution and Pooling:** The input image is passed through the initial layers of ResNet-152 (conv1, bn1, relu, maxpool) to extract basic features.\n",
    "\n",
    "**Residual Layers:** The image is processed through four residual layers (layer1 to layer4) in ResNet-152. The features are gradually refined and reduced in spatial dimensions while increasing in depth (number of channels).\n",
    "\n",
    "**Upsampling:** After extracting the features from the last residual layer (layer4), the transposed convolutional layers progressively upsample these features back to the original spatial resolution. Each upsampling step reduces the depth (number of channels) of the feature maps while increasing their spatial dimensions.\n",
    "\n",
    "**Final Output:** The final output is a segmentation mask with dimensions [batch_size, num_classes, 256, 256]. For a binary segmentation task, num_classes would typically be 1, meaning the output is a single-channel mask where each pixel represents the probability of belonging to the target class (e.g., a specific object or region in the image)."
   ]
  },
  {
   "cell_type": "code",
   "execution_count": 12,
   "id": "37f1abb7-f8b9-4613-bde4-d9b1d89026ec",
   "metadata": {},
   "outputs": [],
   "source": [
    "#define resnet model\n",
    "class ResNet152Segmentation(nn.Module):\n",
    "    def __init__(self, num_classes=1):\n",
    "        super(ResNet152Segmentation, self).__init__()\n",
    "        self.resnet = models.resnet152(pretrained=True)\n",
    "        \n",
    "        # Extract the features from the ResNet model\n",
    "        self.resnet.layer4[0].register_forward_hook(self.hook_fn)\n",
    "        \n",
    "        # Define the upsampling layers\n",
    "        self.upconv1 = nn.ConvTranspose2d(2048, 1024, kernel_size=4, stride=2, padding=1)\n",
    "        self.upconv2 = nn.ConvTranspose2d(1024, 512, kernel_size=4, stride=2, padding=1)\n",
    "        self.upconv3 = nn.ConvTranspose2d(512, 256, kernel_size=4, stride=2, padding=1)\n",
    "        self.upconv4 = nn.ConvTranspose2d(256, num_classes, kernel_size=4, stride=2, padding=1)\n",
    "\n",
    "        # Upsample to match the target size (256x256)\n",
    "        self.final_upsample = nn.Upsample(size=(256, 256), mode='bilinear', align_corners=False)\n",
    "\n",
    "    def hook_fn(self, module, input, output):\n",
    "        self.features = output\n",
    "\n",
    "    def forward(self, x):\n",
    "        x = self.resnet.conv1(x)   # Initial conv layer\n",
    "        x = self.resnet.bn1(x)     # Initial batch norm\n",
    "        x = self.resnet.relu(x)    # Initial ReLU\n",
    "        x = self.resnet.maxpool(x) # Initial max pooling\n",
    "        \n",
    "        x = self.resnet.layer1(x)  # First ResNet layer block\n",
    "        x = self.resnet.layer2(x)  # Second ResNet layer block\n",
    "        x = self.resnet.layer3(x)  # Third ResNet layer block\n",
    "        x = self.resnet.layer4(x)  # Fourth ResNet layer block\n",
    "\n",
    "        # Apply upsampling\n",
    "        x = self.upconv1(x)        # Upsample to [batch, 1024, 56, 56]\n",
    "        x = self.upconv2(x)        # Upsample to [batch, 512, 112, 112]\n",
    "        x = self.upconv3(x)        # Upsample to [batch, 256, 224, 224]\n",
    "        x = self.upconv4(x)        # Upsample to [batch, num_classes, 448, 448]\n",
    "        x = self.final_upsample(x) # Resize to [batch, num_classes, 256, 256]\n",
    "        \n",
    "        return x"
   ]
  },
  {
   "cell_type": "markdown",
   "id": "aeb71c67-1e61-46fb-885c-0cef0050b5e9",
   "metadata": {},
   "source": [
    "We can instantiate the model as follows:"
   ]
  },
  {
   "cell_type": "code",
   "execution_count": 13,
   "id": "e81adc7b-1c0c-43cc-9a4a-3082923b3301",
   "metadata": {},
   "outputs": [
    {
     "name": "stderr",
     "output_type": "stream",
     "text": [
      "/home/sking11/.conda/envs/dino_env/lib/python3.12/site-packages/torchvision/models/_utils.py:208: UserWarning: The parameter 'pretrained' is deprecated since 0.13 and may be removed in the future, please use 'weights' instead.\n",
      "  warnings.warn(\n",
      "/home/sking11/.conda/envs/dino_env/lib/python3.12/site-packages/torchvision/models/_utils.py:223: UserWarning: Arguments other than a weight enum or `None` for 'weights' are deprecated since 0.13 and may be removed in the future. The current behavior is equivalent to passing `weights=ResNet152_Weights.IMAGENET1K_V1`. You can also use `weights=ResNet152_Weights.DEFAULT` to get the most up-to-date weights.\n",
      "  warnings.warn(msg)\n"
     ]
    }
   ],
   "source": [
    "model = ResNet152Segmentation(num_classes=1)\n",
    "\n",
    "# Ensure all parameters are trainable/unfrozen\n",
    "for param in model.parameters():\n",
    "    param.requires_grad = True"
   ]
  },
  {
   "cell_type": "markdown",
   "id": "4f7ca6e5-f12d-4eff-9819-74e7bd893929",
   "metadata": {},
   "source": [
    "Pick loss function and gradient descent method (Adam function). "
   ]
  },
  {
   "cell_type": "code",
   "execution_count": 14,
   "id": "1c40fd88-478b-4cdb-80b5-3a3427a1919e",
   "metadata": {},
   "outputs": [],
   "source": [
    "criterion = nn.BCEWithLogitsLoss()\n",
    "optimizer = optim.Adam(model.parameters(), lr=1e-6)"
   ]
  },
  {
   "cell_type": "markdown",
   "id": "83cc8cac-b4db-4870-8fd0-66871ee67464",
   "metadata": {},
   "source": [
    "Train the model. It's set to print stats per epoch. "
   ]
  },
  {
   "cell_type": "code",
   "execution_count": 15,
   "id": "50832a77-c833-4684-b166-6e9eb52bd5e5",
   "metadata": {},
   "outputs": [],
   "source": [
    "def train_model(model, dataloader, criterion, optimizer, num_epochs=10):\n",
    "    device = torch.device(\"cuda:1\" if torch.cuda.is_available() else \"cpu\")\n",
    "    model = nn.DataParallel(model, device_ids=[1, 2, 3])\n",
    "    model.to(device)\n",
    "    \n",
    "    for epoch in range(num_epochs):\n",
    "        model.train()\n",
    "        running_loss = 0.0\n",
    "        \n",
    "        # Wrap the data loader with tqdm to show the progress bar\n",
    "        for images, masks in tqdm(dataloader, desc=f'Epoch {epoch+1}/{num_epochs}', unit='batch'):\n",
    "            images, masks = images.to(device), masks.to(device)\n",
    "            \n",
    "            optimizer.zero_grad()\n",
    "            \n",
    "            outputs = model(images)\n",
    "            \n",
    "            # Ensure the outputs and targets are the same size\n",
    "            if outputs.size() != masks.size():\n",
    "                outputs = nn.functional.interpolate(outputs, size=masks.shape[2:], mode='bilinear', align_corners=False)\n",
    "            \n",
    "            loss = criterion(outputs, masks)\n",
    "            loss.backward()\n",
    "            optimizer.step()\n",
    "            \n",
    "            running_loss += loss.item() * images.size(0)\n",
    "        \n",
    "        epoch_loss = running_loss / len(dataloader.dataset)\n",
    "        print(f\"Epoch {epoch+1}/{num_epochs}, Loss: {epoch_loss:.4f}\")"
   ]
  },
  {
   "cell_type": "code",
   "execution_count": 16,
   "id": "c4cf5c12-84ec-42e8-9665-655918c53d70",
   "metadata": {},
   "outputs": [
    {
     "name": "stderr",
     "output_type": "stream",
     "text": [
      "Epoch 1/30:   0%|          | 0/5 [00:00<?, ?batch/s]/home/sking11/.local/lib/python3.12/site-packages/torch/nn/parallel/parallel_apply.py:79: FutureWarning: `torch.cuda.amp.autocast(args...)` is deprecated. Please use `torch.amp.autocast('cuda', args...)` instead.\n",
      "  with torch.cuda.device(device), torch.cuda.stream(stream), autocast(enabled=autocast_enabled):\n",
      "Epoch 1/30: 100%|██████████| 5/5 [00:01<00:00,  3.34batch/s]\n"
     ]
    },
    {
     "name": "stdout",
     "output_type": "stream",
     "text": [
      "Epoch 1/30, Loss: 0.6405\n"
     ]
    },
    {
     "name": "stderr",
     "output_type": "stream",
     "text": [
      "Epoch 2/30: 100%|██████████| 5/5 [00:00<00:00,  6.82batch/s]\n"
     ]
    },
    {
     "name": "stdout",
     "output_type": "stream",
     "text": [
      "Epoch 2/30, Loss: 0.6180\n"
     ]
    },
    {
     "name": "stderr",
     "output_type": "stream",
     "text": [
      "Epoch 3/30: 100%|██████████| 5/5 [00:00<00:00,  5.84batch/s]\n"
     ]
    },
    {
     "name": "stdout",
     "output_type": "stream",
     "text": [
      "Epoch 3/30, Loss: 0.5941\n"
     ]
    },
    {
     "name": "stderr",
     "output_type": "stream",
     "text": [
      "Epoch 4/30: 100%|██████████| 5/5 [00:00<00:00,  5.02batch/s]\n"
     ]
    },
    {
     "name": "stdout",
     "output_type": "stream",
     "text": [
      "Epoch 4/30, Loss: 0.5705\n"
     ]
    },
    {
     "name": "stderr",
     "output_type": "stream",
     "text": [
      "Epoch 5/30: 100%|██████████| 5/5 [00:01<00:00,  4.81batch/s]\n"
     ]
    },
    {
     "name": "stdout",
     "output_type": "stream",
     "text": [
      "Epoch 5/30, Loss: 0.5433\n"
     ]
    },
    {
     "name": "stderr",
     "output_type": "stream",
     "text": [
      "Epoch 6/30: 100%|██████████| 5/5 [00:00<00:00,  7.27batch/s]\n"
     ]
    },
    {
     "name": "stdout",
     "output_type": "stream",
     "text": [
      "Epoch 6/30, Loss: 0.5151\n"
     ]
    },
    {
     "name": "stderr",
     "output_type": "stream",
     "text": [
      "Epoch 7/30: 100%|██████████| 5/5 [00:00<00:00,  6.18batch/s]\n"
     ]
    },
    {
     "name": "stdout",
     "output_type": "stream",
     "text": [
      "Epoch 7/30, Loss: 0.4846\n"
     ]
    },
    {
     "name": "stderr",
     "output_type": "stream",
     "text": [
      "Epoch 8/30: 100%|██████████| 5/5 [00:00<00:00,  7.34batch/s]\n"
     ]
    },
    {
     "name": "stdout",
     "output_type": "stream",
     "text": [
      "Epoch 8/30, Loss: 0.4517\n"
     ]
    },
    {
     "name": "stderr",
     "output_type": "stream",
     "text": [
      "Epoch 9/30: 100%|██████████| 5/5 [00:00<00:00,  7.56batch/s]\n"
     ]
    },
    {
     "name": "stdout",
     "output_type": "stream",
     "text": [
      "Epoch 9/30, Loss: 0.4178\n"
     ]
    },
    {
     "name": "stderr",
     "output_type": "stream",
     "text": [
      "Epoch 10/30: 100%|██████████| 5/5 [00:00<00:00,  7.07batch/s]\n"
     ]
    },
    {
     "name": "stdout",
     "output_type": "stream",
     "text": [
      "Epoch 10/30, Loss: 0.3828\n"
     ]
    },
    {
     "name": "stderr",
     "output_type": "stream",
     "text": [
      "Epoch 11/30: 100%|██████████| 5/5 [00:00<00:00,  7.48batch/s]\n"
     ]
    },
    {
     "name": "stdout",
     "output_type": "stream",
     "text": [
      "Epoch 11/30, Loss: 0.3481\n"
     ]
    },
    {
     "name": "stderr",
     "output_type": "stream",
     "text": [
      "Epoch 12/30: 100%|██████████| 5/5 [00:00<00:00,  7.25batch/s]\n"
     ]
    },
    {
     "name": "stdout",
     "output_type": "stream",
     "text": [
      "Epoch 12/30, Loss: 0.3149\n"
     ]
    },
    {
     "name": "stderr",
     "output_type": "stream",
     "text": [
      "Epoch 13/30: 100%|██████████| 5/5 [00:00<00:00,  7.14batch/s]\n"
     ]
    },
    {
     "name": "stdout",
     "output_type": "stream",
     "text": [
      "Epoch 13/30, Loss: 0.2842\n"
     ]
    },
    {
     "name": "stderr",
     "output_type": "stream",
     "text": [
      "Epoch 14/30: 100%|██████████| 5/5 [00:00<00:00,  7.08batch/s]\n"
     ]
    },
    {
     "name": "stdout",
     "output_type": "stream",
     "text": [
      "Epoch 14/30, Loss: 0.2567\n"
     ]
    },
    {
     "name": "stderr",
     "output_type": "stream",
     "text": [
      "Epoch 15/30: 100%|██████████| 5/5 [00:00<00:00,  6.31batch/s]\n"
     ]
    },
    {
     "name": "stdout",
     "output_type": "stream",
     "text": [
      "Epoch 15/30, Loss: 0.2322\n"
     ]
    },
    {
     "name": "stderr",
     "output_type": "stream",
     "text": [
      "Epoch 16/30: 100%|██████████| 5/5 [00:00<00:00,  7.38batch/s]\n"
     ]
    },
    {
     "name": "stdout",
     "output_type": "stream",
     "text": [
      "Epoch 16/30, Loss: 0.2127\n"
     ]
    },
    {
     "name": "stderr",
     "output_type": "stream",
     "text": [
      "Epoch 17/30: 100%|██████████| 5/5 [00:00<00:00,  5.92batch/s]\n"
     ]
    },
    {
     "name": "stdout",
     "output_type": "stream",
     "text": [
      "Epoch 17/30, Loss: 0.1969\n"
     ]
    },
    {
     "name": "stderr",
     "output_type": "stream",
     "text": [
      "Epoch 18/30: 100%|██████████| 5/5 [00:00<00:00,  5.46batch/s]\n"
     ]
    },
    {
     "name": "stdout",
     "output_type": "stream",
     "text": [
      "Epoch 18/30, Loss: 0.1837\n"
     ]
    },
    {
     "name": "stderr",
     "output_type": "stream",
     "text": [
      "Epoch 19/30: 100%|██████████| 5/5 [00:00<00:00,  7.42batch/s]\n"
     ]
    },
    {
     "name": "stdout",
     "output_type": "stream",
     "text": [
      "Epoch 19/30, Loss: 0.1721\n"
     ]
    },
    {
     "name": "stderr",
     "output_type": "stream",
     "text": [
      "Epoch 20/30: 100%|██████████| 5/5 [00:00<00:00,  6.83batch/s]\n"
     ]
    },
    {
     "name": "stdout",
     "output_type": "stream",
     "text": [
      "Epoch 20/30, Loss: 0.1633\n"
     ]
    },
    {
     "name": "stderr",
     "output_type": "stream",
     "text": [
      "Epoch 21/30: 100%|██████████| 5/5 [00:00<00:00,  6.29batch/s]\n"
     ]
    },
    {
     "name": "stdout",
     "output_type": "stream",
     "text": [
      "Epoch 21/30, Loss: 0.1557\n"
     ]
    },
    {
     "name": "stderr",
     "output_type": "stream",
     "text": [
      "Epoch 22/30: 100%|██████████| 5/5 [00:00<00:00,  5.65batch/s]\n"
     ]
    },
    {
     "name": "stdout",
     "output_type": "stream",
     "text": [
      "Epoch 22/30, Loss: 0.1495\n"
     ]
    },
    {
     "name": "stderr",
     "output_type": "stream",
     "text": [
      "Epoch 23/30: 100%|██████████| 5/5 [00:01<00:00,  4.40batch/s]\n"
     ]
    },
    {
     "name": "stdout",
     "output_type": "stream",
     "text": [
      "Epoch 23/30, Loss: 0.1442\n"
     ]
    },
    {
     "name": "stderr",
     "output_type": "stream",
     "text": [
      "Epoch 24/30: 100%|██████████| 5/5 [00:01<00:00,  4.96batch/s]\n"
     ]
    },
    {
     "name": "stdout",
     "output_type": "stream",
     "text": [
      "Epoch 24/30, Loss: 0.1396\n"
     ]
    },
    {
     "name": "stderr",
     "output_type": "stream",
     "text": [
      "Epoch 25/30: 100%|██████████| 5/5 [00:00<00:00,  6.22batch/s]\n"
     ]
    },
    {
     "name": "stdout",
     "output_type": "stream",
     "text": [
      "Epoch 25/30, Loss: 0.1357\n"
     ]
    },
    {
     "name": "stderr",
     "output_type": "stream",
     "text": [
      "Epoch 26/30: 100%|██████████| 5/5 [00:00<00:00,  7.38batch/s]\n"
     ]
    },
    {
     "name": "stdout",
     "output_type": "stream",
     "text": [
      "Epoch 26/30, Loss: 0.1323\n"
     ]
    },
    {
     "name": "stderr",
     "output_type": "stream",
     "text": [
      "Epoch 27/30: 100%|██████████| 5/5 [00:00<00:00,  7.21batch/s]\n"
     ]
    },
    {
     "name": "stdout",
     "output_type": "stream",
     "text": [
      "Epoch 27/30, Loss: 0.1290\n"
     ]
    },
    {
     "name": "stderr",
     "output_type": "stream",
     "text": [
      "Epoch 28/30: 100%|██████████| 5/5 [00:00<00:00,  6.11batch/s]\n"
     ]
    },
    {
     "name": "stdout",
     "output_type": "stream",
     "text": [
      "Epoch 28/30, Loss: 0.1262\n"
     ]
    },
    {
     "name": "stderr",
     "output_type": "stream",
     "text": [
      "Epoch 29/30: 100%|██████████| 5/5 [00:00<00:00,  5.42batch/s]\n"
     ]
    },
    {
     "name": "stdout",
     "output_type": "stream",
     "text": [
      "Epoch 29/30, Loss: 0.1236\n"
     ]
    },
    {
     "name": "stderr",
     "output_type": "stream",
     "text": [
      "Epoch 30/30: 100%|██████████| 5/5 [00:00<00:00,  6.91batch/s]"
     ]
    },
    {
     "name": "stdout",
     "output_type": "stream",
     "text": [
      "Epoch 30/30, Loss: 0.1213\n"
     ]
    },
    {
     "name": "stderr",
     "output_type": "stream",
     "text": [
      "\n"
     ]
    }
   ],
   "source": [
    "train_model(model, train_loader, criterion, optimizer, num_epochs=30)"
   ]
  },
  {
   "cell_type": "markdown",
   "id": "021bf336-26df-4555-8700-362c26cafc86",
   "metadata": {},
   "source": [
    "Save the trained model so it can be used to run predictions."
   ]
  },
  {
   "cell_type": "code",
   "execution_count": 17,
   "id": "d1fdaa0a-74f4-433f-87e7-62f4760f2a39",
   "metadata": {},
   "outputs": [],
   "source": [
    "# Save the model's state dictionary\n",
    "torch.save(model.state_dict(), '/explore/nobackup/people/sking11/resnet152_model_checkpoint_10.pth')\n",
    "\n",
    "# Save the entire model\n",
    "torch.save(model, '/explore/nobackup/people/sking11/resnet152_model_10.pth')"
   ]
  },
  {
   "cell_type": "markdown",
   "id": "1cf31a66-4ce0-4f13-8d01-2954b24aae91",
   "metadata": {},
   "source": [
    "# Performing Inference on single tile for dataset"
   ]
  },
  {
   "cell_type": "markdown",
   "id": "cc9b10e5-f3db-439a-9577-bc0ed4768461",
   "metadata": {},
   "source": [
    "Let's first load in the model"
   ]
  },
  {
   "cell_type": "code",
   "execution_count": 77,
   "id": "0f5aeeac-532e-4b88-b62d-f8c750547de7",
   "metadata": {},
   "outputs": [
    {
     "name": "stderr",
     "output_type": "stream",
     "text": [
      "/tmp/ipykernel_2729556/1423909167.py:2: FutureWarning: You are using `torch.load` with `weights_only=False` (the current default value), which uses the default pickle module implicitly. It is possible to construct malicious pickle data which will execute arbitrary code during unpickling (See https://github.com/pytorch/pytorch/blob/main/SECURITY.md#untrusted-models for more details). In a future release, the default value for `weights_only` will be flipped to `True`. This limits the functions that could be executed during unpickling. Arbitrary objects will no longer be allowed to be loaded via this mode unless they are explicitly allowlisted by the user via `torch.serialization.add_safe_globals`. We recommend you start setting `weights_only=True` for any use case where you don't have full control of the loaded file. Please open an issue on GitHub for any issues related to this experimental feature.\n",
      "  model = torch.load('/explore/nobackup/people/sking11/resnet152_model_10.pth')\n"
     ]
    }
   ],
   "source": [
    "# Load the entire model\n",
    "model = torch.load('/explore/nobackup/people/sking11/resnet152_model_10.pth')\n",
    "model.eval()\n",
    "device = torch.device(\"cuda:2\" if torch.cuda.is_available() else \"cpu\")\n",
    "model = model.to(device)"
   ]
  },
  {
   "cell_type": "markdown",
   "id": "c173a790-f1ef-4ac7-9853-2e0b2279f4fa",
   "metadata": {},
   "source": [
    "then set the device we want to run the model on "
   ]
  },
  {
   "cell_type": "markdown",
   "id": "6c33bc2e-f6f7-4b71-bbc2-c06a7534d106",
   "metadata": {},
   "source": [
    "Here we load in an image, convert the image to a tensor, ensure the values are in the correct order, and check the shape of the validation image and converted tensor."
   ]
  },
  {
   "cell_type": "code",
   "execution_count": 78,
   "id": "bd686e57-77e8-4dd4-b508-9a10c8d1cf3e",
   "metadata": {},
   "outputs": [
    {
     "name": "stdout",
     "output_type": "stream",
     "text": [
      "torch.Size([3, 448, 448])\n",
      "torch.Size([1, 3, 448, 448])\n"
     ]
    },
    {
     "name": "stderr",
     "output_type": "stream",
     "text": [
      "/tmp/ipykernel_2729556/4093021473.py:8: UserWarning: To copy construct from a tensor, it is recommended to use sourceTensor.clone().detach() or sourceTensor.clone().detach().requires_grad_(True), rather than torch.tensor(sourceTensor).\n",
      "  pixel_values = torch.tensor(val_image).permute(0, 1, 2)\n"
     ]
    }
   ],
   "source": [
    "# Extract the image from the dataset\n",
    "val_image, _ = val_dataset[300]  # Change index as needed\n",
    "\n",
    "# Check the shape of val_image\n",
    "print(val_image.shape)  # Should be [height, width, num_channels]\n",
    "\n",
    "# Convert to tensor and permute to [num_channels, height, width]\n",
    "pixel_values = torch.tensor(val_image).permute(0, 1, 2)  \n",
    "\n",
    "# Add the batch dimension\n",
    "pixel_values = pixel_values.unsqueeze(0)  # Final shape should be [1, 3, 448, 448]\n",
    "\n",
    "# Verify the shape\n",
    "print(pixel_values.shape)  # Should be [1, 3, 448, 448]"
   ]
  },
  {
   "cell_type": "markdown",
   "id": "ab7b239d-d3d7-4270-917f-e44f71d0984b",
   "metadata": {},
   "source": [
    "Run and plot the probability mask and the predicted mask generated by our model predictions. "
   ]
  },
  {
   "cell_type": "code",
   "execution_count": 79,
   "id": "45816885-f55b-42ad-a8bc-0e11c7d75ca7",
   "metadata": {},
   "outputs": [
    {
     "data": {
      "image/png": "[encoded data removed]",
      "text/plain": [
       "<Figure size 1000x500 with 2 Axes>"
      ]
     },
     "metadata": {},
     "output_type": "display_data"
    }
   ],
   "source": [
    "model.eval()  # Set the model to evaluation mode\n",
    "\n",
    "with torch.no_grad():\n",
    "    outputs = model(pixel_values.to(device))  # Forward pass through the model\n",
    "\n",
    "# Upsample the output to match the original image size, if necessary\n",
    "upsampled_logits = torch.nn.functional.interpolate(outputs,\n",
    "                                                   size=(448, 448),\n",
    "                                                   mode='bilinear', align_corners=False)\n",
    "\n",
    "# Convert the logits to probabilities\n",
    "predicted_probabilities = torch.sigmoid(upsampled_logits).squeeze().cpu().numpy()\n",
    "\n",
    "# Convert probabilities to binary mask\n",
    "predicted_binary_mask = (predicted_probabilities > 0.5).astype(np.uint8)\n",
    "\n",
    "# Plot both the probability map and the binary mask side-by-side\n",
    "plt.figure(figsize=(10, 5))\n",
    "\n",
    "# Plot the probability map\n",
    "plt.subplot(1, 2, 1)\n",
    "plt.imshow(predicted_probabilities, cmap='gray')\n",
    "plt.title('Probability Map')\n",
    "plt.axis('off')\n",
    "\n",
    "# Plot the binary mask\n",
    "plt.subplot(1, 2, 2)\n",
    "plt.imshow(predicted_binary_mask, cmap='gray')\n",
    "plt.title('Binary Mask')\n",
    "plt.axis('off')\n",
    "\n",
    "plt.show()"
   ]
  },
  {
   "cell_type": "markdown",
   "id": "9d78ac2a-53fb-4e81-b471-a9b5d302bd7c",
   "metadata": {},
   "source": [
    "Save the binary mask as an image with PIL. "
   ]
  },
  {
   "cell_type": "code",
   "execution_count": 80,
   "id": "1a857df0-46d7-4a66-986e-e854a55507c3",
   "metadata": {},
   "outputs": [],
   "source": [
    "binary_mask_image = Image.fromarray(predicted_binary_mask * 255)  # Scale binary mask to 0-255\n",
    "binary_mask_image.save('/explore/nobackup/people/sking11/saved_figures/predictedmaskRESNET152_10.png')"
   ]
  },
  {
   "cell_type": "markdown",
   "id": "a1c38bcb-afa5-4803-8c57-575a6721f1f8",
   "metadata": {},
   "source": [
    "# Running Model Statistics using our evaluation dataset"
   ]
  },
  {
   "cell_type": "markdown",
   "id": "a8512be9-7680-4574-97c0-9c89223acb43",
   "metadata": {},
   "source": [
    "In order to run model statistics, we need to first get predictions for a validation/test dataset of images. The following block will run model predictions on an entire set of images and save them to a numpy list."
   ]
  },
  {
   "cell_type": "code",
   "execution_count": 81,
   "id": "51bfc1a5-f378-4499-80e3-e2fd3547a65e",
   "metadata": {},
   "outputs": [
    {
     "name": "stderr",
     "output_type": "stream",
     "text": [
      "Running predictions: 100%|██████████| 653/653 [01:31<00:00,  7.14it/s]\n"
     ]
    }
   ],
   "source": [
    "model.eval()  # Set the model to evaluation mode\n",
    "predicted_arrays = []  # List to store the predicted arrays\n",
    "\n",
    "with torch.no_grad():\n",
    "    for i, (images, _) in enumerate(tqdm(val_loader, desc=\"Running predictions\")):\n",
    "        images = images.to(device)\n",
    "        outputs = model(images)\n",
    "        \n",
    "        # Iterate through each image in the batch\n",
    "        for j in range(outputs.size(0)):\n",
    "            predicted_map = outputs[j].squeeze(0)  # Assuming it's a single-channel output\n",
    "            predicted_map_np = predicted_map.cpu().numpy()\n",
    "            \n",
    "            # Apply threshold to convert to binary\n",
    "            predicted_map_np = (predicted_map_np > 0.5).astype(np.uint8)\n",
    "            \n",
    "            # Optionally, convert to 8-bit integers if needed\n",
    "            # predicted_map_np = (predicted_map_np * 255).astype(np.uint8)\n",
    "            \n",
    "            # Save the numpy array to the list\n",
    "            predicted_arrays.append(predicted_map_np)"
   ]
  },
  {
   "cell_type": "markdown",
   "id": "10386079-af73-4c3d-a40f-44d3a1f59ba8",
   "metadata": {},
   "source": [
    "We grab the validation masks from the validation dataset and also save those in a numpy array so that they can be compared to the predicted masks. "
   ]
  },
  {
   "cell_type": "code",
   "execution_count": 35,
   "id": "98bf76a5-2cea-4a67-9c2d-36dc47e45f01",
   "metadata": {},
   "outputs": [
    {
     "name": "stderr",
     "output_type": "stream",
     "text": [
      "Processing validation masks: 100%|██████████| 653/653 [01:05<00:00,  9.94it/s]\n"
     ]
    }
   ],
   "source": [
    "val_masks_list = []\n",
    "\n",
    "# Iterate over the validation dataset\n",
    "for idx in tqdm(range(len(val_dataset)), desc=\"Processing validation masks\"):\n",
    "    _, mask = val_dataset[idx]  # Get the mask from the dataset\n",
    "    \n",
    "    # Convert mask tensor to NumPy array\n",
    "    mask_np = mask.squeeze(0).cpu().numpy()  # Remove channel dimension and move to CPU if necessary\n",
    "    \n",
    "    # Ensure mask values are binary (0 or 1)\n",
    "    mask_np = (mask_np > 0.5).astype(np.uint8)\n",
    "    \n",
    "    # Append to the list\n",
    "    val_masks_list.append(mask_np)"
   ]
  },
  {
   "cell_type": "markdown",
   "id": "765d70b0-dfc1-4a12-b01c-5210df00cdb1",
   "metadata": {},
   "source": [
    "Calculate the total pixel accuracy fraction across the whole dataset. "
   ]
  },
  {
   "cell_type": "code",
   "execution_count": 82,
   "id": "e02ea7ff-23d1-4453-a972-46b067d588c2",
   "metadata": {},
   "outputs": [
    {
     "name": "stdout",
     "output_type": "stream",
     "text": [
      "Average Accuracy: 0.9319381363359016\n"
     ]
    }
   ],
   "source": [
    "accuracies = []\n",
    "\n",
    "# Loop through each pair of predicted and original masks\n",
    "for predicted_mask, original_mask in zip(predicted_arrays, val_masks_list):\n",
    "    # Ensure both masks have the same shape\n",
    "    assert predicted_mask.shape == original_mask.shape, \"Shape mismatch between predicted and original masks\"\n",
    "    \n",
    "    # Calculate the accuracy for the current pair of masks\n",
    "    accuracy = np.mean(predicted_mask == original_mask)\n",
    "    accuracies.append(accuracy)\n",
    "\n",
    "# Calculate the mean accuracy\n",
    "mean_accuracy = np.mean(accuracies)\n",
    "average_accuracy = np.average(accuracies)\n",
    "\n",
    "print(f'Average Accuracy: {average_accuracy}')"
   ]
  },
  {
   "cell_type": "code",
   "execution_count": 83,
   "id": "1e6050f0-18eb-412a-a9ec-fd2600e66059",
   "metadata": {},
   "outputs": [
    {
     "name": "stdout",
     "output_type": "stream",
     "text": [
      "Total Accuracy: 0.9319381363359016\n"
     ]
    }
   ],
   "source": [
    "# Initialize counters for total correct predictions and total pixels\n",
    "total_correct = 0\n",
    "total_pixels = 0\n",
    "\n",
    "# Loop through each pair of predicted and original masks\n",
    "for predicted_mask, original_mask in zip(predicted_arrays, val_masks_list):\n",
    "    # Ensure both masks have the same shape\n",
    "    assert predicted_mask.shape == original_mask.shape, \"Shape mismatch between predicted and original masks\"\n",
    "    \n",
    "    # Flatten the masks to 1D arrays for easier comparison\n",
    "    predicted_mask_flat = predicted_mask.flatten()\n",
    "    original_mask_flat = original_mask.flatten()\n",
    "    \n",
    "    # Count the number of correct predictions\n",
    "    total_correct += np.sum(predicted_mask_flat == original_mask_flat)\n",
    "    \n",
    "    # Count the total number of pixels\n",
    "    total_pixels += original_mask_flat.size\n",
    "\n",
    "# Calculate the total accuracy\n",
    "total_accuracy = total_correct / total_pixels\n",
    "\n",
    "print(f'Total Accuracy: {total_accuracy}')"
   ]
  },
  {
   "cell_type": "markdown",
   "id": "0f239d71-5723-4cfb-8b3f-2104df9f1c65",
   "metadata": {},
   "source": [
    "Calculate the mean IoU across the whole dataset. "
   ]
  },
  {
   "cell_type": "code",
   "execution_count": 84,
   "id": "50f9ea66-088e-49d0-9861-5de16f8df96f",
   "metadata": {},
   "outputs": [
    {
     "name": "stdout",
     "output_type": "stream",
     "text": [
      "Mean IoU: 0.0000\n"
     ]
    }
   ],
   "source": [
    "import numpy as np\n",
    "\n",
    "def calculate_iou(predicted_mask, actual_mask):\n",
    "    # Ensure the masks are binary (0 and 1)\n",
    "    predicted_mask = (predicted_mask > 0.5).astype(np.uint8)\n",
    "    actual_mask = (actual_mask > 0.5).astype(np.uint8)\n",
    "\n",
    "    # Calculate intersection and union\n",
    "    intersection = np.logical_and(predicted_mask, actual_mask)\n",
    "    union = np.logical_or(predicted_mask, actual_mask)\n",
    "\n",
    "    # Compute IoU\n",
    "    iou = np.sum(intersection) / np.sum(union)\n",
    "    return iou\n",
    "\n",
    "def calculate_mean_iou(predicted_masks, actual_masks):\n",
    "    ious = []\n",
    "\n",
    "    for pred, actual in zip(predicted_masks, actual_masks):\n",
    "        iou = calculate_iou(pred, actual)\n",
    "        ious.append(iou)\n",
    "\n",
    "    mean_iou = np.mean(ious)\n",
    "    return mean_iou\n",
    "\n",
    "mean_iou = calculate_mean_iou(predicted_arrays, val_masks_list)\n",
    "print(f\"Mean IoU: {mean_iou:.4f}\")"
   ]
  },
  {
   "cell_type": "markdown",
   "id": "c4fae960-9d9a-4d0a-9ba5-cab4abd4f7cd",
   "metadata": {},
   "source": [
    "Calculate the confusion matrix across the whole dataset. "
   ]
  },
  {
   "cell_type": "code",
   "execution_count": 85,
   "id": "fc282493-d59e-42a7-8df7-903d0dddc800",
   "metadata": {},
   "outputs": [
    {
     "name": "stdout",
     "output_type": "stream",
     "text": [
      "Confusion Matrix:\n",
      "[[39882285      382]\n",
      " [ 2912326       15]]\n"
     ]
    }
   ],
   "source": [
    "import numpy as np\n",
    "from sklearn.metrics import confusion_matrix\n",
    "\n",
    "# Flatten all masks and concatenate them into single arrays\n",
    "actual_flat = np.concatenate([mask.flatten() for mask in val_masks_list])\n",
    "predicted_flat = np.concatenate([mask.flatten() for mask in predicted_arrays])\n",
    "\n",
    "# Ensure only two classes: 0 and 1\n",
    "assert np.all(np.isin(actual_flat, [0, 1])), \"Actual masks contain values other than 0 and 1\"\n",
    "assert np.all(np.isin(predicted_flat, [0, 1])), \"Predicted masks contain values other than 0 and 1\"\n",
    "\n",
    "# Calculate the confusion matrix\n",
    "conf_matrix = confusion_matrix(actual_flat, predicted_flat, labels=[0, 1])\n",
    "\n",
    "print(\"Confusion Matrix:\")\n",
    "print(conf_matrix)"
   ]
  },
  {
   "cell_type": "markdown",
   "id": "07a0a373-5b93-4ab5-9c0e-45b1ae06c02e",
   "metadata": {},
   "source": [
    "Calculate the accuracy per tile. This can be plotted to view and understand the variation in accuracy across the whole dataset."
   ]
  },
  {
   "cell_type": "code",
   "execution_count": null,
   "id": "6aee40fb-55cf-448d-b186-ca42d272139a",
   "metadata": {},
   "outputs": [],
   "source": [
    "# Calculate accuracy for each tile\n",
    "accuracies = []\n",
    "for actual_mask, predicted_mask in zip(val_masks_list, predicted_arrays):\n",
    "    # Ensure both masks have the same shape\n",
    "    assert actual_mask.shape == predicted_mask.shape, \"Mismatch in mask shapes\"\n",
    "    \n",
    "    # Calculate the number of correctly predicted pixels\n",
    "    correct_pixels = np.sum(actual_mask == predicted_mask)\n",
    "    total_pixels = actual_mask.size\n",
    "    accuracy = correct_pixels / total_pixels\n",
    "    \n",
    "    accuracies.append(accuracy)\n",
    "\n",
    "# Now, accuracies contains the accuracy for each tile\n",
    "for idx, acc in enumerate(accuracies):\n",
    "    print(f\"Tile {idx}: Accuracy = {acc:.4f}\")"
   ]
  },
  {
   "cell_type": "markdown",
   "id": "d64a79c5-331a-41c6-b82d-b2b415dca4ed",
   "metadata": {},
   "source": [
    "Save the accuracies into a CSV for later use. "
   ]
  },
  {
   "cell_type": "code",
   "execution_count": 87,
   "id": "4ff52b69-858d-4741-9586-b62f95a4f560",
   "metadata": {},
   "outputs": [],
   "source": [
    "import csv\n",
    "\n",
    "# Specify the full file path\n",
    "file_path = '/explore/nobackup/people/sking11/accuracies/RESNET152_10_accuracies.csv'\n",
    "\n",
    "# Save as CSV using csv module\n",
    "with open(file_path, 'w', newline='') as csvfile:\n",
    "    writer = csv.writer(csvfile)\n",
    "    writer.writerow(['Tile', 'Accuracy'])  # Write the header\n",
    "    for idx, accuracy in enumerate(accuracies):\n",
    "        writer.writerow([idx, accuracy])"
   ]
  },
  {
   "cell_type": "markdown",
   "id": "26dc95a1-dabf-4cea-a8c1-f957e6d76918",
   "metadata": {},
   "source": [
    "Plot the variation in accuracy. "
   ]
  },
  {
   "cell_type": "code",
   "execution_count": 88,
   "id": "762520cb-fe5b-4522-8a92-72ef55da6d29",
   "metadata": {},
   "outputs": [
    {
     "data": {
      "image/png": "[encoded data removed]",
      "text/plain": [
       "<Figure size 1000x1000 with 1 Axes>"
      ]
     },
     "metadata": {},
     "output_type": "display_data"
    }
   ],
   "source": [
    "import matplotlib.pyplot as plt\n",
    "\n",
    "# Create a box plot\n",
    "plt.figure(figsize=(10, 10))\n",
    "plt.boxplot(accuracies, vert=True, patch_artist=True)\n",
    "\n",
    "# Adding titles and labels with customized font sizes\n",
    "plt.title('Variation in Accuracies (ResNet152, 5000 Training Set Size)', fontsize=17)\n",
    "plt.ylabel('Accuracy', fontsize=15)\n",
    "\n",
    "# Optional: Customize the plot\n",
    "plt.xticks([1], ['Tile Accuracies'], fontsize=15)  # Since there's only one box plot\n",
    "plt.grid(True)\n",
    "\n",
    "# Display the plot\n",
    "plt.show()"
   ]
  },
  {
   "cell_type": "code",
   "execution_count": null,
   "id": "bbc400ee-b100-462c-8573-d6a7e7c8525e",
   "metadata": {},
   "outputs": [],
   "source": []
  }
 ],
 "metadata": {
  "kernelspec": {
   "display_name": "dino_env",
   "language": "python",
   "name": "dino_env"
  },
  "language_info": {
   "codemirror_mode": {
    "name": "ipython",
    "version": 3
   },
   "file_extension": ".py",
   "mimetype": "text/x-python",
   "name": "python",
   "nbconvert_exporter": "python",
   "pygments_lexer": "ipython3",
   "version": "3.12.4"
  }
 },
 "nbformat": 4,
 "nbformat_minor": 5
}
